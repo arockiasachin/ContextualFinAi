{
  "nbformat": 4,
  "nbformat_minor": 0,
  "metadata": {
    "colab": {
      "provenance": [],
      "collapsed_sections": [
        "V-dZxJt-nRUI",
        "TxX63WN3oioS",
        "xHZY9D-opacN",
        "D2bt1Na5qpKq",
        "YHnIytGrJrQO"
      ],
      "mount_file_id": "1yqbZPQW5nAVMlwGJCQWJRlypv8rvtO4u",
      "authorship_tag": "ABX9TyNbXZhWtaVHzzhyMJmz0BhS",
      "include_colab_link": true
    },
    "kernelspec": {
      "name": "python3",
      "display_name": "Python 3"
    },
    "language_info": {
      "name": "python"
    },
    "widgets": {
      "application/vnd.jupyter.widget-state+json": {
        "5160437ee08d4f309c8082a813905dde": {
          "model_module": "@jupyter-widgets/controls",
          "model_name": "HBoxModel",
          "model_module_version": "2.0.0",
          "state": {
            "_dom_classes": [],
            "_model_module": "@jupyter-widgets/controls",
            "_model_module_version": "2.0.0",
            "_model_name": "HBoxModel",
            "_view_count": null,
            "_view_module": "@jupyter-widgets/controls",
            "_view_module_version": "2.0.0",
            "_view_name": "HBoxView",
            "box_style": "",
            "children": [
              "IPY_MODEL_b9c5def20c8844409653bf9c1cf7d05f",
              "IPY_MODEL_50d2f0a9b2184d5ebe48f4bb928b185c",
              "IPY_MODEL_9db66878c48e44f5b2699e134dc75055"
            ],
            "layout": "IPY_MODEL_0bbe536da80f4f28b8aeaa95dfa8dcca",
            "tabbable": null,
            "tooltip": null
          }
        },
        "b9c5def20c8844409653bf9c1cf7d05f": {
          "model_module": "@jupyter-widgets/controls",
          "model_name": "HTMLModel",
          "model_module_version": "2.0.0",
          "state": {
            "_dom_classes": [],
            "_model_module": "@jupyter-widgets/controls",
            "_model_module_version": "2.0.0",
            "_model_name": "HTMLModel",
            "_view_count": null,
            "_view_module": "@jupyter-widgets/controls",
            "_view_module_version": "2.0.0",
            "_view_name": "HTMLView",
            "description": "",
            "description_allow_html": false,
            "layout": "IPY_MODEL_7c973d24a0a04ee88ba605e02bacf51b",
            "placeholder": "​",
            "style": "IPY_MODEL_0a68e184fa1e440e940ba255419da5af",
            "tabbable": null,
            "tooltip": null,
            "value": "Fetching 5 files: 100%"
          }
        },
        "50d2f0a9b2184d5ebe48f4bb928b185c": {
          "model_module": "@jupyter-widgets/controls",
          "model_name": "FloatProgressModel",
          "model_module_version": "2.0.0",
          "state": {
            "_dom_classes": [],
            "_model_module": "@jupyter-widgets/controls",
            "_model_module_version": "2.0.0",
            "_model_name": "FloatProgressModel",
            "_view_count": null,
            "_view_module": "@jupyter-widgets/controls",
            "_view_module_version": "2.0.0",
            "_view_name": "ProgressView",
            "bar_style": "success",
            "description": "",
            "description_allow_html": false,
            "layout": "IPY_MODEL_ff2e038ef81c47b5b002fffa3ad96269",
            "max": 5,
            "min": 0,
            "orientation": "horizontal",
            "style": "IPY_MODEL_2e344319ca024bf697dafeb217aded45",
            "tabbable": null,
            "tooltip": null,
            "value": 5
          }
        },
        "9db66878c48e44f5b2699e134dc75055": {
          "model_module": "@jupyter-widgets/controls",
          "model_name": "HTMLModel",
          "model_module_version": "2.0.0",
          "state": {
            "_dom_classes": [],
            "_model_module": "@jupyter-widgets/controls",
            "_model_module_version": "2.0.0",
            "_model_name": "HTMLModel",
            "_view_count": null,
            "_view_module": "@jupyter-widgets/controls",
            "_view_module_version": "2.0.0",
            "_view_name": "HTMLView",
            "description": "",
            "description_allow_html": false,
            "layout": "IPY_MODEL_60a6023bfc1f4c148e134cfdf4099775",
            "placeholder": "​",
            "style": "IPY_MODEL_2162fce896dc4d0787f252ca49b9f1f2",
            "tabbable": null,
            "tooltip": null,
            "value": " 5/5 [00:00&lt;00:00, 555.18it/s]"
          }
        },
        "0bbe536da80f4f28b8aeaa95dfa8dcca": {
          "model_module": "@jupyter-widgets/base",
          "model_name": "LayoutModel",
          "model_module_version": "2.0.0",
          "state": {
            "_model_module": "@jupyter-widgets/base",
            "_model_module_version": "2.0.0",
            "_model_name": "LayoutModel",
            "_view_count": null,
            "_view_module": "@jupyter-widgets/base",
            "_view_module_version": "2.0.0",
            "_view_name": "LayoutView",
            "align_content": null,
            "align_items": null,
            "align_self": null,
            "border_bottom": null,
            "border_left": null,
            "border_right": null,
            "border_top": null,
            "bottom": null,
            "display": null,
            "flex": null,
            "flex_flow": null,
            "grid_area": null,
            "grid_auto_columns": null,
            "grid_auto_flow": null,
            "grid_auto_rows": null,
            "grid_column": null,
            "grid_gap": null,
            "grid_row": null,
            "grid_template_areas": null,
            "grid_template_columns": null,
            "grid_template_rows": null,
            "height": null,
            "justify_content": null,
            "justify_items": null,
            "left": null,
            "margin": null,
            "max_height": null,
            "max_width": null,
            "min_height": null,
            "min_width": null,
            "object_fit": null,
            "object_position": null,
            "order": null,
            "overflow": null,
            "padding": null,
            "right": null,
            "top": null,
            "visibility": null,
            "width": null
          }
        },
        "7c973d24a0a04ee88ba605e02bacf51b": {
          "model_module": "@jupyter-widgets/base",
          "model_name": "LayoutModel",
          "model_module_version": "2.0.0",
          "state": {
            "_model_module": "@jupyter-widgets/base",
            "_model_module_version": "2.0.0",
            "_model_name": "LayoutModel",
            "_view_count": null,
            "_view_module": "@jupyter-widgets/base",
            "_view_module_version": "2.0.0",
            "_view_name": "LayoutView",
            "align_content": null,
            "align_items": null,
            "align_self": null,
            "border_bottom": null,
            "border_left": null,
            "border_right": null,
            "border_top": null,
            "bottom": null,
            "display": null,
            "flex": null,
            "flex_flow": null,
            "grid_area": null,
            "grid_auto_columns": null,
            "grid_auto_flow": null,
            "grid_auto_rows": null,
            "grid_column": null,
            "grid_gap": null,
            "grid_row": null,
            "grid_template_areas": null,
            "grid_template_columns": null,
            "grid_template_rows": null,
            "height": null,
            "justify_content": null,
            "justify_items": null,
            "left": null,
            "margin": null,
            "max_height": null,
            "max_width": null,
            "min_height": null,
            "min_width": null,
            "object_fit": null,
            "object_position": null,
            "order": null,
            "overflow": null,
            "padding": null,
            "right": null,
            "top": null,
            "visibility": null,
            "width": null
          }
        },
        "0a68e184fa1e440e940ba255419da5af": {
          "model_module": "@jupyter-widgets/controls",
          "model_name": "HTMLStyleModel",
          "model_module_version": "2.0.0",
          "state": {
            "_model_module": "@jupyter-widgets/controls",
            "_model_module_version": "2.0.0",
            "_model_name": "HTMLStyleModel",
            "_view_count": null,
            "_view_module": "@jupyter-widgets/base",
            "_view_module_version": "2.0.0",
            "_view_name": "StyleView",
            "background": null,
            "description_width": "",
            "font_size": null,
            "text_color": null
          }
        },
        "ff2e038ef81c47b5b002fffa3ad96269": {
          "model_module": "@jupyter-widgets/base",
          "model_name": "LayoutModel",
          "model_module_version": "2.0.0",
          "state": {
            "_model_module": "@jupyter-widgets/base",
            "_model_module_version": "2.0.0",
            "_model_name": "LayoutModel",
            "_view_count": null,
            "_view_module": "@jupyter-widgets/base",
            "_view_module_version": "2.0.0",
            "_view_name": "LayoutView",
            "align_content": null,
            "align_items": null,
            "align_self": null,
            "border_bottom": null,
            "border_left": null,
            "border_right": null,
            "border_top": null,
            "bottom": null,
            "display": null,
            "flex": null,
            "flex_flow": null,
            "grid_area": null,
            "grid_auto_columns": null,
            "grid_auto_flow": null,
            "grid_auto_rows": null,
            "grid_column": null,
            "grid_gap": null,
            "grid_row": null,
            "grid_template_areas": null,
            "grid_template_columns": null,
            "grid_template_rows": null,
            "height": null,
            "justify_content": null,
            "justify_items": null,
            "left": null,
            "margin": null,
            "max_height": null,
            "max_width": null,
            "min_height": null,
            "min_width": null,
            "object_fit": null,
            "object_position": null,
            "order": null,
            "overflow": null,
            "padding": null,
            "right": null,
            "top": null,
            "visibility": null,
            "width": null
          }
        },
        "2e344319ca024bf697dafeb217aded45": {
          "model_module": "@jupyter-widgets/controls",
          "model_name": "ProgressStyleModel",
          "model_module_version": "2.0.0",
          "state": {
            "_model_module": "@jupyter-widgets/controls",
            "_model_module_version": "2.0.0",
            "_model_name": "ProgressStyleModel",
            "_view_count": null,
            "_view_module": "@jupyter-widgets/base",
            "_view_module_version": "2.0.0",
            "_view_name": "StyleView",
            "bar_color": null,
            "description_width": ""
          }
        },
        "60a6023bfc1f4c148e134cfdf4099775": {
          "model_module": "@jupyter-widgets/base",
          "model_name": "LayoutModel",
          "model_module_version": "2.0.0",
          "state": {
            "_model_module": "@jupyter-widgets/base",
            "_model_module_version": "2.0.0",
            "_model_name": "LayoutModel",
            "_view_count": null,
            "_view_module": "@jupyter-widgets/base",
            "_view_module_version": "2.0.0",
            "_view_name": "LayoutView",
            "align_content": null,
            "align_items": null,
            "align_self": null,
            "border_bottom": null,
            "border_left": null,
            "border_right": null,
            "border_top": null,
            "bottom": null,
            "display": null,
            "flex": null,
            "flex_flow": null,
            "grid_area": null,
            "grid_auto_columns": null,
            "grid_auto_flow": null,
            "grid_auto_rows": null,
            "grid_column": null,
            "grid_gap": null,
            "grid_row": null,
            "grid_template_areas": null,
            "grid_template_columns": null,
            "grid_template_rows": null,
            "height": null,
            "justify_content": null,
            "justify_items": null,
            "left": null,
            "margin": null,
            "max_height": null,
            "max_width": null,
            "min_height": null,
            "min_width": null,
            "object_fit": null,
            "object_position": null,
            "order": null,
            "overflow": null,
            "padding": null,
            "right": null,
            "top": null,
            "visibility": null,
            "width": null
          }
        },
        "2162fce896dc4d0787f252ca49b9f1f2": {
          "model_module": "@jupyter-widgets/controls",
          "model_name": "HTMLStyleModel",
          "model_module_version": "2.0.0",
          "state": {
            "_model_module": "@jupyter-widgets/controls",
            "_model_module_version": "2.0.0",
            "_model_name": "HTMLStyleModel",
            "_view_count": null,
            "_view_module": "@jupyter-widgets/base",
            "_view_module_version": "2.0.0",
            "_view_name": "StyleView",
            "background": null,
            "description_width": "",
            "font_size": null,
            "text_color": null
          }
        },
        "f4eefd6c33eb414e82204bd33f74eb64": {
          "model_module": "@jupyter-widgets/controls",
          "model_name": "HBoxModel",
          "model_module_version": "1.5.0",
          "state": {
            "_dom_classes": [],
            "_model_module": "@jupyter-widgets/controls",
            "_model_module_version": "1.5.0",
            "_model_name": "HBoxModel",
            "_view_count": null,
            "_view_module": "@jupyter-widgets/controls",
            "_view_module_version": "1.5.0",
            "_view_name": "HBoxView",
            "box_style": "",
            "children": [
              "IPY_MODEL_5a05a60aae19496d8b08b40302dc1d46",
              "IPY_MODEL_61b59b42d592496cab656cff69068924",
              "IPY_MODEL_5fa26c504f1749c88194475f84b61d50"
            ],
            "layout": "IPY_MODEL_feebf8b89d7743a08323491264be639d"
          }
        },
        "5a05a60aae19496d8b08b40302dc1d46": {
          "model_module": "@jupyter-widgets/controls",
          "model_name": "HTMLModel",
          "model_module_version": "1.5.0",
          "state": {
            "_dom_classes": [],
            "_model_module": "@jupyter-widgets/controls",
            "_model_module_version": "1.5.0",
            "_model_name": "HTMLModel",
            "_view_count": null,
            "_view_module": "@jupyter-widgets/controls",
            "_view_module_version": "1.5.0",
            "_view_name": "HTMLView",
            "description": "",
            "description_tooltip": null,
            "layout": "IPY_MODEL_00178d71c3284143ae43f7ff22b1b7cf",
            "placeholder": "​",
            "style": "IPY_MODEL_93ccac2dd9934854ac29f5dd1cdf15ae",
            "value": "Fetching 29 files: 100%"
          }
        },
        "61b59b42d592496cab656cff69068924": {
          "model_module": "@jupyter-widgets/controls",
          "model_name": "FloatProgressModel",
          "model_module_version": "1.5.0",
          "state": {
            "_dom_classes": [],
            "_model_module": "@jupyter-widgets/controls",
            "_model_module_version": "1.5.0",
            "_model_name": "FloatProgressModel",
            "_view_count": null,
            "_view_module": "@jupyter-widgets/controls",
            "_view_module_version": "1.5.0",
            "_view_name": "ProgressView",
            "bar_style": "success",
            "description": "",
            "description_tooltip": null,
            "layout": "IPY_MODEL_ac4dd63abfb045ef86941bf784d51b18",
            "max": 29,
            "min": 0,
            "orientation": "horizontal",
            "style": "IPY_MODEL_06dca8fc49c648ef98ff208c966762a1",
            "value": 29
          }
        },
        "5fa26c504f1749c88194475f84b61d50": {
          "model_module": "@jupyter-widgets/controls",
          "model_name": "HTMLModel",
          "model_module_version": "1.5.0",
          "state": {
            "_dom_classes": [],
            "_model_module": "@jupyter-widgets/controls",
            "_model_module_version": "1.5.0",
            "_model_name": "HTMLModel",
            "_view_count": null,
            "_view_module": "@jupyter-widgets/controls",
            "_view_module_version": "1.5.0",
            "_view_name": "HTMLView",
            "description": "",
            "description_tooltip": null,
            "layout": "IPY_MODEL_8ed015d2a84143a297824c4fc3a0c731",
            "placeholder": "​",
            "style": "IPY_MODEL_64cb23f8750343f596b24a34ab1eabf4",
            "value": " 29/29 [00:00&lt;00:00, 924.46it/s]"
          }
        },
        "feebf8b89d7743a08323491264be639d": {
          "model_module": "@jupyter-widgets/base",
          "model_name": "LayoutModel",
          "model_module_version": "1.2.0",
          "state": {
            "_model_module": "@jupyter-widgets/base",
            "_model_module_version": "1.2.0",
            "_model_name": "LayoutModel",
            "_view_count": null,
            "_view_module": "@jupyter-widgets/base",
            "_view_module_version": "1.2.0",
            "_view_name": "LayoutView",
            "align_content": null,
            "align_items": null,
            "align_self": null,
            "border": null,
            "bottom": null,
            "display": null,
            "flex": null,
            "flex_flow": null,
            "grid_area": null,
            "grid_auto_columns": null,
            "grid_auto_flow": null,
            "grid_auto_rows": null,
            "grid_column": null,
            "grid_gap": null,
            "grid_row": null,
            "grid_template_areas": null,
            "grid_template_columns": null,
            "grid_template_rows": null,
            "height": null,
            "justify_content": null,
            "justify_items": null,
            "left": null,
            "margin": null,
            "max_height": null,
            "max_width": null,
            "min_height": null,
            "min_width": null,
            "object_fit": null,
            "object_position": null,
            "order": null,
            "overflow": null,
            "overflow_x": null,
            "overflow_y": null,
            "padding": null,
            "right": null,
            "top": null,
            "visibility": null,
            "width": null
          }
        },
        "00178d71c3284143ae43f7ff22b1b7cf": {
          "model_module": "@jupyter-widgets/base",
          "model_name": "LayoutModel",
          "model_module_version": "1.2.0",
          "state": {
            "_model_module": "@jupyter-widgets/base",
            "_model_module_version": "1.2.0",
            "_model_name": "LayoutModel",
            "_view_count": null,
            "_view_module": "@jupyter-widgets/base",
            "_view_module_version": "1.2.0",
            "_view_name": "LayoutView",
            "align_content": null,
            "align_items": null,
            "align_self": null,
            "border": null,
            "bottom": null,
            "display": null,
            "flex": null,
            "flex_flow": null,
            "grid_area": null,
            "grid_auto_columns": null,
            "grid_auto_flow": null,
            "grid_auto_rows": null,
            "grid_column": null,
            "grid_gap": null,
            "grid_row": null,
            "grid_template_areas": null,
            "grid_template_columns": null,
            "grid_template_rows": null,
            "height": null,
            "justify_content": null,
            "justify_items": null,
            "left": null,
            "margin": null,
            "max_height": null,
            "max_width": null,
            "min_height": null,
            "min_width": null,
            "object_fit": null,
            "object_position": null,
            "order": null,
            "overflow": null,
            "overflow_x": null,
            "overflow_y": null,
            "padding": null,
            "right": null,
            "top": null,
            "visibility": null,
            "width": null
          }
        },
        "93ccac2dd9934854ac29f5dd1cdf15ae": {
          "model_module": "@jupyter-widgets/controls",
          "model_name": "DescriptionStyleModel",
          "model_module_version": "1.5.0",
          "state": {
            "_model_module": "@jupyter-widgets/controls",
            "_model_module_version": "1.5.0",
            "_model_name": "DescriptionStyleModel",
            "_view_count": null,
            "_view_module": "@jupyter-widgets/base",
            "_view_module_version": "1.2.0",
            "_view_name": "StyleView",
            "description_width": ""
          }
        },
        "ac4dd63abfb045ef86941bf784d51b18": {
          "model_module": "@jupyter-widgets/base",
          "model_name": "LayoutModel",
          "model_module_version": "1.2.0",
          "state": {
            "_model_module": "@jupyter-widgets/base",
            "_model_module_version": "1.2.0",
            "_model_name": "LayoutModel",
            "_view_count": null,
            "_view_module": "@jupyter-widgets/base",
            "_view_module_version": "1.2.0",
            "_view_name": "LayoutView",
            "align_content": null,
            "align_items": null,
            "align_self": null,
            "border": null,
            "bottom": null,
            "display": null,
            "flex": null,
            "flex_flow": null,
            "grid_area": null,
            "grid_auto_columns": null,
            "grid_auto_flow": null,
            "grid_auto_rows": null,
            "grid_column": null,
            "grid_gap": null,
            "grid_row": null,
            "grid_template_areas": null,
            "grid_template_columns": null,
            "grid_template_rows": null,
            "height": null,
            "justify_content": null,
            "justify_items": null,
            "left": null,
            "margin": null,
            "max_height": null,
            "max_width": null,
            "min_height": null,
            "min_width": null,
            "object_fit": null,
            "object_position": null,
            "order": null,
            "overflow": null,
            "overflow_x": null,
            "overflow_y": null,
            "padding": null,
            "right": null,
            "top": null,
            "visibility": null,
            "width": null
          }
        },
        "06dca8fc49c648ef98ff208c966762a1": {
          "model_module": "@jupyter-widgets/controls",
          "model_name": "ProgressStyleModel",
          "model_module_version": "1.5.0",
          "state": {
            "_model_module": "@jupyter-widgets/controls",
            "_model_module_version": "1.5.0",
            "_model_name": "ProgressStyleModel",
            "_view_count": null,
            "_view_module": "@jupyter-widgets/base",
            "_view_module_version": "1.2.0",
            "_view_name": "StyleView",
            "bar_color": null,
            "description_width": ""
          }
        },
        "8ed015d2a84143a297824c4fc3a0c731": {
          "model_module": "@jupyter-widgets/base",
          "model_name": "LayoutModel",
          "model_module_version": "1.2.0",
          "state": {
            "_model_module": "@jupyter-widgets/base",
            "_model_module_version": "1.2.0",
            "_model_name": "LayoutModel",
            "_view_count": null,
            "_view_module": "@jupyter-widgets/base",
            "_view_module_version": "1.2.0",
            "_view_name": "LayoutView",
            "align_content": null,
            "align_items": null,
            "align_self": null,
            "border": null,
            "bottom": null,
            "display": null,
            "flex": null,
            "flex_flow": null,
            "grid_area": null,
            "grid_auto_columns": null,
            "grid_auto_flow": null,
            "grid_auto_rows": null,
            "grid_column": null,
            "grid_gap": null,
            "grid_row": null,
            "grid_template_areas": null,
            "grid_template_columns": null,
            "grid_template_rows": null,
            "height": null,
            "justify_content": null,
            "justify_items": null,
            "left": null,
            "margin": null,
            "max_height": null,
            "max_width": null,
            "min_height": null,
            "min_width": null,
            "object_fit": null,
            "object_position": null,
            "order": null,
            "overflow": null,
            "overflow_x": null,
            "overflow_y": null,
            "padding": null,
            "right": null,
            "top": null,
            "visibility": null,
            "width": null
          }
        },
        "64cb23f8750343f596b24a34ab1eabf4": {
          "model_module": "@jupyter-widgets/controls",
          "model_name": "DescriptionStyleModel",
          "model_module_version": "1.5.0",
          "state": {
            "_model_module": "@jupyter-widgets/controls",
            "_model_module_version": "1.5.0",
            "_model_name": "DescriptionStyleModel",
            "_view_count": null,
            "_view_module": "@jupyter-widgets/base",
            "_view_module_version": "1.2.0",
            "_view_name": "StyleView",
            "description_width": ""
          }
        },
        "f64a6200ccc54897a7226244ee964fa0": {
          "model_module": "@jupyter-widgets/controls",
          "model_name": "HBoxModel",
          "model_module_version": "2.0.0",
          "state": {
            "_dom_classes": [],
            "_model_module": "@jupyter-widgets/controls",
            "_model_module_version": "2.0.0",
            "_model_name": "HBoxModel",
            "_view_count": null,
            "_view_module": "@jupyter-widgets/controls",
            "_view_module_version": "2.0.0",
            "_view_name": "HBoxView",
            "box_style": "",
            "children": [
              "IPY_MODEL_bf63dd2ff85c4e6192de517aba1ad551",
              "IPY_MODEL_9f26b7eec5cc426eaf1552042467ea6d",
              "IPY_MODEL_0a89850c2a8d4f378311246ff0fa249d"
            ],
            "layout": "IPY_MODEL_cd8b778f2b7a495c9b8380ca2aa3bef8",
            "tabbable": null,
            "tooltip": null
          }
        },
        "bf63dd2ff85c4e6192de517aba1ad551": {
          "model_module": "@jupyter-widgets/controls",
          "model_name": "HTMLModel",
          "model_module_version": "2.0.0",
          "state": {
            "_dom_classes": [],
            "_model_module": "@jupyter-widgets/controls",
            "_model_module_version": "2.0.0",
            "_model_name": "HTMLModel",
            "_view_count": null,
            "_view_module": "@jupyter-widgets/controls",
            "_view_module_version": "2.0.0",
            "_view_name": "HTMLView",
            "description": "",
            "description_allow_html": false,
            "layout": "IPY_MODEL_3097517abdc145e6a36d35a42a11dfd0",
            "placeholder": "​",
            "style": "IPY_MODEL_e88199a27ddd48b685c8c90d4245bcdf",
            "tabbable": null,
            "tooltip": null,
            "value": "Fetching 29 files: 100%"
          }
        },
        "9f26b7eec5cc426eaf1552042467ea6d": {
          "model_module": "@jupyter-widgets/controls",
          "model_name": "FloatProgressModel",
          "model_module_version": "2.0.0",
          "state": {
            "_dom_classes": [],
            "_model_module": "@jupyter-widgets/controls",
            "_model_module_version": "2.0.0",
            "_model_name": "FloatProgressModel",
            "_view_count": null,
            "_view_module": "@jupyter-widgets/controls",
            "_view_module_version": "2.0.0",
            "_view_name": "ProgressView",
            "bar_style": "success",
            "description": "",
            "description_allow_html": false,
            "layout": "IPY_MODEL_39f81d47117040c88736cd783d73eb53",
            "max": 29,
            "min": 0,
            "orientation": "horizontal",
            "style": "IPY_MODEL_b0f54662674a438d80347f69c822c35e",
            "tabbable": null,
            "tooltip": null,
            "value": 29
          }
        },
        "0a89850c2a8d4f378311246ff0fa249d": {
          "model_module": "@jupyter-widgets/controls",
          "model_name": "HTMLModel",
          "model_module_version": "2.0.0",
          "state": {
            "_dom_classes": [],
            "_model_module": "@jupyter-widgets/controls",
            "_model_module_version": "2.0.0",
            "_model_name": "HTMLModel",
            "_view_count": null,
            "_view_module": "@jupyter-widgets/controls",
            "_view_module_version": "2.0.0",
            "_view_name": "HTMLView",
            "description": "",
            "description_allow_html": false,
            "layout": "IPY_MODEL_38242d4abee24f76abdafc897b46c75d",
            "placeholder": "​",
            "style": "IPY_MODEL_96f30ae4945243ee9aff65ee93727337",
            "tabbable": null,
            "tooltip": null,
            "value": " 29/29 [00:00&lt;00:00, 2417.47it/s]"
          }
        },
        "cd8b778f2b7a495c9b8380ca2aa3bef8": {
          "model_module": "@jupyter-widgets/base",
          "model_name": "LayoutModel",
          "model_module_version": "2.0.0",
          "state": {
            "_model_module": "@jupyter-widgets/base",
            "_model_module_version": "2.0.0",
            "_model_name": "LayoutModel",
            "_view_count": null,
            "_view_module": "@jupyter-widgets/base",
            "_view_module_version": "2.0.0",
            "_view_name": "LayoutView",
            "align_content": null,
            "align_items": null,
            "align_self": null,
            "border_bottom": null,
            "border_left": null,
            "border_right": null,
            "border_top": null,
            "bottom": null,
            "display": null,
            "flex": null,
            "flex_flow": null,
            "grid_area": null,
            "grid_auto_columns": null,
            "grid_auto_flow": null,
            "grid_auto_rows": null,
            "grid_column": null,
            "grid_gap": null,
            "grid_row": null,
            "grid_template_areas": null,
            "grid_template_columns": null,
            "grid_template_rows": null,
            "height": null,
            "justify_content": null,
            "justify_items": null,
            "left": null,
            "margin": null,
            "max_height": null,
            "max_width": null,
            "min_height": null,
            "min_width": null,
            "object_fit": null,
            "object_position": null,
            "order": null,
            "overflow": null,
            "padding": null,
            "right": null,
            "top": null,
            "visibility": null,
            "width": null
          }
        },
        "3097517abdc145e6a36d35a42a11dfd0": {
          "model_module": "@jupyter-widgets/base",
          "model_name": "LayoutModel",
          "model_module_version": "2.0.0",
          "state": {
            "_model_module": "@jupyter-widgets/base",
            "_model_module_version": "2.0.0",
            "_model_name": "LayoutModel",
            "_view_count": null,
            "_view_module": "@jupyter-widgets/base",
            "_view_module_version": "2.0.0",
            "_view_name": "LayoutView",
            "align_content": null,
            "align_items": null,
            "align_self": null,
            "border_bottom": null,
            "border_left": null,
            "border_right": null,
            "border_top": null,
            "bottom": null,
            "display": null,
            "flex": null,
            "flex_flow": null,
            "grid_area": null,
            "grid_auto_columns": null,
            "grid_auto_flow": null,
            "grid_auto_rows": null,
            "grid_column": null,
            "grid_gap": null,
            "grid_row": null,
            "grid_template_areas": null,
            "grid_template_columns": null,
            "grid_template_rows": null,
            "height": null,
            "justify_content": null,
            "justify_items": null,
            "left": null,
            "margin": null,
            "max_height": null,
            "max_width": null,
            "min_height": null,
            "min_width": null,
            "object_fit": null,
            "object_position": null,
            "order": null,
            "overflow": null,
            "padding": null,
            "right": null,
            "top": null,
            "visibility": null,
            "width": null
          }
        },
        "e88199a27ddd48b685c8c90d4245bcdf": {
          "model_module": "@jupyter-widgets/controls",
          "model_name": "HTMLStyleModel",
          "model_module_version": "2.0.0",
          "state": {
            "_model_module": "@jupyter-widgets/controls",
            "_model_module_version": "2.0.0",
            "_model_name": "HTMLStyleModel",
            "_view_count": null,
            "_view_module": "@jupyter-widgets/base",
            "_view_module_version": "2.0.0",
            "_view_name": "StyleView",
            "background": null,
            "description_width": "",
            "font_size": null,
            "text_color": null
          }
        },
        "39f81d47117040c88736cd783d73eb53": {
          "model_module": "@jupyter-widgets/base",
          "model_name": "LayoutModel",
          "model_module_version": "2.0.0",
          "state": {
            "_model_module": "@jupyter-widgets/base",
            "_model_module_version": "2.0.0",
            "_model_name": "LayoutModel",
            "_view_count": null,
            "_view_module": "@jupyter-widgets/base",
            "_view_module_version": "2.0.0",
            "_view_name": "LayoutView",
            "align_content": null,
            "align_items": null,
            "align_self": null,
            "border_bottom": null,
            "border_left": null,
            "border_right": null,
            "border_top": null,
            "bottom": null,
            "display": null,
            "flex": null,
            "flex_flow": null,
            "grid_area": null,
            "grid_auto_columns": null,
            "grid_auto_flow": null,
            "grid_auto_rows": null,
            "grid_column": null,
            "grid_gap": null,
            "grid_row": null,
            "grid_template_areas": null,
            "grid_template_columns": null,
            "grid_template_rows": null,
            "height": null,
            "justify_content": null,
            "justify_items": null,
            "left": null,
            "margin": null,
            "max_height": null,
            "max_width": null,
            "min_height": null,
            "min_width": null,
            "object_fit": null,
            "object_position": null,
            "order": null,
            "overflow": null,
            "padding": null,
            "right": null,
            "top": null,
            "visibility": null,
            "width": null
          }
        },
        "b0f54662674a438d80347f69c822c35e": {
          "model_module": "@jupyter-widgets/controls",
          "model_name": "ProgressStyleModel",
          "model_module_version": "2.0.0",
          "state": {
            "_model_module": "@jupyter-widgets/controls",
            "_model_module_version": "2.0.0",
            "_model_name": "ProgressStyleModel",
            "_view_count": null,
            "_view_module": "@jupyter-widgets/base",
            "_view_module_version": "2.0.0",
            "_view_name": "StyleView",
            "bar_color": null,
            "description_width": ""
          }
        },
        "38242d4abee24f76abdafc897b46c75d": {
          "model_module": "@jupyter-widgets/base",
          "model_name": "LayoutModel",
          "model_module_version": "2.0.0",
          "state": {
            "_model_module": "@jupyter-widgets/base",
            "_model_module_version": "2.0.0",
            "_model_name": "LayoutModel",
            "_view_count": null,
            "_view_module": "@jupyter-widgets/base",
            "_view_module_version": "2.0.0",
            "_view_name": "LayoutView",
            "align_content": null,
            "align_items": null,
            "align_self": null,
            "border_bottom": null,
            "border_left": null,
            "border_right": null,
            "border_top": null,
            "bottom": null,
            "display": null,
            "flex": null,
            "flex_flow": null,
            "grid_area": null,
            "grid_auto_columns": null,
            "grid_auto_flow": null,
            "grid_auto_rows": null,
            "grid_column": null,
            "grid_gap": null,
            "grid_row": null,
            "grid_template_areas": null,
            "grid_template_columns": null,
            "grid_template_rows": null,
            "height": null,
            "justify_content": null,
            "justify_items": null,
            "left": null,
            "margin": null,
            "max_height": null,
            "max_width": null,
            "min_height": null,
            "min_width": null,
            "object_fit": null,
            "object_position": null,
            "order": null,
            "overflow": null,
            "padding": null,
            "right": null,
            "top": null,
            "visibility": null,
            "width": null
          }
        },
        "96f30ae4945243ee9aff65ee93727337": {
          "model_module": "@jupyter-widgets/controls",
          "model_name": "HTMLStyleModel",
          "model_module_version": "2.0.0",
          "state": {
            "_model_module": "@jupyter-widgets/controls",
            "_model_module_version": "2.0.0",
            "_model_name": "HTMLStyleModel",
            "_view_count": null,
            "_view_module": "@jupyter-widgets/base",
            "_view_module_version": "2.0.0",
            "_view_name": "StyleView",
            "background": null,
            "description_width": "",
            "font_size": null,
            "text_color": null
          }
        }
      }
    }
  },
  "cells": [
    {
      "cell_type": "markdown",
      "metadata": {
        "id": "view-in-github",
        "colab_type": "text"
      },
      "source": [
        "<a href=\"https://colab.research.google.com/github/arockiasachin/ContextualFinAi/blob/main/Qdrant.ipynb\" target=\"_parent\"><img src=\"https://colab.research.google.com/assets/colab-badge.svg\" alt=\"Open In Colab\"/></a>"
      ]
    },
    {
      "cell_type": "markdown",
      "source": [
        "# Setup"
      ],
      "metadata": {
        "id": "A-5dHwipmUvC"
      }
    },
    {
      "cell_type": "code",
      "execution_count": null,
      "metadata": {
        "colab": {
          "base_uri": "https://localhost:8080/"
        },
        "collapsed": true,
        "id": "JmdywNyUw2Rf",
        "outputId": "058b843f-e8ff-43b9-a207-c60fb2516233"
      },
      "outputs": [
        {
          "output_type": "stream",
          "name": "stdout",
          "text": [
            "Requirement already satisfied: qdrant-client in c:\\users\\sachinslade\\anaconda3\\envs\\unstructured\\lib\\site-packages (1.12.1)\n",
            "Requirement already satisfied: fastembed in c:\\users\\sachinslade\\anaconda3\\envs\\unstructured\\lib\\site-packages (0.4.2)\n",
            "Requirement already satisfied: langchain_openai in c:\\users\\sachinslade\\anaconda3\\envs\\unstructured\\lib\\site-packages (0.2.14)\n",
            "Requirement already satisfied: langchain_qdrant in c:\\users\\sachinslade\\anaconda3\\envs\\unstructured\\lib\\site-packages (0.2.0)\n",
            "Requirement already satisfied: langchain-community in c:\\users\\sachinslade\\anaconda3\\envs\\unstructured\\lib\\site-packages (0.3.13)\n",
            "Requirement already satisfied: lark in c:\\users\\sachinslade\\anaconda3\\envs\\unstructured\\lib\\site-packages (1.2.2)\n",
            "Requirement already satisfied: google-generativeai in c:\\users\\sachinslade\\anaconda3\\envs\\unstructured\\lib\\site-packages (0.8.3)\n",
            "Requirement already satisfied: langchain_google_genai in c:\\users\\sachinslade\\anaconda3\\envs\\unstructured\\lib\\site-packages (2.0.7)\n",
            "Requirement already satisfied: langchain_cohere in c:\\users\\sachinslade\\anaconda3\\envs\\unstructured\\lib\\site-packages (0.3.3)\n",
            "Requirement already satisfied: ragas in c:\\users\\sachinslade\\anaconda3\\envs\\unstructured\\lib\\site-packages (0.2.8)\n",
            "Collecting langchain-google-vertexai\n",
            "  Using cached langchain_google_vertexai-2.0.9-py3-none-any.whl.metadata (3.8 kB)\n",
            "Requirement already satisfied: grpcio>=1.41.0 in c:\\users\\sachinslade\\anaconda3\\envs\\unstructured\\lib\\site-packages (from qdrant-client) (1.68.1)\n",
            "Requirement already satisfied: grpcio-tools>=1.41.0 in c:\\users\\sachinslade\\anaconda3\\envs\\unstructured\\lib\\site-packages (from qdrant-client) (1.68.1)\n",
            "Requirement already satisfied: httpx>=0.20.0 in c:\\users\\sachinslade\\anaconda3\\envs\\unstructured\\lib\\site-packages (from httpx[http2]>=0.20.0->qdrant-client) (0.27.2)\n",
            "Requirement already satisfied: numpy>=1.26 in c:\\users\\sachinslade\\anaconda3\\envs\\unstructured\\lib\\site-packages (from qdrant-client) (1.26.4)\n",
            "Requirement already satisfied: portalocker<3.0.0,>=2.7.0 in c:\\users\\sachinslade\\anaconda3\\envs\\unstructured\\lib\\site-packages (from qdrant-client) (2.10.1)\n",
            "Requirement already satisfied: pydantic>=1.10.8 in c:\\users\\sachinslade\\anaconda3\\envs\\unstructured\\lib\\site-packages (from qdrant-client) (2.9.2)\n",
            "Requirement already satisfied: urllib3<3,>=1.26.14 in c:\\users\\sachinslade\\anaconda3\\envs\\unstructured\\lib\\site-packages (from qdrant-client) (2.2.3)\n",
            "Requirement already satisfied: huggingface-hub<1.0,>=0.20 in c:\\users\\sachinslade\\anaconda3\\envs\\unstructured\\lib\\site-packages (from fastembed) (0.27.0)\n",
            "Requirement already satisfied: loguru<0.8.0,>=0.7.2 in c:\\users\\sachinslade\\anaconda3\\envs\\unstructured\\lib\\site-packages (from fastembed) (0.7.3)\n",
            "Requirement already satisfied: mmh3<5.0.0,>=4.1.0 in c:\\users\\sachinslade\\anaconda3\\envs\\unstructured\\lib\\site-packages (from fastembed) (4.1.0)\n",
            "Requirement already satisfied: onnx<2.0.0,>=1.15.0 in c:\\users\\sachinslade\\anaconda3\\envs\\unstructured\\lib\\site-packages (from fastembed) (1.17.0)\n",
            "Requirement already satisfied: onnxruntime<1.20.0,>=1.17.0 in c:\\users\\sachinslade\\anaconda3\\envs\\unstructured\\lib\\site-packages (from fastembed) (1.19.2)\n",
            "Requirement already satisfied: pillow<11.0.0,>=10.3.0 in c:\\users\\sachinslade\\anaconda3\\envs\\unstructured\\lib\\site-packages (from fastembed) (10.4.0)\n",
            "Requirement already satisfied: py-rust-stemmers<0.2.0,>=0.1.0 in c:\\users\\sachinslade\\anaconda3\\envs\\unstructured\\lib\\site-packages (from fastembed) (0.1.3)\n",
            "Requirement already satisfied: requests<3.0,>=2.31 in c:\\users\\sachinslade\\anaconda3\\envs\\unstructured\\lib\\site-packages (from fastembed) (2.32.3)\n",
            "Requirement already satisfied: tokenizers<1.0,>=0.15 in c:\\users\\sachinslade\\anaconda3\\envs\\unstructured\\lib\\site-packages (from fastembed) (0.21.0)\n",
            "Requirement already satisfied: tqdm<5.0,>=4.66 in c:\\users\\sachinslade\\anaconda3\\envs\\unstructured\\lib\\site-packages (from fastembed) (4.67.1)\n",
            "Requirement already satisfied: langchain-core<0.4.0,>=0.3.27 in c:\\users\\sachinslade\\anaconda3\\envs\\unstructured\\lib\\site-packages (from langchain_openai) (0.3.28)\n",
            "Requirement already satisfied: openai<2.0.0,>=1.58.1 in c:\\users\\sachinslade\\anaconda3\\envs\\unstructured\\lib\\site-packages (from langchain_openai) (1.58.1)\n",
            "Requirement already satisfied: tiktoken<1,>=0.7 in c:\\users\\sachinslade\\anaconda3\\envs\\unstructured\\lib\\site-packages (from langchain_openai) (0.8.0)\n",
            "Requirement already satisfied: PyYAML>=5.3 in c:\\users\\sachinslade\\anaconda3\\envs\\unstructured\\lib\\site-packages (from langchain-community) (6.0.2)\n",
            "Requirement already satisfied: SQLAlchemy<3,>=1.4 in c:\\users\\sachinslade\\anaconda3\\envs\\unstructured\\lib\\site-packages (from langchain-community) (2.0.36)\n",
            "Requirement already satisfied: aiohttp<4.0.0,>=3.8.3 in c:\\users\\sachinslade\\anaconda3\\envs\\unstructured\\lib\\site-packages (from langchain-community) (3.11.11)\n",
            "Requirement already satisfied: dataclasses-json<0.7,>=0.5.7 in c:\\users\\sachinslade\\anaconda3\\envs\\unstructured\\lib\\site-packages (from langchain-community) (0.6.7)\n",
            "Requirement already satisfied: httpx-sse<0.5.0,>=0.4.0 in c:\\users\\sachinslade\\anaconda3\\envs\\unstructured\\lib\\site-packages (from langchain-community) (0.4.0)\n",
            "Requirement already satisfied: langchain<0.4.0,>=0.3.13 in c:\\users\\sachinslade\\anaconda3\\envs\\unstructured\\lib\\site-packages (from langchain-community) (0.3.13)\n",
            "Requirement already satisfied: langsmith<0.3,>=0.1.125 in c:\\users\\sachinslade\\anaconda3\\envs\\unstructured\\lib\\site-packages (from langchain-community) (0.2.4)\n",
            "Requirement already satisfied: pydantic-settings<3.0.0,>=2.4.0 in c:\\users\\sachinslade\\anaconda3\\envs\\unstructured\\lib\\site-packages (from langchain-community) (2.7.0)\n",
            "Requirement already satisfied: tenacity!=8.4.0,<10,>=8.1.0 in c:\\users\\sachinslade\\anaconda3\\envs\\unstructured\\lib\\site-packages (from langchain-community) (9.0.0)\n",
            "Requirement already satisfied: google-ai-generativelanguage==0.6.10 in c:\\users\\sachinslade\\anaconda3\\envs\\unstructured\\lib\\site-packages (from google-generativeai) (0.6.10)\n",
            "Requirement already satisfied: google-api-core in c:\\users\\sachinslade\\anaconda3\\envs\\unstructured\\lib\\site-packages (from google-generativeai) (2.24.0)\n",
            "Requirement already satisfied: google-api-python-client in c:\\users\\sachinslade\\anaconda3\\envs\\unstructured\\lib\\site-packages (from google-generativeai) (2.43.0)\n",
            "Requirement already satisfied: google-auth>=2.15.0 in c:\\users\\sachinslade\\anaconda3\\envs\\unstructured\\lib\\site-packages (from google-generativeai) (2.37.0)\n",
            "Requirement already satisfied: protobuf in c:\\users\\sachinslade\\anaconda3\\envs\\unstructured\\lib\\site-packages (from google-generativeai) (5.29.1)\n",
            "Requirement already satisfied: typing-extensions in c:\\users\\sachinslade\\anaconda3\\envs\\unstructured\\lib\\site-packages (from google-generativeai) (4.12.2)\n",
            "Requirement already satisfied: proto-plus<2.0.0dev,>=1.22.3 in c:\\users\\sachinslade\\anaconda3\\envs\\unstructured\\lib\\site-packages (from google-ai-generativelanguage==0.6.10->google-generativeai) (1.25.0)\n",
            "Requirement already satisfied: filetype<2.0.0,>=1.2.0 in c:\\users\\sachinslade\\anaconda3\\envs\\unstructured\\lib\\site-packages (from langchain_google_genai) (1.2.0)\n",
            "Requirement already satisfied: cohere<6.0,>=5.5.6 in c:\\users\\sachinslade\\anaconda3\\envs\\unstructured\\lib\\site-packages (from langchain_cohere) (5.13.3)\n",
            "Requirement already satisfied: langchain-experimental<0.4.0,>=0.3.0 in c:\\users\\sachinslade\\anaconda3\\envs\\unstructured\\lib\\site-packages (from langchain_cohere) (0.3.3)\n",
            "Requirement already satisfied: pandas>=1.4.3 in c:\\users\\sachinslade\\anaconda3\\envs\\unstructured\\lib\\site-packages (from langchain_cohere) (2.2.3)\n",
            "Requirement already satisfied: tabulate<0.10.0,>=0.9.0 in c:\\users\\sachinslade\\anaconda3\\envs\\unstructured\\lib\\site-packages (from langchain_cohere) (0.9.0)\n",
            "Requirement already satisfied: datasets in c:\\users\\sachinslade\\anaconda3\\envs\\unstructured\\lib\\site-packages (from ragas) (3.2.0)\n",
            "Requirement already satisfied: nest-asyncio in c:\\users\\sachinslade\\anaconda3\\envs\\unstructured\\lib\\site-packages (from ragas) (1.6.0)\n",
            "Requirement already satisfied: appdirs in c:\\users\\sachinslade\\anaconda3\\envs\\unstructured\\lib\\site-packages (from ragas) (1.4.4)\n",
            "Requirement already satisfied: pysbd>=0.3.4 in c:\\users\\sachinslade\\anaconda3\\envs\\unstructured\\lib\\site-packages (from ragas) (0.3.4)\n",
            "Collecting google-cloud-aiplatform<2.0.0,>=1.70.0 (from langchain-google-vertexai)\n",
            "  Using cached google_cloud_aiplatform-1.75.0-py2.py3-none-any.whl.metadata (31 kB)\n",
            "Collecting google-cloud-storage<3.0.0,>=2.18.0 (from langchain-google-vertexai)\n",
            "  Using cached google_cloud_storage-2.19.0-py2.py3-none-any.whl.metadata (9.1 kB)\n",
            "Requirement already satisfied: aiohappyeyeballs>=2.3.0 in c:\\users\\sachinslade\\anaconda3\\envs\\unstructured\\lib\\site-packages (from aiohttp<4.0.0,>=3.8.3->langchain-community) (2.4.4)\n",
            "Requirement already satisfied: aiosignal>=1.1.2 in c:\\users\\sachinslade\\anaconda3\\envs\\unstructured\\lib\\site-packages (from aiohttp<4.0.0,>=3.8.3->langchain-community) (1.3.2)\n",
            "Requirement already satisfied: attrs>=17.3.0 in c:\\users\\sachinslade\\anaconda3\\envs\\unstructured\\lib\\site-packages (from aiohttp<4.0.0,>=3.8.3->langchain-community) (24.2.0)\n",
            "Requirement already satisfied: frozenlist>=1.1.1 in c:\\users\\sachinslade\\anaconda3\\envs\\unstructured\\lib\\site-packages (from aiohttp<4.0.0,>=3.8.3->langchain-community) (1.5.0)\n",
            "Requirement already satisfied: multidict<7.0,>=4.5 in c:\\users\\sachinslade\\anaconda3\\envs\\unstructured\\lib\\site-packages (from aiohttp<4.0.0,>=3.8.3->langchain-community) (6.1.0)\n",
            "Requirement already satisfied: propcache>=0.2.0 in c:\\users\\sachinslade\\anaconda3\\envs\\unstructured\\lib\\site-packages (from aiohttp<4.0.0,>=3.8.3->langchain-community) (0.2.1)\n",
            "Requirement already satisfied: yarl<2.0,>=1.17.0 in c:\\users\\sachinslade\\anaconda3\\envs\\unstructured\\lib\\site-packages (from aiohttp<4.0.0,>=3.8.3->langchain-community) (1.18.3)\n",
            "Requirement already satisfied: fastavro<2.0.0,>=1.9.4 in c:\\users\\sachinslade\\anaconda3\\envs\\unstructured\\lib\\site-packages (from cohere<6.0,>=5.5.6->langchain_cohere) (1.9.7)\n",
            "Requirement already satisfied: parameterized<0.10.0,>=0.9.0 in c:\\users\\sachinslade\\anaconda3\\envs\\unstructured\\lib\\site-packages (from cohere<6.0,>=5.5.6->langchain_cohere) (0.9.0)\n",
            "Requirement already satisfied: pydantic-core<3.0.0,>=2.18.2 in c:\\users\\sachinslade\\anaconda3\\envs\\unstructured\\lib\\site-packages (from cohere<6.0,>=5.5.6->langchain_cohere) (2.23.4)\n",
            "Requirement already satisfied: types-requests<3.0.0,>=2.0.0 in c:\\users\\sachinslade\\anaconda3\\envs\\unstructured\\lib\\site-packages (from cohere<6.0,>=5.5.6->langchain_cohere) (2.32.0.20241016)\n",
            "Requirement already satisfied: marshmallow<4.0.0,>=3.18.0 in c:\\users\\sachinslade\\anaconda3\\envs\\unstructured\\lib\\site-packages (from dataclasses-json<0.7,>=0.5.7->langchain-community) (3.23.1)\n",
            "Requirement already satisfied: typing-inspect<1,>=0.4.0 in c:\\users\\sachinslade\\anaconda3\\envs\\unstructured\\lib\\site-packages (from dataclasses-json<0.7,>=0.5.7->langchain-community) (0.9.0)\n",
            "Requirement already satisfied: googleapis-common-protos<2.0.dev0,>=1.56.2 in c:\\users\\sachinslade\\anaconda3\\envs\\unstructured\\lib\\site-packages (from google-api-core->google-generativeai) (1.66.0)\n",
            "Requirement already satisfied: cachetools<6.0,>=2.0.0 in c:\\users\\sachinslade\\anaconda3\\envs\\unstructured\\lib\\site-packages (from google-auth>=2.15.0->google-generativeai) (5.5.0)\n",
            "Requirement already satisfied: pyasn1-modules>=0.2.1 in c:\\users\\sachinslade\\anaconda3\\envs\\unstructured\\lib\\site-packages (from google-auth>=2.15.0->google-generativeai) (0.4.1)\n",
            "Requirement already satisfied: rsa<5,>=3.1.4 in c:\\users\\sachinslade\\anaconda3\\envs\\unstructured\\lib\\site-packages (from google-auth>=2.15.0->google-generativeai) (4.9)\n",
            "Requirement already satisfied: packaging>=14.3 in c:\\users\\sachinslade\\anaconda3\\envs\\unstructured\\lib\\site-packages (from google-cloud-aiplatform<2.0.0,>=1.70.0->langchain-google-vertexai) (24.2)\n",
            "Collecting google-cloud-bigquery!=3.20.0,<4.0.0dev,>=1.15.0 (from google-cloud-aiplatform<2.0.0,>=1.70.0->langchain-google-vertexai)\n",
            "  Using cached google_cloud_bigquery-3.27.0-py2.py3-none-any.whl.metadata (8.6 kB)\n",
            "Collecting google-cloud-resource-manager<3.0.0dev,>=1.3.3 (from google-cloud-aiplatform<2.0.0,>=1.70.0->langchain-google-vertexai)\n",
            "  Using cached google_cloud_resource_manager-1.14.0-py2.py3-none-any.whl.metadata (5.4 kB)\n",
            "Collecting shapely<3.0.0dev (from google-cloud-aiplatform<2.0.0,>=1.70.0->langchain-google-vertexai)\n",
            "  Using cached shapely-2.0.6-cp312-cp312-win_amd64.whl.metadata (7.2 kB)\n",
            "Collecting docstring-parser<1 (from google-cloud-aiplatform<2.0.0,>=1.70.0->langchain-google-vertexai)\n",
            "  Using cached docstring_parser-0.16-py3-none-any.whl.metadata (3.0 kB)\n",
            "Collecting google-cloud-core<3.0dev,>=2.3.0 (from google-cloud-storage<3.0.0,>=2.18.0->langchain-google-vertexai)\n",
            "  Using cached google_cloud_core-2.4.1-py2.py3-none-any.whl.metadata (2.7 kB)\n",
            "Collecting google-resumable-media>=2.7.2 (from google-cloud-storage<3.0.0,>=2.18.0->langchain-google-vertexai)\n",
            "  Using cached google_resumable_media-2.7.2-py2.py3-none-any.whl.metadata (2.2 kB)\n",
            "Collecting google-crc32c<2.0dev,>=1.0 (from google-cloud-storage<3.0.0,>=2.18.0->langchain-google-vertexai)\n",
            "  Using cached google_crc32c-1.6.0-cp312-cp312-win_amd64.whl.metadata (2.4 kB)\n",
            "Requirement already satisfied: setuptools in c:\\users\\sachinslade\\anaconda3\\envs\\unstructured\\lib\\site-packages (from grpcio-tools>=1.41.0->qdrant-client) (75.6.0)\n",
            "Requirement already satisfied: anyio in c:\\users\\sachinslade\\anaconda3\\envs\\unstructured\\lib\\site-packages (from httpx>=0.20.0->httpx[http2]>=0.20.0->qdrant-client) (4.7.0)\n",
            "Requirement already satisfied: certifi in c:\\users\\sachinslade\\anaconda3\\envs\\unstructured\\lib\\site-packages (from httpx>=0.20.0->httpx[http2]>=0.20.0->qdrant-client) (2024.12.14)\n",
            "Requirement already satisfied: httpcore==1.* in c:\\users\\sachinslade\\anaconda3\\envs\\unstructured\\lib\\site-packages (from httpx>=0.20.0->httpx[http2]>=0.20.0->qdrant-client) (1.0.7)\n",
            "Requirement already satisfied: idna in c:\\users\\sachinslade\\anaconda3\\envs\\unstructured\\lib\\site-packages (from httpx>=0.20.0->httpx[http2]>=0.20.0->qdrant-client) (3.10)\n",
            "Requirement already satisfied: sniffio in c:\\users\\sachinslade\\anaconda3\\envs\\unstructured\\lib\\site-packages (from httpx>=0.20.0->httpx[http2]>=0.20.0->qdrant-client) (1.3.1)\n",
            "Requirement already satisfied: h11<0.15,>=0.13 in c:\\users\\sachinslade\\anaconda3\\envs\\unstructured\\lib\\site-packages (from httpcore==1.*->httpx>=0.20.0->httpx[http2]>=0.20.0->qdrant-client) (0.14.0)\n",
            "Requirement already satisfied: h2<5,>=3 in c:\\users\\sachinslade\\anaconda3\\envs\\unstructured\\lib\\site-packages (from httpx[http2]>=0.20.0->qdrant-client) (4.1.0)\n",
            "Requirement already satisfied: filelock in c:\\users\\sachinslade\\anaconda3\\envs\\unstructured\\lib\\site-packages (from huggingface-hub<1.0,>=0.20->fastembed) (3.16.1)\n",
            "Requirement already satisfied: fsspec>=2023.5.0 in c:\\users\\sachinslade\\anaconda3\\envs\\unstructured\\lib\\site-packages (from huggingface-hub<1.0,>=0.20->fastembed) (2024.9.0)\n",
            "Requirement already satisfied: langchain-text-splitters<0.4.0,>=0.3.3 in c:\\users\\sachinslade\\anaconda3\\envs\\unstructured\\lib\\site-packages (from langchain<0.4.0,>=0.3.13->langchain-community) (0.3.4)\n",
            "Requirement already satisfied: jsonpatch<2.0,>=1.33 in c:\\users\\sachinslade\\anaconda3\\envs\\unstructured\\lib\\site-packages (from langchain-core<0.4.0,>=0.3.27->langchain_openai) (1.33)\n",
            "Requirement already satisfied: orjson<4.0.0,>=3.9.14 in c:\\users\\sachinslade\\anaconda3\\envs\\unstructured\\lib\\site-packages (from langsmith<0.3,>=0.1.125->langchain-community) (3.10.12)\n",
            "Requirement already satisfied: requests-toolbelt<2.0.0,>=1.0.0 in c:\\users\\sachinslade\\anaconda3\\envs\\unstructured\\lib\\site-packages (from langsmith<0.3,>=0.1.125->langchain-community) (1.0.0)\n",
            "Requirement already satisfied: colorama>=0.3.4 in c:\\users\\sachinslade\\anaconda3\\envs\\unstructured\\lib\\site-packages (from loguru<0.8.0,>=0.7.2->fastembed) (0.4.6)\n",
            "Requirement already satisfied: win32-setctime>=1.0.0 in c:\\users\\sachinslade\\anaconda3\\envs\\unstructured\\lib\\site-packages (from loguru<0.8.0,>=0.7.2->fastembed) (1.2.0)\n",
            "Requirement already satisfied: coloredlogs in c:\\users\\sachinslade\\anaconda3\\envs\\unstructured\\lib\\site-packages (from onnxruntime<1.20.0,>=1.17.0->fastembed) (15.0.1)\n",
            "Requirement already satisfied: flatbuffers in c:\\users\\sachinslade\\anaconda3\\envs\\unstructured\\lib\\site-packages (from onnxruntime<1.20.0,>=1.17.0->fastembed) (24.3.25)\n",
            "Requirement already satisfied: sympy in c:\\users\\sachinslade\\anaconda3\\envs\\unstructured\\lib\\site-packages (from onnxruntime<1.20.0,>=1.17.0->fastembed) (1.13.3)\n",
            "Requirement already satisfied: distro<2,>=1.7.0 in c:\\users\\sachinslade\\anaconda3\\envs\\unstructured\\lib\\site-packages (from openai<2.0.0,>=1.58.1->langchain_openai) (1.9.0)\n",
            "Requirement already satisfied: jiter<1,>=0.4.0 in c:\\users\\sachinslade\\anaconda3\\envs\\unstructured\\lib\\site-packages (from openai<2.0.0,>=1.58.1->langchain_openai) (0.8.2)\n",
            "Requirement already satisfied: python-dateutil>=2.8.2 in c:\\users\\sachinslade\\anaconda3\\envs\\unstructured\\lib\\site-packages (from pandas>=1.4.3->langchain_cohere) (2.9.0.post0)\n",
            "Requirement already satisfied: pytz>=2020.1 in c:\\users\\sachinslade\\anaconda3\\envs\\unstructured\\lib\\site-packages (from pandas>=1.4.3->langchain_cohere) (2024.2)\n",
            "Requirement already satisfied: tzdata>=2022.7 in c:\\users\\sachinslade\\anaconda3\\envs\\unstructured\\lib\\site-packages (from pandas>=1.4.3->langchain_cohere) (2024.2)\n",
            "Requirement already satisfied: pywin32>=226 in c:\\users\\sachinslade\\anaconda3\\envs\\unstructured\\lib\\site-packages (from portalocker<3.0.0,>=2.7.0->qdrant-client) (307)\n",
            "Requirement already satisfied: annotated-types>=0.6.0 in c:\\users\\sachinslade\\anaconda3\\envs\\unstructured\\lib\\site-packages (from pydantic>=1.10.8->qdrant-client) (0.7.0)\n",
            "Requirement already satisfied: python-dotenv>=0.21.0 in c:\\users\\sachinslade\\anaconda3\\envs\\unstructured\\lib\\site-packages (from pydantic-settings<3.0.0,>=2.4.0->langchain-community) (1.0.1)\n",
            "Requirement already satisfied: charset_normalizer<4,>=2 in c:\\users\\sachinslade\\anaconda3\\envs\\unstructured\\lib\\site-packages (from requests<3.0,>=2.31->fastembed) (3.4.0)\n",
            "Requirement already satisfied: greenlet!=0.4.17 in c:\\users\\sachinslade\\anaconda3\\envs\\unstructured\\lib\\site-packages (from SQLAlchemy<3,>=1.4->langchain-community) (3.1.1)\n",
            "Requirement already satisfied: regex>=2022.1.18 in c:\\users\\sachinslade\\anaconda3\\envs\\unstructured\\lib\\site-packages (from tiktoken<1,>=0.7->langchain_openai) (2024.11.6)\n",
            "Requirement already satisfied: pyarrow>=15.0.0 in c:\\users\\sachinslade\\anaconda3\\envs\\unstructured\\lib\\site-packages (from datasets->ragas) (18.1.0)\n",
            "Requirement already satisfied: dill<0.3.9,>=0.3.0 in c:\\users\\sachinslade\\anaconda3\\envs\\unstructured\\lib\\site-packages (from datasets->ragas) (0.3.8)\n",
            "Requirement already satisfied: xxhash in c:\\users\\sachinslade\\anaconda3\\envs\\unstructured\\lib\\site-packages (from datasets->ragas) (3.5.0)\n",
            "Requirement already satisfied: multiprocess<0.70.17 in c:\\users\\sachinslade\\anaconda3\\envs\\unstructured\\lib\\site-packages (from datasets->ragas) (0.70.16)\n",
            "Requirement already satisfied: httplib2<1dev,>=0.15.0 in c:\\users\\sachinslade\\anaconda3\\envs\\unstructured\\lib\\site-packages (from google-api-python-client->google-generativeai) (0.22.0)\n",
            "Requirement already satisfied: google-auth-httplib2>=0.1.0 in c:\\users\\sachinslade\\anaconda3\\envs\\unstructured\\lib\\site-packages (from google-api-python-client->google-generativeai) (0.2.0)\n",
            "Requirement already satisfied: uritemplate<5,>=3.0.1 in c:\\users\\sachinslade\\anaconda3\\envs\\unstructured\\lib\\site-packages (from google-api-python-client->google-generativeai) (4.1.1)\n",
            "Requirement already satisfied: grpcio-status<2.0.dev0,>=1.33.2 in c:\\users\\sachinslade\\anaconda3\\envs\\unstructured\\lib\\site-packages (from google-api-core[grpc]!=2.0.*,!=2.1.*,!=2.10.*,!=2.2.*,!=2.3.*,!=2.4.*,!=2.5.*,!=2.6.*,!=2.7.*,!=2.8.*,!=2.9.*,<3.0.0dev,>=1.34.1->google-ai-generativelanguage==0.6.10->google-generativeai) (1.68.1)\n",
            "Collecting grpc-google-iam-v1<1.0.0dev,>=0.12.4 (from google-cloud-resource-manager<3.0.0dev,>=1.3.3->google-cloud-aiplatform<2.0.0,>=1.70.0->langchain-google-vertexai)\n",
            "  Using cached grpc_google_iam_v1-0.13.1-py2.py3-none-any.whl.metadata (3.3 kB)\n",
            "Requirement already satisfied: hyperframe<7,>=6.0 in c:\\users\\sachinslade\\anaconda3\\envs\\unstructured\\lib\\site-packages (from h2<5,>=3->httpx[http2]>=0.20.0->qdrant-client) (6.0.1)\n",
            "Requirement already satisfied: hpack<5,>=4.0 in c:\\users\\sachinslade\\anaconda3\\envs\\unstructured\\lib\\site-packages (from h2<5,>=3->httpx[http2]>=0.20.0->qdrant-client) (4.0.0)\n",
            "Requirement already satisfied: pyparsing!=3.0.0,!=3.0.1,!=3.0.2,!=3.0.3,<4,>=2.4.2 in c:\\users\\sachinslade\\anaconda3\\envs\\unstructured\\lib\\site-packages (from httplib2<1dev,>=0.15.0->google-api-python-client->google-generativeai) (3.2.0)\n",
            "Requirement already satisfied: jsonpointer>=1.9 in c:\\users\\sachinslade\\anaconda3\\envs\\unstructured\\lib\\site-packages (from jsonpatch<2.0,>=1.33->langchain-core<0.4.0,>=0.3.27->langchain_openai) (3.0.0)\n",
            "Requirement already satisfied: pyasn1<0.7.0,>=0.4.6 in c:\\users\\sachinslade\\anaconda3\\envs\\unstructured\\lib\\site-packages (from pyasn1-modules>=0.2.1->google-auth>=2.15.0->google-generativeai) (0.6.1)\n",
            "Requirement already satisfied: six>=1.5 in c:\\users\\sachinslade\\anaconda3\\envs\\unstructured\\lib\\site-packages (from python-dateutil>=2.8.2->pandas>=1.4.3->langchain_cohere) (1.17.0)\n",
            "Requirement already satisfied: mypy-extensions>=0.3.0 in c:\\users\\sachinslade\\anaconda3\\envs\\unstructured\\lib\\site-packages (from typing-inspect<1,>=0.4.0->dataclasses-json<0.7,>=0.5.7->langchain-community) (1.0.0)\n",
            "Requirement already satisfied: humanfriendly>=9.1 in c:\\users\\sachinslade\\anaconda3\\envs\\unstructured\\lib\\site-packages (from coloredlogs->onnxruntime<1.20.0,>=1.17.0->fastembed) (10.0)\n",
            "Requirement already satisfied: mpmath<1.4,>=1.1.0 in c:\\users\\sachinslade\\anaconda3\\envs\\unstructured\\lib\\site-packages (from sympy->onnxruntime<1.20.0,>=1.17.0->fastembed) (1.3.0)\n",
            "Requirement already satisfied: pyreadline3 in c:\\users\\sachinslade\\anaconda3\\envs\\unstructured\\lib\\site-packages (from humanfriendly>=9.1->coloredlogs->onnxruntime<1.20.0,>=1.17.0->fastembed) (3.5.4)\n",
            "Using cached langchain_google_vertexai-2.0.9-py3-none-any.whl (90 kB)\n",
            "Downloading google_cloud_aiplatform-1.75.0-py2.py3-none-any.whl (6.9 MB)\n",
            "   ---------------------------------------- 0.0/6.9 MB ? eta -:--:--\n",
            "   ---------------------------------------- 0.0/6.9 MB ? eta -:--:--\n",
            "   ---- ----------------------------------- 0.8/6.9 MB 2.8 MB/s eta 0:00:03\n",
            "   ------ --------------------------------- 1.0/6.9 MB 3.0 MB/s eta 0:00:02\n",
            "   ------------ --------------------------- 2.1/6.9 MB 3.0 MB/s eta 0:00:02\n",
            "   --------------- ------------------------ 2.6/6.9 MB 2.9 MB/s eta 0:00:02\n",
            "   ------------------ --------------------- 3.1/6.9 MB 2.9 MB/s eta 0:00:02\n",
            "   --------------------- ------------------ 3.7/6.9 MB 2.8 MB/s eta 0:00:02\n",
            "   ------------------------ --------------- 4.2/6.9 MB 2.8 MB/s eta 0:00:01\n",
            "   ----------------------------- ---------- 5.0/6.9 MB 2.9 MB/s eta 0:00:01\n",
            "   ----------------------------------- ---- 6.0/6.9 MB 3.2 MB/s eta 0:00:01\n",
            "   ---------------------------------------- 6.9/6.9 MB 3.3 MB/s eta 0:00:00\n",
            "Using cached google_cloud_storage-2.19.0-py2.py3-none-any.whl (131 kB)\n",
            "Using cached docstring_parser-0.16-py3-none-any.whl (36 kB)\n",
            "Using cached google_cloud_bigquery-3.27.0-py2.py3-none-any.whl (240 kB)\n",
            "Using cached google_cloud_core-2.4.1-py2.py3-none-any.whl (29 kB)\n",
            "Downloading google_cloud_resource_manager-1.14.0-py2.py3-none-any.whl (384 kB)\n",
            "Using cached google_crc32c-1.6.0-cp312-cp312-win_amd64.whl (33 kB)\n",
            "Downloading google_resumable_media-2.7.2-py2.py3-none-any.whl (81 kB)\n",
            "Downloading shapely-2.0.6-cp312-cp312-win_amd64.whl (1.4 MB)\n",
            "   ---------------------------------------- 0.0/1.4 MB ? eta -:--:--\n",
            "   -------------- ------------------------- 0.5/1.4 MB 2.8 MB/s eta 0:00:01\n",
            "   ----------------------------- ---------- 1.0/1.4 MB 2.8 MB/s eta 0:00:01\n",
            "   ------------------------------------ --- 1.3/1.4 MB 2.1 MB/s eta 0:00:01\n",
            "   ---------------------------------------- 1.4/1.4 MB 1.9 MB/s eta 0:00:00\n",
            "Using cached grpc_google_iam_v1-0.13.1-py2.py3-none-any.whl (24 kB)\n",
            "Installing collected packages: shapely, google-crc32c, docstring-parser, google-resumable-media, grpc-google-iam-v1, google-cloud-core, google-cloud-storage, google-cloud-resource-manager, google-cloud-bigquery, google-cloud-aiplatform, langchain-google-vertexai\n"
          ]
        },
        {
          "output_type": "stream",
          "name": "stderr",
          "text": [
            "ERROR: Could not install packages due to an OSError: [WinError 32] The process cannot access the file because it is being used by another process: 'C:\\\\Users\\\\SachinSlade\\\\anaconda3\\\\envs\\\\Unstructured\\\\Lib\\\\site-packages\\\\shapely\\\\__init__.py'\n",
            "Consider using the `--user` option or check the permissions.\n",
            "\n"
          ]
        }
      ],
      "source": [
        "!pip install  qdrant-client fastembed langchain_openai langchain_qdrant langchain-community lark google-generativeai langchain_google_genai langchain_cohere ragas langchain-google-vertexai"
      ]
    },
    {
      "cell_type": "code",
      "source": [
        "import os\n",
        "import json\n",
        "import numpy as np\n",
        "from uuid import uuid4\n",
        "import getpass\n",
        "import pandas as pd\n",
        "# --- Qdrant Client and Related Models ---\n",
        "from qdrant_client import QdrantClient\n",
        "from qdrant_client.models import (\n",
        "    Distance,\n",
        "    VectorParams,\n",
        "    SparseVectorParams,\n",
        "    SparseIndexParams,\n",
        "    PointStruct,\n",
        "    Filter,\n",
        "    FieldCondition,\n",
        "    Range,\n",
        ")\n",
        "\n",
        "# --- OpenAI ---\n",
        "import openai\n",
        "from openai import OpenAI\n",
        "\n",
        "# --- Langchain ---\n",
        "from langchain_core.documents import Document\n",
        "from langchain_openai import OpenAIEmbeddings, ChatOpenAI\n",
        "from langchain_qdrant import QdrantVectorStore, RetrievalMode, FastEmbedSparse\n",
        "from langchain.retrievers.self_query.base import SelfQueryRetriever\n",
        "from langchain.chains.query_constructor.schema import AttributeInfo\n",
        "from langchain.chains import RetrievalQA\n",
        "from langchain.prompts import PromptTemplate\n",
        "from langchain.retrievers.contextual_compression import ContextualCompressionRetriever\n",
        "\n",
        "# --- Embeddings and Reranking ---\n",
        "from langchain_core.embeddings import Embeddings\n",
        "from fastembed import SparseTextEmbedding\n",
        "from langchain_cohere import CohereRerank\n",
        "\n",
        "\n",
        "# --- Google Generative AI ---\n",
        "import google.generativeai as genai\n",
        "from langchain_google_genai import ChatGoogleGenerativeAI\n",
        "\n",
        "\n",
        "#---------Ragas----------\n",
        "from ragas import evaluate\n",
        "from ragas.metrics import faithfulness, answer_relevancy, context_precision\n",
        "from datasets import Dataset\n",
        "\n",
        "# --- Other ---\n",
        "from collections.abc import MutableMapping\n"
      ],
      "metadata": {
        "id": "JM_1YzEzz2D8"
      },
      "execution_count": null,
      "outputs": []
    },
    {
      "cell_type": "code",
      "source": [
        "os.environ[\"OPENAI_API_KEY\"] = \"API KEY HERE\"\n",
        "os.environ[\"GOOGLE_API_KEY\"] = \"API KEY HERE\"\n",
        "os.environ[\"COHERE_API_KEY\"] = \"API KEY HERE\""
      ],
      "metadata": {
        "id": "DamcDmVRJrd-"
      },
      "execution_count": null,
      "outputs": []
    },
    {
      "cell_type": "code",
      "source": [
        "qdrant_client = QdrantClient(\n",
        "    url=\"https://d0e39225-965c-4bfe-aa0d-6cb22660e552.us-east4-0.gcp.cloud.qdrant.io:6333\",\n",
        "    api_key=\"API KEY HERE\",\n",
        ")\n",
        "\n",
        "print(qdrant_client.get_collections())"
      ],
      "metadata": {
        "colab": {
          "base_uri": "https://localhost:8080/"
        },
        "id": "Tvjz6fkMzBHJ",
        "outputId": "77180c7b-eb64-46d4-9e0a-a0c078d7dc87"
      },
      "execution_count": null,
      "outputs": [
        {
          "output_type": "stream",
          "name": "stdout",
          "text": [
            "collections=[CollectionDescription(name='Amazon'), CollectionDescription(name='amazon_reports'), CollectionDescription(name='terraforming')]\n"
          ]
        }
      ]
    },
    {
      "cell_type": "markdown",
      "source": [
        "# Data Loading"
      ],
      "metadata": {
        "id": "V-dZxJt-nRUI"
      }
    },
    {
      "cell_type": "code",
      "source": [
        "# Step 2: Load the data file with dense embeddings\n",
        "with open(file_path, \"r\") as f:\n",
        "    data = json.load(f)\n",
        "\n",
        "# Flatten nested metadata\n",
        "def flatten_dict(d, parent_key=\"\", sep=\"_\"):\n",
        "    items = []\n",
        "    for k, v in d.items():\n",
        "        new_key = f\"{parent_key}{sep}{k}\" if parent_key else k\n",
        "        if isinstance(v, MutableMapping):\n",
        "            items.extend(flatten_dict(v, new_key, sep=sep).items())\n",
        "        else:\n",
        "            items.append((new_key, v))\n",
        "    return dict(items)\n",
        "\n",
        "# Extract content, embeddings, and metadata\n",
        "texts = [doc[\"page_content\"] for doc in data]\n",
        "dense_embeddings = [doc[\"embeddings\"] for doc in data]\n",
        "metadata = [flatten_dict(doc[\"metadata\"]) for doc in data]"
      ],
      "metadata": {
        "id": "8oGvoBzczZBb"
      },
      "execution_count": null,
      "outputs": []
    },
    {
      "cell_type": "code",
      "source": [
        "texts[0]"
      ],
      "metadata": {
        "id": "xFj6OyYO8hbF"
      },
      "execution_count": null,
      "outputs": []
    },
    {
      "cell_type": "code",
      "source": [
        "# Initialize the SPLADE model\n",
        "model_name = \"prithivida/Splade_PP_en_v1\"\n",
        "sparse_model = SparseTextEmbedding(model_name=model_name)"
      ],
      "metadata": {
        "id": "zbXD6ZLv11H_"
      },
      "execution_count": null,
      "outputs": []
    },
    {
      "cell_type": "code",
      "source": [
        "# Generate sparse embeddings\n",
        "sparse_embeddings = list(sparse_model.embed(texts))\n",
        "sparse_vectors[0]"
      ],
      "metadata": {
        "collapsed": true,
        "id": "4Eo8cZyO_r-O"
      },
      "execution_count": null,
      "outputs": []
    },
    {
      "cell_type": "code",
      "source": [
        "# Paths to the input and output JSON files\n",
        "INPUT_FILE = file_path # Replace with your file path\n",
        "OUTPUT_FILE = r\"D:\\unstructured\\FinalNew52\\langchain_documents_with_hybrid_embeddings.json\"\n",
        "\n",
        "# Step 1: Load the existing JSON data\n",
        "with open(INPUT_FILE, \"r\") as file:\n",
        "    json_data = json.load(file)\n",
        "\n",
        "# Step 2: Add sparse embeddings to each document\n",
        "if len(json_data) != len(sparse_embeddings):\n",
        "    raise ValueError(\"The number of sparse embeddings must match the number of JSON entries.\")\n",
        "\n",
        "for i, doc in enumerate(json_data):\n",
        "    # Convert SparseEmbedding object to JSON-compatible format\n",
        "    sparse_embedding = {\n",
        "        \"values\": sparse_embeddings[i].values.tolist(),\n",
        "        \"indices\": sparse_embeddings[i].indices.tolist()\n",
        "    }\n",
        "    # Add to the document\n",
        "    doc[\"sparse_embeddings\"] = sparse_embedding\n",
        "\n",
        "# Step 3: Save the updated JSON data\n",
        "with open(OUTPUT_FILE, \"w\") as file:\n",
        "    json.dump(json_data, file, indent=4)\n",
        "\n",
        "print(f\"Sparse embeddings have been added and saved to {OUTPUT_FILE}\")"
      ],
      "metadata": {
        "colab": {
          "base_uri": "https://localhost:8080/"
        },
        "id": "JK487MYR_r7s",
        "outputId": "ba64e62a-9798-4b66-90b2-3943e48de846"
      },
      "execution_count": null,
      "outputs": [
        {
          "output_type": "stream",
          "name": "stdout",
          "text": [
            "Sparse embeddings have been added and saved to D:\\unstructured\\FinalNew52\\langchain_documents_with_hybrid_embeddings.json\n"
          ]
        }
      ]
    },
    {
      "cell_type": "code",
      "source": [
        "SparseTextEmbedding.list_supported_models()"
      ],
      "metadata": {
        "id": "6XZ98mKXDL_P",
        "colab": {
          "base_uri": "https://localhost:8080/"
        },
        "collapsed": true,
        "outputId": "e46361f8-d2b8-4fa2-a7dd-2cfb3a124a51"
      },
      "execution_count": null,
      "outputs": [
        {
          "output_type": "execute_result",
          "data": {
            "text/plain": [
              "[{'model': 'prithivida/Splade_PP_en_v1',\n",
              "  'vocab_size': 30522,\n",
              "  'description': 'Independent Implementation of SPLADE++ Model for English.',\n",
              "  'license': 'apache-2.0',\n",
              "  'size_in_GB': 0.532,\n",
              "  'sources': {'hf': 'Qdrant/SPLADE_PP_en_v1'},\n",
              "  'model_file': 'model.onnx'},\n",
              " {'model': 'prithvida/Splade_PP_en_v1',\n",
              "  'vocab_size': 30522,\n",
              "  'description': 'Independent Implementation of SPLADE++ Model for English.',\n",
              "  'license': 'apache-2.0',\n",
              "  'size_in_GB': 0.532,\n",
              "  'sources': {'hf': 'Qdrant/SPLADE_PP_en_v1'},\n",
              "  'model_file': 'model.onnx'},\n",
              " {'model': 'Qdrant/bm42-all-minilm-l6-v2-attentions',\n",
              "  'vocab_size': 30522,\n",
              "  'description': 'Light sparse embedding model, which assigns an importance score to each token in the text',\n",
              "  'license': 'apache-2.0',\n",
              "  'size_in_GB': 0.09,\n",
              "  'sources': {'hf': 'Qdrant/all_miniLM_L6_v2_with_attentions'},\n",
              "  'model_file': 'model.onnx',\n",
              "  'additional_files': ['stopwords.txt'],\n",
              "  'requires_idf': True},\n",
              " {'model': 'Qdrant/bm25',\n",
              "  'description': 'BM25 as sparse embeddings meant to be used with Qdrant',\n",
              "  'license': 'apache-2.0',\n",
              "  'size_in_GB': 0.01,\n",
              "  'sources': {'hf': 'Qdrant/bm25'},\n",
              "  'model_file': 'mock.file',\n",
              "  'additional_files': ['arabic.txt',\n",
              "   'azerbaijani.txt',\n",
              "   'basque.txt',\n",
              "   'bengali.txt',\n",
              "   'catalan.txt',\n",
              "   'chinese.txt',\n",
              "   'danish.txt',\n",
              "   'dutch.txt',\n",
              "   'english.txt',\n",
              "   'finnish.txt',\n",
              "   'french.txt',\n",
              "   'german.txt',\n",
              "   'greek.txt',\n",
              "   'hebrew.txt',\n",
              "   'hinglish.txt',\n",
              "   'hungarian.txt',\n",
              "   'indonesian.txt',\n",
              "   'italian.txt',\n",
              "   'kazakh.txt',\n",
              "   'nepali.txt',\n",
              "   'norwegian.txt',\n",
              "   'portuguese.txt',\n",
              "   'romanian.txt',\n",
              "   'russian.txt',\n",
              "   'slovene.txt',\n",
              "   'spanish.txt',\n",
              "   'swedish.txt',\n",
              "   'tajik.txt',\n",
              "   'turkish.txt'],\n",
              "  'requires_idf': True}]"
            ]
          },
          "metadata": {},
          "execution_count": 26
        }
      ]
    },
    {
      "cell_type": "markdown",
      "source": [
        "# Qdrant Setup"
      ],
      "metadata": {
        "id": "TxX63WN3oioS"
      }
    },
    {
      "cell_type": "code",
      "source": [
        "qdrant_client.create_collection(\n",
        "    collection_name=\"amazon_reports\",\n",
        "    vectors_config={\n",
        "        \"text-dense\": VectorParams(\n",
        "            size=len(dense_embeddings[0]),  # Dimension of dense vectors\n",
        "            distance=Distance.COSINE\n",
        "        )\n",
        "    },\n",
        "    sparse_vectors_config={\n",
        "        \"text-sparse\": SparseVectorParams(\n",
        "            index=SparseIndexParams(on_disk=False)  # Configure sparse index\n",
        "        )\n",
        "    }\n",
        ")"
      ],
      "metadata": {
        "colab": {
          "base_uri": "https://localhost:8080/"
        },
        "id": "N8Eh9lhXFABh",
        "outputId": "92e5a897-65e7-4c01-af65-bcc6015ed3a8"
      },
      "execution_count": null,
      "outputs": [
        {
          "output_type": "execute_result",
          "data": {
            "text/plain": [
              "True"
            ]
          },
          "metadata": {},
          "execution_count": 30
        }
      ]
    },
    {
      "cell_type": "code",
      "source": [
        "# Step 6: Prepare data points with both dense and sparse vectors\n",
        "print(\"Preparing data points...\")\n",
        "points = []\n",
        "for idx, sparse_vector in enumerate(sparse_embeddings):\n",
        "    # Merge metadata with text content\n",
        "    payload = metadata[idx].copy()  # Copy metadata\n",
        "    payload[\"text\"] = texts[idx]  # Add the document text to the payload\n",
        "\n",
        "    points.append(\n",
        "        PointStruct(\n",
        "            id=idx,\n",
        "            vector={\n",
        "                \"text-dense\": dense_embeddings[idx],  # Dense vector\n",
        "                \"text-sparse\": {\"indices\": sparse_vector.indices, \"values\": sparse_vector.values}  # Sparse vector\n",
        "            },\n",
        "            payload=payload  # Include both metadata and text\n",
        "        )\n",
        "    )"
      ],
      "metadata": {
        "id": "uieEte5oGR7x"
      },
      "execution_count": null,
      "outputs": []
    },
    {
      "cell_type": "code",
      "source": [
        "batch_size = 50  # Adjust based on your data size\n",
        "for i in range(0, len(points), batch_size):\n",
        "    batch = points[i:i+batch_size]\n",
        "    qdrant_client.upsert(collection_name=\"amazon_reports\", points=batch)"
      ],
      "metadata": {
        "id": "1cHTga94Gjzh"
      },
      "execution_count": null,
      "outputs": []
    },
    {
      "cell_type": "code",
      "source": [],
      "metadata": {
        "id": "3GYdY3UcDoEh"
      },
      "execution_count": null,
      "outputs": []
    },
    {
      "cell_type": "code",
      "source": [
        "# Initialize QdrantVectorStore\n",
        "vector_store = QdrantVectorStore(\n",
        "    client=qdrant_client,\n",
        "    collection_name=\"amazon_reports\",\n",
        "    embedding=embeddings,\n",
        "    sparse_embedding=sparse_embeddings,\n",
        "    retrieval_mode=RetrievalMode.HYBRID,\n",
        "    vector_name=\"text-dense\",  # Replace with the correct dense vector name\n",
        "    sparse_vector_name=\"text-sparse\",\n",
        "    content_payload_key=\"text\",\n",
        "\n",
        "\n",
        "\n",
        "\n",
        ")"
      ],
      "metadata": {
        "id": "4VKl3C4pBYUl"
      },
      "execution_count": null,
      "outputs": []
    },
    {
      "cell_type": "code",
      "source": [
        "results = vector_store.similarity_search_with_score(query=query_text, k=3)\n"
      ],
      "metadata": {
        "id": "jD9wjWHRBilp"
      },
      "execution_count": null,
      "outputs": []
    },
    {
      "cell_type": "code",
      "source": [
        "# Display Results\n",
        "print(\"\\n--- Hybrid Retrieval Results ---\")\n",
        "for doc, score in results:\n",
        "    print(f\"[Score: {score:.4f}] Content: {doc.page_content} | Metadata: {doc.metadata}\")"
      ],
      "metadata": {
        "colab": {
          "base_uri": "https://localhost:8080/"
        },
        "id": "EkuL7Ch_BikO",
        "outputId": "c9981d5a-3304-4570-a1a6-36e036b10299"
      },
      "execution_count": null,
      "outputs": [
        {
          "output_type": "stream",
          "name": "stdout",
          "text": [
            "\n",
            "--- Hybrid Retrieval Results ---\n",
            "[Score: 0.5000] Content: AWS has an $85B annualized revenue run rate, is still early in its adoption curve, but at a juncture where it’s critical to stay focused on what matters most to customers over the long-haul. Despite growing 29% year-over- year (“YoY”) in 2022 on a $62B revenue base, AWS faces short-term headwinds right now as companies are being more cautious in spending given the challenging, current macroeconomic conditions. While some companies might obsess over how they could extract as much money from customers as possible in these tight times, it’s neither what customers want nor best for customers in the long term, so we’re taking a different tack. One of the many advantages of AWS and cloud computing is that when your business grows, you can seamlessly scale up; and conversely, if your business contracts, you can choose to give us back that capacity and cease paying for it. This elasticity is unique to the cloud, and doesn’t exist when you’ve already made expensive capital investments in your own on-premises datacenters, servers, and networking gear. In AWS, like all our businesses, we’re not trying to optimize for any one quarter or year. We’re trying to build customer relationships (and a business) that outlast all of us; and as a result, our AWS sales and support teams are spending much of their time helping customers optimize their AWS spend so they can better weather this uncertain economy. Many of these AWS customers tell us that they’re not cost-cutting as much as cost- optimizing so they can take their resources and apply them to emerging and inventive new customer experiences they’re planning. Customers have appreciated this customer-focused, long-term approach, and we think it’ll bode well for both customers and AWS. | Metadata: {'_id': 455, '_collection_name': 'amazon_reports'}\n",
            "[Score: 0.3333] Content: International sales increased 11% in 2023, compared to the prior year. The sales growth primarily reflects increased unit sales, primarily by third-party sellers, advertising sales, and subscription services. Increased unit sales were driven largely by our continued focus on price, selection, and convenience for our customers, including from our shipping offers. Changes in foreign exchange rates increased International net sales by $88 million in 2023.\n",
            "\n",
            "24\n",
            "\n",
            "AWS sales increased 13% in 2023, compared to the prior year. The sales growth primarily reflects increased customer usage, partially offset by pricing changes, primarily driven by long-term customer contracts. | Metadata: {'_id': 107, '_collection_name': 'amazon_reports'}\n",
            "[Score: 0.2500] Content: Shifting to AWS, we started 2023 seeing substantial cost optimization, with most companies trying to save money in an uncertain economy. Much of this optimization was catalyzed by AWS helping customers use the cloud more efficiently and leverage more powerful, price-performant AWS capabilities like Graviton chips (our generalized CPU chips that provide ~40% better price-performance than other leading x86 processors), S3 Intelligent Tiering (a storage class that uses AI to detect objects accessed less frequently and store them in less expensive storage layers), and Savings Plans (which give customers lower prices in exchange for longer commitments). This work diminished short-term revenue, but was best for customers, much appreciated, and should bode well for customers and AWS longer-term. By the end of 2023, we saw cost optimization attenuating, new deals accelerating, customers renewing at larger commitments over longer time periods, and migrations growing again. | Metadata: {'_id': 418, '_collection_name': 'amazon_reports'}\n"
          ]
        }
      ]
    },
    {
      "cell_type": "markdown",
      "source": [
        "# Querying the DB"
      ],
      "metadata": {
        "id": "xHZY9D-opacN"
      }
    },
    {
      "cell_type": "code",
      "source": [
        "def get_dense_embedding(text):\n",
        "    # Create an embedding using the new OpenAI API method\n",
        "    response = openai.embeddings.create(input=text, model=\"text-embedding-3-large\")\n",
        "    return response.data[0].embedding\n",
        "\n",
        "# Sparse Embedding Model (SPLADE via FastEmbed)\n",
        "sparse_model = SparseTextEmbedding(model_name=\"prithivida/Splade_PP_en_v1\")\n",
        "\n",
        "# Step 2: Query Text Input\n",
        "query_text = \"Amazon AWS revenue growth in 2023\"\n",
        "\n",
        "# Step 3: Generate Dense and Sparse Embeddings\n",
        "print(\"Generating dense and sparse embeddings...\")\n",
        "query_dense_vector = get_dense_embedding(query_text)\n",
        "sparse_embedding = list(sparse_model.embed([query_text]))[0]\n",
        "\n",
        "query_sparse_vector = {\n",
        "    \"indices\": sparse_embedding.indices,\n",
        "    \"values\": sparse_embedding.values\n",
        "}\n",
        "# Compute sparse and dense vectors\n",
        "query_indices = query_sparse_vector['indices']\n",
        "query_values = query_sparse_vector['values']\n",
        "query_dense_vector = query_dense_vector"
      ],
      "metadata": {
        "colab": {
          "base_uri": "https://localhost:8080/",
          "height": 34,
          "referenced_widgets": [
            "5160437ee08d4f309c8082a813905dde",
            "b9c5def20c8844409653bf9c1cf7d05f",
            "50d2f0a9b2184d5ebe48f4bb928b185c",
            "9db66878c48e44f5b2699e134dc75055",
            "0bbe536da80f4f28b8aeaa95dfa8dcca",
            "7c973d24a0a04ee88ba605e02bacf51b",
            "0a68e184fa1e440e940ba255419da5af",
            "ff2e038ef81c47b5b002fffa3ad96269",
            "2e344319ca024bf697dafeb217aded45",
            "60a6023bfc1f4c148e134cfdf4099775",
            "2162fce896dc4d0787f252ca49b9f1f2"
          ]
        },
        "id": "6Q_Q5-09IXeu",
        "outputId": "05f37d33-ff58-44cb-bea8-a29818c079fc"
      },
      "execution_count": null,
      "outputs": [
        {
          "output_type": "display_data",
          "data": {
            "text/plain": [
              "Fetching 5 files:   0%|          | 0/5 [00:00<?, ?it/s]"
            ],
            "application/vnd.jupyter.widget-view+json": {
              "version_major": 2,
              "version_minor": 0,
              "model_id": "5160437ee08d4f309c8082a813905dde"
            }
          },
          "metadata": {}
        },
        {
          "output_type": "stream",
          "name": "stdout",
          "text": [
            "Generating dense and sparse embeddings...\n"
          ]
        }
      ]
    },
    {
      "cell_type": "code",
      "source": [
        "query_sparse_vector['values']"
      ],
      "metadata": {
        "colab": {
          "base_uri": "https://localhost:8080/"
        },
        "id": "leBuWZBOMl-m",
        "outputId": "9d7c80a7-6a5a-452b-e37a-fda9ad644663"
      },
      "execution_count": null,
      "outputs": [
        {
          "output_type": "execute_result",
          "data": {
            "text/plain": [
              "array([0.21064357, 0.54518491, 0.98074651, 0.17624055, 0.36889499,\n",
              "       0.82288623, 0.59506387, 1.27148747, 0.28183684, 1.0800854 ,\n",
              "       1.91824389, 0.92381424, 0.06167603, 0.43334585, 0.12849194,\n",
              "       0.2201781 , 0.04837064, 1.19580293, 1.11256003, 0.05031812,\n",
              "       1.92592824, 2.56553984, 2.00859976, 2.03181243])"
            ]
          },
          "metadata": {},
          "execution_count": 12
        }
      ]
    },
    {
      "cell_type": "code",
      "source": [
        "query_indices"
      ],
      "metadata": {
        "colab": {
          "base_uri": "https://localhost:8080/"
        },
        "id": "NVfLLEejMoQM",
        "outputId": "4353082b-e8a1-4bb5-9172-6313a339eda5"
      },
      "execution_count": null,
      "outputs": [
        {
          "output_type": "execute_result",
          "data": {
            "text/plain": [
              "'indices'"
            ]
          },
          "metadata": {},
          "execution_count": 9
        }
      ]
    },
    {
      "cell_type": "code",
      "source": [
        "search_results = qdrant_client.query_points(\n",
        "    collection_name=\"amazon_reports\",\n",
        "    prefetch=[\n",
        "        models.Prefetch(\n",
        "            query=models.SparseVector(indices=query_indices, values=query_values),\n",
        "            using=\"text-sparse\",\n",
        "            limit=20,\n",
        "        ),\n",
        "        models.Prefetch(\n",
        "            query=query_dense_vector,\n",
        "            using=\"text-dense\",\n",
        "            limit=20,\n",
        "        ),\n",
        "    ],\n",
        "    query=models.FusionQuery(fusion=models.Fusion.RRF),  # Use Reciprocal Rank Fusion\n",
        "    limit=10,  # Retrieve top 10 results\n",
        ")"
      ],
      "metadata": {
        "id": "iQN4424JPqQ8"
      },
      "execution_count": null,
      "outputs": []
    },
    {
      "cell_type": "code",
      "source": [
        "search_results"
      ],
      "metadata": {
        "colab": {
          "base_uri": "https://localhost:8080/"
        },
        "id": "YjxHQ3qCPt-T",
        "outputId": "0c5f1250-a8a8-4bc8-9962-5438988e5327",
        "collapsed": true
      },
      "execution_count": null,
      "outputs": [
        {
          "output_type": "execute_result",
          "data": {
            "text/plain": [
              "QueryResponse(points=[ScoredPoint(id=107, version=2, score=0.5769231, payload={'element_id': '844a9b594fe796512b3a867c8eefe27a', 'filename': 'Amazon-com-Inc-2023-Annual-Report.pdf', 'page_number': 36, 'is_continuation': False, 'text': 'International sales increased 11% in 2023, compared to the prior year. The sales growth primarily reflects increased unit sales, primarily by third-party sellers, advertising sales, and subscription services. Increased unit sales were driven largely by our continued focus on price, selection, and convenience for our customers, including from our shipping offers. Changes in foreign exchange rates increased International net sales by $88 million in 2023.\\n\\n24\\n\\nAWS sales increased 13% in 2023, compared to the prior year. The sales growth primarily reflects increased customer usage, partially offset by pricing changes, primarily driven by long-term customer contracts.'}, vector=None, shard_key=None, order_value=None), ScoredPoint(id=415, version=8, score=0.5, payload={'element_id': 'b897b2c747c3fff6679f348102203833', 'filename': 'Amazon-com-Inc-2023-Shareholder-Letter.pdf', 'page_number': 1, 'is_continuation': False, 'text': 'amazon\\n\\nDear Shareholders:\\n\\nLast year at this time, I shared my enthusiasm and optimism for Amazon’s future. Today, I have even more. The reasons are many, but start with the progress we’ve made in our financial results and customer experiences, and extend to our continued innovation and the remarkable opportunities in front of us.\\n\\nIn 2023, Amazon’s total revenue grew 12% year-over-year (“YoY”) from $514B to $575B. By segment, North America revenue increased 12% YoY from $316B to $353B, International revenue grew 11% YoY from $118B to $131B, and AWS revenue increased 13% YoY from $80B to $91B.\\n\\nFurther, Amazon’s operating income and Free Cash Flow (“FCF”) dramatically improved. Operating income in 2023 improved 201% YoY from $12.2B (an operating margin of 2.4%) to $36.9B (an operating margin of 6.4%). Trailing Twelve Month FCF adjusted for equipment finance leases improved from -$12.8B in 2022 to $35.5B (up $48.3B).\\n\\nWhile we’ve made meaningful progress on our financial measures, what we’re most pleased about is the continued customer experience improvements across our businesses.\\n\\nIn our Stores business, customers have enthusiastically responded to our relentless focus on selection, price, and convenience. We continue to have the broadest retail selection, with hundreds of millions of products available, tens of millions added last year alone, and several premium brands starting to list on Amazon (e.g. Coach, Victoria’s Secret, Pit Viper, Martha Stewart, Clinique, Lancôme, and Urban Decay).'}, vector=None, shard_key=None, order_value=None), ScoredPoint(id=455, version=9, score=0.4761905, payload={'element_id': '5e85243377386220f895310b7732c0aa', 'filename': 'Amazon-2022-Annual-Report.pdf', 'page_number': 4, 'is_continuation': False, 'text': 'AWS has an $85B annualized revenue run rate, is still early in its adoption curve, but at a juncture where it’s critical to stay focused on what matters most to customers over the long-haul. Despite growing 29% year-over- year (“YoY”) in 2022 on a $62B revenue base, AWS faces short-term headwinds right now as companies are being more cautious in spending given the challenging, current macroeconomic conditions. While some companies might obsess over how they could extract as much money from customers as possible in these tight times, it’s neither what customers want nor best for customers in the long term, so we’re taking a different tack. One of the many advantages of AWS and cloud computing is that when your business grows, you can seamlessly scale up; and conversely, if your business contracts, you can choose to give us back that capacity and cease paying for it. This elasticity is unique to the cloud, and doesn’t exist when you’ve already made expensive capital investments in your own on-premises datacenters, servers, and networking gear. In AWS, like all our businesses, we’re not trying to optimize for any one quarter or year. We’re trying to build customer relationships (and a business) that outlast all of us; and as a result, our AWS sales and support teams are spending much of their time helping customers optimize their AWS spend so they can better weather this uncertain economy. Many of these AWS customers tell us that they’re not cost-cutting as much as cost- optimizing so they can take their resources and apply them to emerging and inventive new customer experiences they’re planning. Customers have appreciated this customer-focused, long-term approach, and we think it’ll bode well for both customers and AWS.'}, vector=None, shard_key=None, order_value=None), ScoredPoint(id=0, version=0, score=0.33333334, payload={'element_id': '4d6afda7be00cfe7489ba3ee6885e7b1', 'filename': 'Amazon-com-Inc-2023-Annual-Report.pdf', 'page_number': 1, 'is_continuation': False, 'text': '2\\n\\n0\\n\\n3\\n\\namazon\\n\\nA N N U A L R E P O R T\\n\\namazon\\n\\nDear Shareholders:\\n\\nLast year at this time, I shared my enthusiasm and optimism for Amazon’s future. Today, I have even more. The reasons are many, but start with the progress we’ve made in our financial results and customer experiences, and extend to our continued innovation and the remarkable opportunities in front of us.\\n\\nIn 2023, Amazon’s total revenue grew 12% year-over-year (“YoY”) from $514B to $575B. By segment, North America revenue increased 12% YoY from $316B to $353B, International revenue grew 11% YoY from $118B to $131B, and AWS revenue increased 13% YoY from $80B to $91B.\\n\\nFurther, Amazon’s operating income and Free Cash Flow (“FCF”) dramatically improved. Operating income in 2023 improved 201% YoY from $12.2B (an operating margin of 2.4%) to $36.9B (an operating margin of 6.4%). Trailing Twelve Month FCF adjusted for equipment finance leases improved from -$12.8B in 2022 to $35.5B (up $48.3B).\\n\\nWhile we’ve made meaningful progress on our financial measures, what we’re most pleased about is the continued customer experience improvements across our businesses.\\n\\nIn our Stores business, customers have enthusiastically responded to our relentless focus on selection, price, and convenience. We continue to have the broadest retail selection, with hundreds of millions of products available, tens of millions added last year alone, and several premium brands starting to list on Amazon (e.g. Coach, Victoria’s Secret, Pit Viper, Martha Stewart, Clinique, Lancôme, and Urban Decay).'}, vector=None, shard_key=None, order_value=None), ScoredPoint(id=553, version=11, score=0.25, payload={'element_id': '71f3718d924cde9cd18408c4ac1bdf9e', 'filename': 'Amazon-2022-Annual-Report.pdf', 'page_number': 34, 'is_continuation': False, 'text': '23\\n\\nInternational sales decreased 8% in 2022, compared to the prior year, primarily due to the impact of changes in foreign currency exchange rates, partially offset by increased unit sales, including sales by third-party sellers, advertising sales, and subscription services. Increased unit sales were driven largely by our continued focus on price, selection, and convenience for our customers, including from our shipping offers. Changes in foreign currency exchange rates reduced International net sales by $15.0 billion in 2022.\\n\\nAWS sales increased 29% in 2022, compared to the prior year. The sales growth primarily reflects increased customer usage, partially offset by pricing changes, primarily driven by long-term customer contracts.'}, vector=None, shard_key=None, order_value=None), ScoredPoint(id=1279, version=25, score=0.25, payload={'element_id': 'cb7972e4d83315f22a0cc8b2ca45a7fa', 'filename': 'Amazon-s-Global-Economic-Impact-and-Tax-Contribution-2023.pdf', 'page_number': 10, 'is_continuation': False, 'text': 'International tax coordination Photo: Inside an AWS data center Amazon Tax Report 2024 10\\n\\nfor\\n\\nThis OECD profits of reallocated and provide multinational\\n\\ntax at a rate jurisdiction\\n\\nThis to the\\n\\nconsistent\\n\\nbeen a at the OECD, solution. the international\\n\\nAs “Pillar\\n\\ncontinues\\n\\nminimum broadly\\n\\nHowever, increasing services arising from believe that profit once.\\n\\nAmazon’s total tax contribution\\n\\nIn the year ended December 31, 2023, our global activities resulted in a total tax contribution of $93.08 billion around the world (2022: $77.99 billion). Our total taxes borne amounted to $25.19 billion (2022: $19.42 billion). The total taxes collected and remitted to governments by Amazon amounted to $67.89 billion globally (2022: $58.57 billion). Amazon’s total tax contribution across different regions reflects applicable tax laws and regulations and the size and relative maturity of our business.\\n\\nWe are proud of the economic contribution we are making across the world, and we are excited by the positive impact that we are having in the communities we serve.\\n\\n4\\n\\nTaxes borne\\n\\nTaxes collected\\n\\nTax type\\n\\n$20.10B (80%) North America $3.60B (14%) Europe $1.03B (4%) APAC $0.46B (2%) Other\\n\\nu\\n\\n=\\n\\n$50.82B (75%) North America $12.81B (19%) Europe $2.78B (4%) APAC $1.48B (2%) Other\\n\\n=\\n\\n=\\n\\n$43.14B (46%) Transactional taxes $36.07B (39%) Employment taxes $11.34B (12%) Corporate income taxes\\n\\n=\\n\\n=\\n\\n\"\\n\\n$2.53B (3%) Other\\n\\nThe regional breakouts principally consist of the following countries:\\n\\nThe breakdown in tax types consist of the following:\\n\\n(i)\\n\\nAsia-Pacific: Australia, India, Japan;\\n\\n(i)\\n\\nCorporate income taxes: corporate income tax and withholding taxes;\\n\\nEurope: France, Germany, Ireland, Italy, Luxembourg, Poland, Spain, United Kingdom;\\n\\n(iii) North America: Canada, Mexico, United States; and\\n\\nEmployment taxes: employment taxes collected (payroll), employer taxes borne, social security contributions (collected and borne), and other significant employment taxes;'}, vector=None, shard_key=None, order_value=None), ScoredPoint(id=167, version=3, score=0.2, payload={'element_id': '098b362728bb88881fcc0cf02fa3dee6', 'filename': 'Amazon-com-Inc-2023-Annual-Report.pdf', 'page_number': 63, 'is_continuation': False, 'text': 'Unearned Revenue\\n\\nUnearned revenue is recorded when payments are received or due in advance of performing our service obligations and is recognized over the service period. Unearned revenue primarily relates to prepayments of AWS services and Amazon Prime memberships. Our total unearned revenue as of December 31, 2022 was $16.1 billion, of which $12.4 billion was recognized as revenue during the year ended December 31, 2023 and our total unearned revenue as of December 31, 2023 was $20.6 billion. Included in “Other long-term liabilities” on our consolidated balance sheets was $2.9 billion and $5.7 billion of unearned revenue as of December 31, 2022 and 2023.\\n\\nAdditionally, we have performance obligations, primarily related to AWS, associated with commitments in customer contracts for future services that have not yet been recognized in our financial statements. For contracts with original terms that exceed one year, those commitments not yet recognized were $155.7 billion as of December 31, 2023. The weighted average remaining life of our long-term contracts is 4.0 years. However, the amount and timing of revenue recognition is largely driven by customer usage, which can extend beyond the original contractual term.\\n\\nOther Long-Term Liabilities\\n\\nIncluded in “Other long-term liabilities” on our consolidated balance sheets are liabilities primarily related to financing obligations, unearned revenue, asset retirement obligations, tax contingencies, digital video and music content, and deferred tax liabilities.'}, vector=None, shard_key=None, order_value=None), ScoredPoint(id=3, version=0, score=0.2, payload={'element_id': '735075edbf527c6300fee3d53dd25371', 'filename': 'Amazon-com-Inc-2023-Annual-Report.pdf', 'page_number': 3, 'is_continuation': False, 'text': 'Shifting to AWS, we started 2023 seeing substantial cost optimization, with most companies trying to save money in an uncertain economy. Much of this optimization was catalyzed by AWS helping customers use the cloud more efficiently and leverage more powerful, price-performant AWS capabilities like Graviton chips (our generalized CPU chips that provide ~40% better price-performance than other leading x86 processors), S3 Intelligent Tiering (a storage class that uses AI to detect objects accessed less frequently and store them in less expensive storage layers), and Savings Plans (which give customers lower prices in exchange for longer commitments). This work diminished short-term revenue, but was best for customers, much appreciated, and should bode well for customers and AWS longer-term. By the end of 2023, we saw cost optimization attenuating, new deals accelerating, customers renewing at larger commitments over longer time periods, and migrations growing again.'}, vector=None, shard_key=None, order_value=None), ScoredPoint(id=106, version=2, score=0.19166666, payload={'element_id': 'e21ebc1ac607d59030655932b303e9e3', 'filename': 'Amazon-com-Inc-2023-Annual-Report.pdf', 'page_number': 36, 'is_continuation': False, 'text': 'Net Sales\\n\\nNet sales include product and service sales. Product sales represent revenue from the sale of products and related shipping fees and digital media content where we record revenue gross. Service sales primarily represent third-party seller fees, which includes commissions and any related fulfillment and shipping fees, AWS sales, advertising services, Amazon Prime membership fees, and certain digital media content subscriptions. Net sales information is as follows (in millions):\\n\\nYear Ended December 31, 2022 2023 Net Sales: North America $ 315,880 $ 352,828 International 118,007 131,200 AWS 80,096 90,757 Consolidated $ 513,983 $ 574,785 Year-over-year Percentage Growth (Decline): North America 13 % 12 % International (8) 11 AWS 29 13 Consolidated 9 12 Year-over-year Percentage Growth, excluding the effect of foreign exchange rates: North America 13 % 12 % International 4 11 AWS 29 13 Consolidated 13 12 Net Sales Mix: North America 61 % 61 % International 23 23 AWS 16 16 Consolidated 100 % 100 %\\n\\nSales increased 12% in 2023, compared to the prior year. Changes in foreign exchange rates reduced net sales by $71 million in 2023. For a discussion of the effect of foreign exchange rates on sales growth, see “Effect of Foreign Exchange Rates” below.\\n\\nNorth America sales increased 12% in 2023, compared to the prior year. The sales growth primarily reflects increased unit sales, primarily by third-party sellers, advertising sales, and subscription services. Increased unit sales were driven largely by our continued focus on price, selection, and convenience for our customers, including from our shipping offers.\\nHTML Content: <table><thead><tr><th></th><th colspan=\"2\">Year Ended December 31,</th></tr><tr><th></th><th>2022</th><th>2023</th></tr></thead><tbody><tr><td colspan=\"3\">Net Sales:</td></tr><tr><td>North America</td><td>$ 315,880</td><td>$ 352,828</td></tr><tr><td>International</td><td>118,007</td><td>131,200</td></tr><tr><td>AWS</td><td>80,096</td><td>90,757</td></tr><tr><td>Consolidated</td><td>$ 513,983</td><td>$ 574,785</td></tr><tr><td colspan=\"3\">Year-over-year Percentage Growth (Decline):</td></tr><tr><td>North America</td><td>13 %</td><td>2%</td></tr><tr><td>International</td><td>®)</td><td>1</td></tr><tr><td>AWS</td><td>29</td><td>13</td></tr><tr><td>Consolidated</td><td>9</td><td>12</td></tr><tr><td colspan=\"3\">Year-over-year Percentage Growth, excluding the effect of foreign exchange rates:</td></tr><tr><td>North America</td><td>13 %</td><td>2%</td></tr><tr><td>International</td><td>4</td><td>11</td></tr><tr><td>AWS</td><td>29</td><td>13</td></tr><tr><td>Consolidated</td><td>13</td><td>12</td></tr><tr><td colspan=\"3\">Net Sales Mix:</td></tr><tr><td>North America</td><td>61 %</td><td>61 %</td></tr><tr><td>International</td><td>23</td><td>23</td></tr><tr><td>AWS</td><td>16</td><td>16</td></tr><tr><td>Consolidated</td><td>100 %</td><td>100 %</td></tr></tbody></table>\\nSummary: - Table Name: Yearly Net Sales and Growth Analysis\\n- Summary: The table presents net sales data for North America, International markets, and AWS for the years 2022 and 2023, showing an overall increase in consolidated net sales from $513,983 in 2022 to $574,785 in 2023. North America and AWS experienced growth, although AWS\\'s growth rate decreased from 29% to 13%. International sales showed a modest increase, with a notable rise in growth rate when excluding foreign exchange effects.\\n- Context: This table is relevant for analyzing the sales performance and growth trends of a company over two consecutive years. It highlights regional performance differences and the impact of foreign exchange on international sales, providing insights into market dynamics and potential areas for strategic focus.\\n- Alternative Name: Comparative Analysis of Net Sales and Growth Rates'}, vector=None, shard_key=None, order_value=None), ScoredPoint(id=614, version=12, score=0.16666667, payload={'element_id': 'ef8266e67e802c829d02fd9c9686cf6b', 'filename': 'Amazon-2022-Annual-Report.pdf', 'page_number': 60, 'is_continuation': False, 'text': 'Unearned Revenue\\n\\nUnearned revenue is recorded when payments are received or due in advance of performing our service obligations and is recognized over the service period. Unearned revenue primarily relates to prepayments of AWS services and Amazon Prime memberships. Our total unearned revenue as of December 31, 2021 was $14.0 billion, of which $11.3 billion was recognized as revenue during the year ended December 31, 2022 and our total unearned revenue as of December 31, 2022 was $16.1 billion. Included in “Other long-term liabilities” on our consolidated balance sheets was $2.2 billion and $2.9 billion of unearned revenue as of December 31, 2021 and 2022.\\n\\nAdditionally, we have performance obligations, primarily related to AWS, associated with commitments in customer contracts for future services that have not yet been recognized in our financial statements. For contracts with original terms that exceed one year, those commitments not yet recognized were $110.4 billion as of December 31, 2022. The weighted average remaining life of our long-term contracts is 3.7 years. However, the amount and timing of revenue recognition is largely driven by customer usage, which can extend beyond the original contractual term.\\n\\n49\\n\\nOther Long-Term Liabilities\\n\\nIncluded in “Other long-term liabilities” on our consolidated balance sheets are liabilities primarily related to financing obligations, asset retirement obligations, unearned revenue, tax contingencies, digital video and music content, and deferred tax liabilities.'}, vector=None, shard_key=None, order_value=None)])"
            ]
          },
          "metadata": {},
          "execution_count": 20
        }
      ]
    },
    {
      "cell_type": "code",
      "source": [
        "# Process Qdrant results to extract payload content\n",
        "processed_results = [\n",
        "    {\n",
        "        \"filename\": res.payload['filename'],\n",
        "        \"page_number\": res.payload['page_number'],\n",
        "        \"text\": res.payload['text']\n",
        "    }\n",
        "    for res in search_results.points  # Iterate over points in search_results\n",
        "]"
      ],
      "metadata": {
        "id": "qaWXS9daScxF"
      },
      "execution_count": null,
      "outputs": []
    },
    {
      "cell_type": "code",
      "source": [
        "processed_results"
      ],
      "metadata": {
        "colab": {
          "base_uri": "https://localhost:8080/"
        },
        "collapsed": true,
        "id": "8iCnAiS4TAGX",
        "outputId": "aa517faa-bbec-4776-c867-05fbe0af78e6"
      },
      "execution_count": null,
      "outputs": [
        {
          "output_type": "execute_result",
          "data": {
            "text/plain": [
              "[{'filename': 'Amazon-com-Inc-2023-Annual-Report.pdf',\n",
              "  'page_number': 36,\n",
              "  'text': 'International sales increased 11% in 2023, compared to the prior year. The sales growth primarily reflects increased unit sales, primarily by third-party sellers, advertising sales, and subscription services. Increased unit sales were driven largely by our continued focus on price, selection, and convenience for our customers, including from our shipping offers. Changes in foreign exchange rates increased International net sales by $88 million in 2023.\\n\\n24\\n\\nAWS sales increased 13% in 2023, compared to the prior year. The sales growth primarily reflects increased customer usage, partially offset by pricing changes, primarily driven by long-term customer contracts.'},\n",
              " {'filename': 'Amazon-com-Inc-2023-Shareholder-Letter.pdf',\n",
              "  'page_number': 1,\n",
              "  'text': 'amazon\\n\\nDear Shareholders:\\n\\nLast year at this time, I shared my enthusiasm and optimism for Amazon’s future. Today, I have even more. The reasons are many, but start with the progress we’ve made in our financial results and customer experiences, and extend to our continued innovation and the remarkable opportunities in front of us.\\n\\nIn 2023, Amazon’s total revenue grew 12% year-over-year (“YoY”) from $514B to $575B. By segment, North America revenue increased 12% YoY from $316B to $353B, International revenue grew 11% YoY from $118B to $131B, and AWS revenue increased 13% YoY from $80B to $91B.\\n\\nFurther, Amazon’s operating income and Free Cash Flow (“FCF”) dramatically improved. Operating income in 2023 improved 201% YoY from $12.2B (an operating margin of 2.4%) to $36.9B (an operating margin of 6.4%). Trailing Twelve Month FCF adjusted for equipment finance leases improved from -$12.8B in 2022 to $35.5B (up $48.3B).\\n\\nWhile we’ve made meaningful progress on our financial measures, what we’re most pleased about is the continued customer experience improvements across our businesses.\\n\\nIn our Stores business, customers have enthusiastically responded to our relentless focus on selection, price, and convenience. We continue to have the broadest retail selection, with hundreds of millions of products available, tens of millions added last year alone, and several premium brands starting to list on Amazon (e.g. Coach, Victoria’s Secret, Pit Viper, Martha Stewart, Clinique, Lancôme, and Urban Decay).'},\n",
              " {'filename': 'Amazon-2022-Annual-Report.pdf',\n",
              "  'page_number': 4,\n",
              "  'text': 'AWS has an $85B annualized revenue run rate, is still early in its adoption curve, but at a juncture where it’s critical to stay focused on what matters most to customers over the long-haul. Despite growing 29% year-over- year (“YoY”) in 2022 on a $62B revenue base, AWS faces short-term headwinds right now as companies are being more cautious in spending given the challenging, current macroeconomic conditions. While some companies might obsess over how they could extract as much money from customers as possible in these tight times, it’s neither what customers want nor best for customers in the long term, so we’re taking a different tack. One of the many advantages of AWS and cloud computing is that when your business grows, you can seamlessly scale up; and conversely, if your business contracts, you can choose to give us back that capacity and cease paying for it. This elasticity is unique to the cloud, and doesn’t exist when you’ve already made expensive capital investments in your own on-premises datacenters, servers, and networking gear. In AWS, like all our businesses, we’re not trying to optimize for any one quarter or year. We’re trying to build customer relationships (and a business) that outlast all of us; and as a result, our AWS sales and support teams are spending much of their time helping customers optimize their AWS spend so they can better weather this uncertain economy. Many of these AWS customers tell us that they’re not cost-cutting as much as cost- optimizing so they can take their resources and apply them to emerging and inventive new customer experiences they’re planning. Customers have appreciated this customer-focused, long-term approach, and we think it’ll bode well for both customers and AWS.'},\n",
              " {'filename': 'Amazon-com-Inc-2023-Annual-Report.pdf',\n",
              "  'page_number': 1,\n",
              "  'text': '2\\n\\n0\\n\\n3\\n\\namazon\\n\\nA N N U A L R E P O R T\\n\\namazon\\n\\nDear Shareholders:\\n\\nLast year at this time, I shared my enthusiasm and optimism for Amazon’s future. Today, I have even more. The reasons are many, but start with the progress we’ve made in our financial results and customer experiences, and extend to our continued innovation and the remarkable opportunities in front of us.\\n\\nIn 2023, Amazon’s total revenue grew 12% year-over-year (“YoY”) from $514B to $575B. By segment, North America revenue increased 12% YoY from $316B to $353B, International revenue grew 11% YoY from $118B to $131B, and AWS revenue increased 13% YoY from $80B to $91B.\\n\\nFurther, Amazon’s operating income and Free Cash Flow (“FCF”) dramatically improved. Operating income in 2023 improved 201% YoY from $12.2B (an operating margin of 2.4%) to $36.9B (an operating margin of 6.4%). Trailing Twelve Month FCF adjusted for equipment finance leases improved from -$12.8B in 2022 to $35.5B (up $48.3B).\\n\\nWhile we’ve made meaningful progress on our financial measures, what we’re most pleased about is the continued customer experience improvements across our businesses.\\n\\nIn our Stores business, customers have enthusiastically responded to our relentless focus on selection, price, and convenience. We continue to have the broadest retail selection, with hundreds of millions of products available, tens of millions added last year alone, and several premium brands starting to list on Amazon (e.g. Coach, Victoria’s Secret, Pit Viper, Martha Stewart, Clinique, Lancôme, and Urban Decay).'},\n",
              " {'filename': 'Amazon-2022-Annual-Report.pdf',\n",
              "  'page_number': 34,\n",
              "  'text': '23\\n\\nInternational sales decreased 8% in 2022, compared to the prior year, primarily due to the impact of changes in foreign currency exchange rates, partially offset by increased unit sales, including sales by third-party sellers, advertising sales, and subscription services. Increased unit sales were driven largely by our continued focus on price, selection, and convenience for our customers, including from our shipping offers. Changes in foreign currency exchange rates reduced International net sales by $15.0 billion in 2022.\\n\\nAWS sales increased 29% in 2022, compared to the prior year. The sales growth primarily reflects increased customer usage, partially offset by pricing changes, primarily driven by long-term customer contracts.'},\n",
              " {'filename': 'Amazon-s-Global-Economic-Impact-and-Tax-Contribution-2023.pdf',\n",
              "  'page_number': 10,\n",
              "  'text': 'International tax coordination Photo: Inside an AWS data center Amazon Tax Report 2024 10\\n\\nfor\\n\\nThis OECD profits of reallocated and provide multinational\\n\\ntax at a rate jurisdiction\\n\\nThis to the\\n\\nconsistent\\n\\nbeen a at the OECD, solution. the international\\n\\nAs “Pillar\\n\\ncontinues\\n\\nminimum broadly\\n\\nHowever, increasing services arising from believe that profit once.\\n\\nAmazon’s total tax contribution\\n\\nIn the year ended December 31, 2023, our global activities resulted in a total tax contribution of $93.08 billion around the world (2022: $77.99 billion). Our total taxes borne amounted to $25.19 billion (2022: $19.42 billion). The total taxes collected and remitted to governments by Amazon amounted to $67.89 billion globally (2022: $58.57 billion). Amazon’s total tax contribution across different regions reflects applicable tax laws and regulations and the size and relative maturity of our business.\\n\\nWe are proud of the economic contribution we are making across the world, and we are excited by the positive impact that we are having in the communities we serve.\\n\\n4\\n\\nTaxes borne\\n\\nTaxes collected\\n\\nTax type\\n\\n$20.10B (80%) North America $3.60B (14%) Europe $1.03B (4%) APAC $0.46B (2%) Other\\n\\nu\\n\\n=\\n\\n$50.82B (75%) North America $12.81B (19%) Europe $2.78B (4%) APAC $1.48B (2%) Other\\n\\n=\\n\\n=\\n\\n$43.14B (46%) Transactional taxes $36.07B (39%) Employment taxes $11.34B (12%) Corporate income taxes\\n\\n=\\n\\n=\\n\\n\"\\n\\n$2.53B (3%) Other\\n\\nThe regional breakouts principally consist of the following countries:\\n\\nThe breakdown in tax types consist of the following:\\n\\n(i)\\n\\nAsia-Pacific: Australia, India, Japan;\\n\\n(i)\\n\\nCorporate income taxes: corporate income tax and withholding taxes;\\n\\nEurope: France, Germany, Ireland, Italy, Luxembourg, Poland, Spain, United Kingdom;\\n\\n(iii) North America: Canada, Mexico, United States; and\\n\\nEmployment taxes: employment taxes collected (payroll), employer taxes borne, social security contributions (collected and borne), and other significant employment taxes;'},\n",
              " {'filename': 'Amazon-com-Inc-2023-Annual-Report.pdf',\n",
              "  'page_number': 3,\n",
              "  'text': 'Shifting to AWS, we started 2023 seeing substantial cost optimization, with most companies trying to save money in an uncertain economy. Much of this optimization was catalyzed by AWS helping customers use the cloud more efficiently and leverage more powerful, price-performant AWS capabilities like Graviton chips (our generalized CPU chips that provide ~40% better price-performance than other leading x86 processors), S3 Intelligent Tiering (a storage class that uses AI to detect objects accessed less frequently and store them in less expensive storage layers), and Savings Plans (which give customers lower prices in exchange for longer commitments). This work diminished short-term revenue, but was best for customers, much appreciated, and should bode well for customers and AWS longer-term. By the end of 2023, we saw cost optimization attenuating, new deals accelerating, customers renewing at larger commitments over longer time periods, and migrations growing again.'},\n",
              " {'filename': 'Amazon-com-Inc-2023-Annual-Report.pdf',\n",
              "  'page_number': 63,\n",
              "  'text': 'Unearned Revenue\\n\\nUnearned revenue is recorded when payments are received or due in advance of performing our service obligations and is recognized over the service period. Unearned revenue primarily relates to prepayments of AWS services and Amazon Prime memberships. Our total unearned revenue as of December 31, 2022 was $16.1 billion, of which $12.4 billion was recognized as revenue during the year ended December 31, 2023 and our total unearned revenue as of December 31, 2023 was $20.6 billion. Included in “Other long-term liabilities” on our consolidated balance sheets was $2.9 billion and $5.7 billion of unearned revenue as of December 31, 2022 and 2023.\\n\\nAdditionally, we have performance obligations, primarily related to AWS, associated with commitments in customer contracts for future services that have not yet been recognized in our financial statements. For contracts with original terms that exceed one year, those commitments not yet recognized were $155.7 billion as of December 31, 2023. The weighted average remaining life of our long-term contracts is 4.0 years. However, the amount and timing of revenue recognition is largely driven by customer usage, which can extend beyond the original contractual term.\\n\\nOther Long-Term Liabilities\\n\\nIncluded in “Other long-term liabilities” on our consolidated balance sheets are liabilities primarily related to financing obligations, unearned revenue, asset retirement obligations, tax contingencies, digital video and music content, and deferred tax liabilities.'},\n",
              " {'filename': 'Amazon-com-Inc-2023-Annual-Report.pdf',\n",
              "  'page_number': 36,\n",
              "  'text': 'Net Sales\\n\\nNet sales include product and service sales. Product sales represent revenue from the sale of products and related shipping fees and digital media content where we record revenue gross. Service sales primarily represent third-party seller fees, which includes commissions and any related fulfillment and shipping fees, AWS sales, advertising services, Amazon Prime membership fees, and certain digital media content subscriptions. Net sales information is as follows (in millions):\\n\\nYear Ended December 31, 2022 2023 Net Sales: North America $ 315,880 $ 352,828 International 118,007 131,200 AWS 80,096 90,757 Consolidated $ 513,983 $ 574,785 Year-over-year Percentage Growth (Decline): North America 13 % 12 % International (8) 11 AWS 29 13 Consolidated 9 12 Year-over-year Percentage Growth, excluding the effect of foreign exchange rates: North America 13 % 12 % International 4 11 AWS 29 13 Consolidated 13 12 Net Sales Mix: North America 61 % 61 % International 23 23 AWS 16 16 Consolidated 100 % 100 %\\n\\nSales increased 12% in 2023, compared to the prior year. Changes in foreign exchange rates reduced net sales by $71 million in 2023. For a discussion of the effect of foreign exchange rates on sales growth, see “Effect of Foreign Exchange Rates” below.\\n\\nNorth America sales increased 12% in 2023, compared to the prior year. The sales growth primarily reflects increased unit sales, primarily by third-party sellers, advertising sales, and subscription services. Increased unit sales were driven largely by our continued focus on price, selection, and convenience for our customers, including from our shipping offers.\\nHTML Content: <table><thead><tr><th></th><th colspan=\"2\">Year Ended December 31,</th></tr><tr><th></th><th>2022</th><th>2023</th></tr></thead><tbody><tr><td colspan=\"3\">Net Sales:</td></tr><tr><td>North America</td><td>$ 315,880</td><td>$ 352,828</td></tr><tr><td>International</td><td>118,007</td><td>131,200</td></tr><tr><td>AWS</td><td>80,096</td><td>90,757</td></tr><tr><td>Consolidated</td><td>$ 513,983</td><td>$ 574,785</td></tr><tr><td colspan=\"3\">Year-over-year Percentage Growth (Decline):</td></tr><tr><td>North America</td><td>13 %</td><td>2%</td></tr><tr><td>International</td><td>®)</td><td>1</td></tr><tr><td>AWS</td><td>29</td><td>13</td></tr><tr><td>Consolidated</td><td>9</td><td>12</td></tr><tr><td colspan=\"3\">Year-over-year Percentage Growth, excluding the effect of foreign exchange rates:</td></tr><tr><td>North America</td><td>13 %</td><td>2%</td></tr><tr><td>International</td><td>4</td><td>11</td></tr><tr><td>AWS</td><td>29</td><td>13</td></tr><tr><td>Consolidated</td><td>13</td><td>12</td></tr><tr><td colspan=\"3\">Net Sales Mix:</td></tr><tr><td>North America</td><td>61 %</td><td>61 %</td></tr><tr><td>International</td><td>23</td><td>23</td></tr><tr><td>AWS</td><td>16</td><td>16</td></tr><tr><td>Consolidated</td><td>100 %</td><td>100 %</td></tr></tbody></table>\\nSummary: - Table Name: Yearly Net Sales and Growth Analysis\\n- Summary: The table presents net sales data for North America, International markets, and AWS for the years 2022 and 2023, showing an overall increase in consolidated net sales from $513,983 in 2022 to $574,785 in 2023. North America and AWS experienced growth, although AWS\\'s growth rate decreased from 29% to 13%. International sales showed a modest increase, with a notable rise in growth rate when excluding foreign exchange effects.\\n- Context: This table is relevant for analyzing the sales performance and growth trends of a company over two consecutive years. It highlights regional performance differences and the impact of foreign exchange on international sales, providing insights into market dynamics and potential areas for strategic focus.\\n- Alternative Name: Comparative Analysis of Net Sales and Growth Rates'},\n",
              " {'filename': 'Amazon-com-Inc-2023-Shareholder-Letter.pdf',\n",
              "  'page_number': 2,\n",
              "  'text': 'Shifting to AWS, we started 2023 seeing substantial cost optimization, with most companies trying to save money in an uncertain economy. Much of this optimization was catalyzed by AWS helping customers use the cloud more efficiently and leverage more powerful, price-performant AWS capabilities like Graviton chips (our generalized CPU chips that provide ~40% better price-performance than other leading x86 processors), S3 Intelligent Tiering (a storage class that uses AI to detect objects accessed less frequently and store them in less expensive storage layers), and Savings Plans (which give customers lower prices in exchange for longer commitments). This work diminished short-term revenue, but was best for customers, much appreciated, and should bode well for customers and AWS longer-term. By the end of 2023, we saw cost optimization attenuating, new deals accelerating, customers renewing at larger commitments over longer time periods, and migrations growing again.'}]"
            ]
          },
          "metadata": {},
          "execution_count": 28
        }
      ]
    },
    {
      "cell_type": "code",
      "source": [
        "# Step 1: Format search results into context for OpenAI\n",
        "context = \"\\n\\n\".join(\n",
        "    [f\"Source: {res['filename']} (Page {res['page_number']}): {res['text']}\\n\\n\\n\" for res in processed_results]\n",
        ")\n",
        "\n",
        "# Step 2: Define the query and prompt\n",
        "query = \"Summarize the revenue growth of Amazon AWS in 2023 and the contributing factors.\"\n",
        "prompt = f\"Context:\\n{context}\\n\\nQuery: {query}. Also mention every source filename and page number like a proper refernce \\n Template: \\n Answer: \\n Source:\""
      ],
      "metadata": {
        "id": "5A3vnMzQSznc"
      },
      "execution_count": null,
      "outputs": []
    },
    {
      "cell_type": "code",
      "source": [
        "prompt"
      ],
      "metadata": {
        "colab": {
          "base_uri": "https://localhost:8080/"
        },
        "collapsed": true,
        "id": "ew-bZ2VwTKFQ",
        "outputId": "0e116930-4ef8-403d-9023-0ac8efd0f24b"
      },
      "execution_count": null,
      "outputs": [
        {
          "output_type": "execute_result",
          "data": {
            "text/plain": [
              "'Context:\\nSource: Amazon-com-Inc-2023-Annual-Report.pdf (Page 36): International sales increased 11% in 2023, compared to the prior year. The sales growth primarily reflects increased unit sales, primarily by third-party sellers, advertising sales, and subscription services. Increased unit sales were driven largely by our continued focus on price, selection, and convenience for our customers, including from our shipping offers. Changes in foreign exchange rates increased International net sales by $88 million in 2023.\\n\\n24\\n\\nAWS sales increased 13% in 2023, compared to the prior year. The sales growth primarily reflects increased customer usage, partially offset by pricing changes, primarily driven by long-term customer contracts.\\n\\n\\n\\n\\nSource: Amazon-com-Inc-2023-Shareholder-Letter.pdf (Page 1): amazon\\n\\nDear Shareholders:\\n\\nLast year at this time, I shared my enthusiasm and optimism for Amazon’s future. Today, I have even more. The reasons are many, but start with the progress we’ve made in our financial results and customer experiences, and extend to our continued innovation and the remarkable opportunities in front of us.\\n\\nIn 2023, Amazon’s total revenue grew 12% year-over-year (“YoY”) from $514B to $575B. By segment, North America revenue increased 12% YoY from $316B to $353B, International revenue grew 11% YoY from $118B to $131B, and AWS revenue increased 13% YoY from $80B to $91B.\\n\\nFurther, Amazon’s operating income and Free Cash Flow (“FCF”) dramatically improved. Operating income in 2023 improved 201% YoY from $12.2B (an operating margin of 2.4%) to $36.9B (an operating margin of 6.4%). Trailing Twelve Month FCF adjusted for equipment finance leases improved from -$12.8B in 2022 to $35.5B (up $48.3B).\\n\\nWhile we’ve made meaningful progress on our financial measures, what we’re most pleased about is the continued customer experience improvements across our businesses.\\n\\nIn our Stores business, customers have enthusiastically responded to our relentless focus on selection, price, and convenience. We continue to have the broadest retail selection, with hundreds of millions of products available, tens of millions added last year alone, and several premium brands starting to list on Amazon (e.g. Coach, Victoria’s Secret, Pit Viper, Martha Stewart, Clinique, Lancôme, and Urban Decay).\\n\\n\\n\\n\\nSource: Amazon-2022-Annual-Report.pdf (Page 4): AWS has an $85B annualized revenue run rate, is still early in its adoption curve, but at a juncture where it’s critical to stay focused on what matters most to customers over the long-haul. Despite growing 29% year-over- year (“YoY”) in 2022 on a $62B revenue base, AWS faces short-term headwinds right now as companies are being more cautious in spending given the challenging, current macroeconomic conditions. While some companies might obsess over how they could extract as much money from customers as possible in these tight times, it’s neither what customers want nor best for customers in the long term, so we’re taking a different tack. One of the many advantages of AWS and cloud computing is that when your business grows, you can seamlessly scale up; and conversely, if your business contracts, you can choose to give us back that capacity and cease paying for it. This elasticity is unique to the cloud, and doesn’t exist when you’ve already made expensive capital investments in your own on-premises datacenters, servers, and networking gear. In AWS, like all our businesses, we’re not trying to optimize for any one quarter or year. We’re trying to build customer relationships (and a business) that outlast all of us; and as a result, our AWS sales and support teams are spending much of their time helping customers optimize their AWS spend so they can better weather this uncertain economy. Many of these AWS customers tell us that they’re not cost-cutting as much as cost- optimizing so they can take their resources and apply them to emerging and inventive new customer experiences they’re planning. Customers have appreciated this customer-focused, long-term approach, and we think it’ll bode well for both customers and AWS.\\n\\n\\n\\n\\nSource: Amazon-com-Inc-2023-Annual-Report.pdf (Page 1): 2\\n\\n0\\n\\n3\\n\\namazon\\n\\nA N N U A L R E P O R T\\n\\namazon\\n\\nDear Shareholders:\\n\\nLast year at this time, I shared my enthusiasm and optimism for Amazon’s future. Today, I have even more. The reasons are many, but start with the progress we’ve made in our financial results and customer experiences, and extend to our continued innovation and the remarkable opportunities in front of us.\\n\\nIn 2023, Amazon’s total revenue grew 12% year-over-year (“YoY”) from $514B to $575B. By segment, North America revenue increased 12% YoY from $316B to $353B, International revenue grew 11% YoY from $118B to $131B, and AWS revenue increased 13% YoY from $80B to $91B.\\n\\nFurther, Amazon’s operating income and Free Cash Flow (“FCF”) dramatically improved. Operating income in 2023 improved 201% YoY from $12.2B (an operating margin of 2.4%) to $36.9B (an operating margin of 6.4%). Trailing Twelve Month FCF adjusted for equipment finance leases improved from -$12.8B in 2022 to $35.5B (up $48.3B).\\n\\nWhile we’ve made meaningful progress on our financial measures, what we’re most pleased about is the continued customer experience improvements across our businesses.\\n\\nIn our Stores business, customers have enthusiastically responded to our relentless focus on selection, price, and convenience. We continue to have the broadest retail selection, with hundreds of millions of products available, tens of millions added last year alone, and several premium brands starting to list on Amazon (e.g. Coach, Victoria’s Secret, Pit Viper, Martha Stewart, Clinique, Lancôme, and Urban Decay).\\n\\n\\n\\n\\nSource: Amazon-2022-Annual-Report.pdf (Page 34): 23\\n\\nInternational sales decreased 8% in 2022, compared to the prior year, primarily due to the impact of changes in foreign currency exchange rates, partially offset by increased unit sales, including sales by third-party sellers, advertising sales, and subscription services. Increased unit sales were driven largely by our continued focus on price, selection, and convenience for our customers, including from our shipping offers. Changes in foreign currency exchange rates reduced International net sales by $15.0 billion in 2022.\\n\\nAWS sales increased 29% in 2022, compared to the prior year. The sales growth primarily reflects increased customer usage, partially offset by pricing changes, primarily driven by long-term customer contracts.\\n\\n\\n\\n\\nSource: Amazon-s-Global-Economic-Impact-and-Tax-Contribution-2023.pdf (Page 10): International tax coordination Photo: Inside an AWS data center Amazon Tax Report 2024 10\\n\\nfor\\n\\nThis OECD profits of reallocated and provide multinational\\n\\ntax at a rate jurisdiction\\n\\nThis to the\\n\\nconsistent\\n\\nbeen a at the OECD, solution. the international\\n\\nAs “Pillar\\n\\ncontinues\\n\\nminimum broadly\\n\\nHowever, increasing services arising from believe that profit once.\\n\\nAmazon’s total tax contribution\\n\\nIn the year ended December 31, 2023, our global activities resulted in a total tax contribution of $93.08 billion around the world (2022: $77.99 billion). Our total taxes borne amounted to $25.19 billion (2022: $19.42 billion). The total taxes collected and remitted to governments by Amazon amounted to $67.89 billion globally (2022: $58.57 billion). Amazon’s total tax contribution across different regions reflects applicable tax laws and regulations and the size and relative maturity of our business.\\n\\nWe are proud of the economic contribution we are making across the world, and we are excited by the positive impact that we are having in the communities we serve.\\n\\n4\\n\\nTaxes borne\\n\\nTaxes collected\\n\\nTax type\\n\\n$20.10B (80%) North America $3.60B (14%) Europe $1.03B (4%) APAC $0.46B (2%) Other\\n\\nu\\n\\n=\\n\\n$50.82B (75%) North America $12.81B (19%) Europe $2.78B (4%) APAC $1.48B (2%) Other\\n\\n=\\n\\n=\\n\\n$43.14B (46%) Transactional taxes $36.07B (39%) Employment taxes $11.34B (12%) Corporate income taxes\\n\\n=\\n\\n=\\n\\n\"\\n\\n$2.53B (3%) Other\\n\\nThe regional breakouts principally consist of the following countries:\\n\\nThe breakdown in tax types consist of the following:\\n\\n(i)\\n\\nAsia-Pacific: Australia, India, Japan;\\n\\n(i)\\n\\nCorporate income taxes: corporate income tax and withholding taxes;\\n\\nEurope: France, Germany, Ireland, Italy, Luxembourg, Poland, Spain, United Kingdom;\\n\\n(iii) North America: Canada, Mexico, United States; and\\n\\nEmployment taxes: employment taxes collected (payroll), employer taxes borne, social security contributions (collected and borne), and other significant employment taxes;\\n\\n\\n\\n\\nSource: Amazon-com-Inc-2023-Annual-Report.pdf (Page 3): Shifting to AWS, we started 2023 seeing substantial cost optimization, with most companies trying to save money in an uncertain economy. Much of this optimization was catalyzed by AWS helping customers use the cloud more efficiently and leverage more powerful, price-performant AWS capabilities like Graviton chips (our generalized CPU chips that provide ~40% better price-performance than other leading x86 processors), S3 Intelligent Tiering (a storage class that uses AI to detect objects accessed less frequently and store them in less expensive storage layers), and Savings Plans (which give customers lower prices in exchange for longer commitments). This work diminished short-term revenue, but was best for customers, much appreciated, and should bode well for customers and AWS longer-term. By the end of 2023, we saw cost optimization attenuating, new deals accelerating, customers renewing at larger commitments over longer time periods, and migrations growing again.\\n\\n\\n\\n\\nSource: Amazon-com-Inc-2023-Annual-Report.pdf (Page 63): Unearned Revenue\\n\\nUnearned revenue is recorded when payments are received or due in advance of performing our service obligations and is recognized over the service period. Unearned revenue primarily relates to prepayments of AWS services and Amazon Prime memberships. Our total unearned revenue as of December 31, 2022 was $16.1 billion, of which $12.4 billion was recognized as revenue during the year ended December 31, 2023 and our total unearned revenue as of December 31, 2023 was $20.6 billion. Included in “Other long-term liabilities” on our consolidated balance sheets was $2.9 billion and $5.7 billion of unearned revenue as of December 31, 2022 and 2023.\\n\\nAdditionally, we have performance obligations, primarily related to AWS, associated with commitments in customer contracts for future services that have not yet been recognized in our financial statements. For contracts with original terms that exceed one year, those commitments not yet recognized were $155.7 billion as of December 31, 2023. The weighted average remaining life of our long-term contracts is 4.0 years. However, the amount and timing of revenue recognition is largely driven by customer usage, which can extend beyond the original contractual term.\\n\\nOther Long-Term Liabilities\\n\\nIncluded in “Other long-term liabilities” on our consolidated balance sheets are liabilities primarily related to financing obligations, unearned revenue, asset retirement obligations, tax contingencies, digital video and music content, and deferred tax liabilities.\\n\\n\\n\\n\\nSource: Amazon-com-Inc-2023-Annual-Report.pdf (Page 36): Net Sales\\n\\nNet sales include product and service sales. Product sales represent revenue from the sale of products and related shipping fees and digital media content where we record revenue gross. Service sales primarily represent third-party seller fees, which includes commissions and any related fulfillment and shipping fees, AWS sales, advertising services, Amazon Prime membership fees, and certain digital media content subscriptions. Net sales information is as follows (in millions):\\n\\nYear Ended December 31, 2022 2023 Net Sales: North America $ 315,880 $ 352,828 International 118,007 131,200 AWS 80,096 90,757 Consolidated $ 513,983 $ 574,785 Year-over-year Percentage Growth (Decline): North America 13 % 12 % International (8) 11 AWS 29 13 Consolidated 9 12 Year-over-year Percentage Growth, excluding the effect of foreign exchange rates: North America 13 % 12 % International 4 11 AWS 29 13 Consolidated 13 12 Net Sales Mix: North America 61 % 61 % International 23 23 AWS 16 16 Consolidated 100 % 100 %\\n\\nSales increased 12% in 2023, compared to the prior year. Changes in foreign exchange rates reduced net sales by $71 million in 2023. For a discussion of the effect of foreign exchange rates on sales growth, see “Effect of Foreign Exchange Rates” below.\\n\\nNorth America sales increased 12% in 2023, compared to the prior year. The sales growth primarily reflects increased unit sales, primarily by third-party sellers, advertising sales, and subscription services. Increased unit sales were driven largely by our continued focus on price, selection, and convenience for our customers, including from our shipping offers.\\nHTML Content: <table><thead><tr><th></th><th colspan=\"2\">Year Ended December 31,</th></tr><tr><th></th><th>2022</th><th>2023</th></tr></thead><tbody><tr><td colspan=\"3\">Net Sales:</td></tr><tr><td>North America</td><td>$ 315,880</td><td>$ 352,828</td></tr><tr><td>International</td><td>118,007</td><td>131,200</td></tr><tr><td>AWS</td><td>80,096</td><td>90,757</td></tr><tr><td>Consolidated</td><td>$ 513,983</td><td>$ 574,785</td></tr><tr><td colspan=\"3\">Year-over-year Percentage Growth (Decline):</td></tr><tr><td>North America</td><td>13 %</td><td>2%</td></tr><tr><td>International</td><td>®)</td><td>1</td></tr><tr><td>AWS</td><td>29</td><td>13</td></tr><tr><td>Consolidated</td><td>9</td><td>12</td></tr><tr><td colspan=\"3\">Year-over-year Percentage Growth, excluding the effect of foreign exchange rates:</td></tr><tr><td>North America</td><td>13 %</td><td>2%</td></tr><tr><td>International</td><td>4</td><td>11</td></tr><tr><td>AWS</td><td>29</td><td>13</td></tr><tr><td>Consolidated</td><td>13</td><td>12</td></tr><tr><td colspan=\"3\">Net Sales Mix:</td></tr><tr><td>North America</td><td>61 %</td><td>61 %</td></tr><tr><td>International</td><td>23</td><td>23</td></tr><tr><td>AWS</td><td>16</td><td>16</td></tr><tr><td>Consolidated</td><td>100 %</td><td>100 %</td></tr></tbody></table>\\nSummary: - Table Name: Yearly Net Sales and Growth Analysis\\n- Summary: The table presents net sales data for North America, International markets, and AWS for the years 2022 and 2023, showing an overall increase in consolidated net sales from $513,983 in 2022 to $574,785 in 2023. North America and AWS experienced growth, although AWS\\'s growth rate decreased from 29% to 13%. International sales showed a modest increase, with a notable rise in growth rate when excluding foreign exchange effects.\\n- Context: This table is relevant for analyzing the sales performance and growth trends of a company over two consecutive years. It highlights regional performance differences and the impact of foreign exchange on international sales, providing insights into market dynamics and potential areas for strategic focus.\\n- Alternative Name: Comparative Analysis of Net Sales and Growth Rates\\n\\n\\n\\n\\nSource: Amazon-com-Inc-2023-Shareholder-Letter.pdf (Page 2): Shifting to AWS, we started 2023 seeing substantial cost optimization, with most companies trying to save money in an uncertain economy. Much of this optimization was catalyzed by AWS helping customers use the cloud more efficiently and leverage more powerful, price-performant AWS capabilities like Graviton chips (our generalized CPU chips that provide ~40% better price-performance than other leading x86 processors), S3 Intelligent Tiering (a storage class that uses AI to detect objects accessed less frequently and store them in less expensive storage layers), and Savings Plans (which give customers lower prices in exchange for longer commitments). This work diminished short-term revenue, but was best for customers, much appreciated, and should bode well for customers and AWS longer-term. By the end of 2023, we saw cost optimization attenuating, new deals accelerating, customers renewing at larger commitments over longer time periods, and migrations growing again.\\n\\n\\n\\n\\nQuery: Summarize the revenue growth of Amazon AWS in 2023 and the contributing factors.. Also mention every source filename and page number like a proper refernce \\n Template: \\n Answer: \\n Source:'"
            ]
          },
          "metadata": {},
          "execution_count": 51
        }
      ]
    },
    {
      "cell_type": "code",
      "source": [
        "client = OpenAI(api_key=os.environ[\"OPENAI_API_KEY\"])\n",
        "\n",
        "response = client.chat.completions.create(\n",
        "    model=\"gpt-4o-mini\",  # Replace with your desired model\n",
        "    messages=[\n",
        "        {\"role\": \"system\", \"content\": \"You are a helpful assistant summarizing financial data.\"},\n",
        "        {\"role\": \"user\", \"content\": prompt}\n",
        "    ]\n",
        ")\n",
        "\n",
        "# Output the result\n",
        "print(\"Generated Response:\")\n",
        "print(response.choices[0].message.content.strip())\n"
      ],
      "metadata": {
        "colab": {
          "base_uri": "https://localhost:8080/"
        },
        "id": "HWDjlbbJS5eM",
        "outputId": "3c33015b-dd26-4369-9527-ed3b02bb15cd"
      },
      "execution_count": null,
      "outputs": [
        {
          "output_type": "stream",
          "name": "stdout",
          "text": [
            "Generated Response:\n",
            "Answer: In 2023, Amazon Web Services (AWS) experienced a revenue growth of 13% compared to the prior year, reaching $91 billion, up from $80 billion in 2022. This growth was primarily driven by increased customer usage, although it was partially offset by pricing changes linked to long-term customer contracts. Notably, AWS focused on helping customers optimize their cloud usage and reduce costs during uncertain economic conditions, leading to a more efficient use of resources. By the end of 2023, there was a noticeable increase in new deals and larger customer commitments, indicating a positive outlook for continued growth in the AWS segment.\n",
            "\n",
            "Sources:\n",
            "- Amazon-com-Inc-2023-Annual-Report.pdf, Page 36\n",
            "- Amazon-com-Inc-2023-Shareholder-Letter.pdf, Page 1\n",
            "- Amazon-2022-Annual-Report.pdf, Page 4\n"
          ]
        }
      ]
    },
    {
      "cell_type": "markdown",
      "source": [
        "# Langchain"
      ],
      "metadata": {
        "id": "D2bt1Na5qpKq"
      }
    },
    {
      "cell_type": "code",
      "source": [
        "with open(file_path, \"r\") as f:\n",
        "    data = json.load(f)\n",
        "\n",
        "# Step 2: Function to Flatten Nested Metadata\n",
        "def flatten_dict(d, parent_key=\"\", sep=\"_\"):\n",
        "    \"\"\"Recursively flattens a nested dictionary.\"\"\"\n",
        "    items = []\n",
        "    for k, v in d.items():\n",
        "        new_key = f\"{parent_key}{sep}{k}\" if parent_key else k\n",
        "        if isinstance(v, MutableMapping):\n",
        "            items.extend(flatten_dict(v, new_key, sep=sep).items())\n",
        "        else:\n",
        "            items.append((new_key, v))\n",
        "    return dict(items)\n",
        "\n",
        "# Step 3: Extract `page_content` and Flattened Metadata\n",
        "texts = [doc[\"page_content\"] for doc in data]\n",
        "metadata = [flatten_dict(doc[\"metadata\"]) for doc in data]\n",
        "\n",
        "# Step 4: Create LangChain Document Objects\n",
        "documents = [\n",
        "    Document(page_content=text, metadata=meta) for text, meta in zip(texts, metadata)\n",
        "]\n",
        "\n",
        "\n",
        "# Generate unique IDs for the documents\n",
        "uuids = [str(uuid4()) for _ in range(len(documents))]\n",
        "\n",
        "# Verify the Documents\n",
        "for i, doc in enumerate(documents[:3]):  # Print first 3 documents\n",
        "    print(f\"Document {i+1}:\")\n",
        "    print(f\"Content: {doc.page_content}\")\n",
        "    print(f\"Metadata: {doc.metadata}\\n\")\n"
      ],
      "metadata": {
        "colab": {
          "base_uri": "https://localhost:8080/"
        },
        "collapsed": true,
        "id": "vZN7IpCG3JyR",
        "outputId": "62d47843-e48c-4145-cb45-4946f0906aae"
      },
      "execution_count": null,
      "outputs": [
        {
          "output_type": "stream",
          "name": "stdout",
          "text": [
            "Document 1:\n",
            "Content: 2\n",
            "\n",
            "0\n",
            "\n",
            "3\n",
            "\n",
            "amazon\n",
            "\n",
            "A N N U A L R E P O R T\n",
            "\n",
            "amazon\n",
            "\n",
            "Dear Shareholders:\n",
            "\n",
            "Last year at this time, I shared my enthusiasm and optimism for Amazon’s future. Today, I have even more. The reasons are many, but start with the progress we’ve made in our financial results and customer experiences, and extend to our continued innovation and the remarkable opportunities in front of us.\n",
            "\n",
            "In 2023, Amazon’s total revenue grew 12% year-over-year (“YoY”) from $514B to $575B. By segment, North America revenue increased 12% YoY from $316B to $353B, International revenue grew 11% YoY from $118B to $131B, and AWS revenue increased 13% YoY from $80B to $91B.\n",
            "\n",
            "Further, Amazon’s operating income and Free Cash Flow (“FCF”) dramatically improved. Operating income in 2023 improved 201% YoY from $12.2B (an operating margin of 2.4%) to $36.9B (an operating margin of 6.4%). Trailing Twelve Month FCF adjusted for equipment finance leases improved from -$12.8B in 2022 to $35.5B (up $48.3B).\n",
            "\n",
            "While we’ve made meaningful progress on our financial measures, what we’re most pleased about is the continued customer experience improvements across our businesses.\n",
            "\n",
            "In our Stores business, customers have enthusiastically responded to our relentless focus on selection, price, and convenience. We continue to have the broadest retail selection, with hundreds of millions of products available, tens of millions added last year alone, and several premium brands starting to list on Amazon (e.g. Coach, Victoria’s Secret, Pit Viper, Martha Stewart, Clinique, Lancôme, and Urban Decay).\n",
            "Metadata: {'element_id': '4d6afda7be00cfe7489ba3ee6885e7b1', 'filename': 'Amazon-com-Inc-2023-Annual-Report.pdf', 'page_number': 1, 'is_continuation': False}\n",
            "\n",
            "Document 2:\n",
            "Content: Being sharp on price is always important, but particularly in an uncertain economy, where customers are careful about how much they’re spending. As a result, in Q4 2023, we kicked off the holiday season with Prime Big Deal Days, an exclusive event for Prime members to provide an early start on holiday shopping. This was followed by our extended Black Friday and Cyber Monday holiday shopping event, open to all customers, that became our largest revenue event ever. For all of 2023, customers saved nearly $24B across millions of deals and coupons, almost 70% more than the prior year.\n",
            "\n",
            "We also continue to improve delivery speeds, breaking multiple company records. In 2023, Amazon delivered at the fastest speeds ever to Prime members, with more than 7 billion items arriving same or next day, including more than 4 billion in the U.S. and more than 2 billion in Europe. In the U.S., this result is the combination of two things. One is the benefit of regionalization, where we re-architected the network to store items closer to customers. The other is the expansion of same-day facilities, where in 2023, we increased the number of items delivered same day or overnight by nearly 70% YoY. As we get items to customers this fast, customers choose Amazon to fulfill their shopping needs more frequently, and we can see the results in various areas including how fast our everyday essentials business is growing (over 20% YoY in Q4 2023).\n",
            "\n",
            "Our regionalization efforts have also trimmed transportation distances, helping lower our cost to serve. In 2023, for the first time since 2018, we reduced our cost to serve on a per unit basis globally. In the U.S. alone, cost to serve was down by more than $0.45 per unit YoY. Decreasing cost to serve allows us both to invest in speed improvements and afford adding more selection at lower Average Selling Prices (“ASPs”). More selection at lower prices puts us in consideration for more purchases.\n",
            "Metadata: {'element_id': 'a2cf6daa410f6fba5bd82943317cf51c', 'filename': 'Amazon-com-Inc-2023-Annual-Report.pdf', 'page_number': 2, 'is_continuation': False}\n",
            "\n",
            "Document 3:\n",
            "Content: As we look toward 2024 (and beyond), we’re not done lowering our cost to serve. We’ve challenged every closely held belief in our fulfillment network, and reevaluated every part of it, and found several areas where we believe we can lower costs even further while also delivering faster for customers. Our inbound fulfillment architecture and resulting inventory placement are areas of focus in 2024, and we have optimism there’s more upside for us.\n",
            "\n",
            "Internationally, we like the trajectory of our established countries, and see meaningful progress in our emerging geographies (e.g. India, Brazil, Australia, Mexico, Middle East, Africa, etc.) as they continue to\n",
            "\n",
            "expand selection and features, and move toward profitability (in Q4 2023, Mexico became our latest international Stores locale to turn profitable). We have high conviction that these new geographies will continue to grow and be profitable in the long run.\n",
            "\n",
            "Alongside our Stores business, Amazon’s Advertising progress remains strong, growing 24% YoY from $38B in 2022 to $47B in 2023, primarily driven by our sponsored ads. We’ve added Sponsored TV to this offering, a self-service solution for brands to create campaigns that can appear on up to 30+ streaming TV services, including Amazon Freevee and Twitch, and have no minimum spend. Recently, we’ve expanded our streaming TV advertising by introducing ads into Prime Video shows and movies, where brands can reach over 200 million monthly viewers in our most popular entertainment offerings, across hit movies and shows, award-winning Amazon MGM Originals, and live sports like Thursday Night Football. Streaming TV advertising is growing quickly and off to a strong start.\n",
            "Metadata: {'element_id': '33e9a4c74ca763c354755956dd7ea998', 'filename': 'Amazon-com-Inc-2023-Annual-Report.pdf', 'page_number': 2, 'is_continuation': False}\n",
            "\n"
          ]
        }
      ]
    },
    {
      "cell_type": "code",
      "source": [
        "# Step 2: Initialize Dense Embeddings\n",
        "embeddings = OpenAIEmbeddings(model=\"text-embedding-3-large\")\n",
        "\n",
        "# Step 3: Initialize Sparse Embeddings\n",
        "sparse_embeddings = FastEmbedSparse(model_name=\"Qdrant/bm25\")"
      ],
      "metadata": {
        "colab": {
          "base_uri": "https://localhost:8080/",
          "height": 153,
          "referenced_widgets": [
            "f4eefd6c33eb414e82204bd33f74eb64",
            "5a05a60aae19496d8b08b40302dc1d46",
            "61b59b42d592496cab656cff69068924",
            "5fa26c504f1749c88194475f84b61d50",
            "feebf8b89d7743a08323491264be639d",
            "00178d71c3284143ae43f7ff22b1b7cf",
            "93ccac2dd9934854ac29f5dd1cdf15ae",
            "ac4dd63abfb045ef86941bf784d51b18",
            "06dca8fc49c648ef98ff208c966762a1",
            "8ed015d2a84143a297824c4fc3a0c731",
            "64cb23f8750343f596b24a34ab1eabf4"
          ]
        },
        "id": "rO5GyVZiwTLI",
        "outputId": "9dbdc517-02d3-4353-f3de-fe4d285a1c1e"
      },
      "execution_count": null,
      "outputs": [
        {
          "output_type": "stream",
          "name": "stderr",
          "text": [
            "/usr/local/lib/python3.10/dist-packages/huggingface_hub/utils/_auth.py:94: UserWarning: \n",
            "The secret `HF_TOKEN` does not exist in your Colab secrets.\n",
            "To authenticate with the Hugging Face Hub, create a token in your settings tab (https://huggingface.co/settings/tokens), set it as secret in your Google Colab and restart your session.\n",
            "You will be able to reuse this secret in all of your notebooks.\n",
            "Please note that authentication is recommended but still optional to access public models or datasets.\n",
            "  warnings.warn(\n"
          ]
        },
        {
          "output_type": "display_data",
          "data": {
            "text/plain": [
              "Fetching 29 files:   0%|          | 0/29 [00:00<?, ?it/s]"
            ],
            "application/vnd.jupyter.widget-view+json": {
              "version_major": 2,
              "version_minor": 0,
              "model_id": "f4eefd6c33eb414e82204bd33f74eb64"
            }
          },
          "metadata": {}
        }
      ]
    },
    {
      "cell_type": "code",
      "source": [
        "qdrant_client.create_collection(\n",
        "    collection_name=\"Amazon\",\n",
        "    vectors_config={\n",
        "        \"dense\": VectorParams(size=3072, distance=Distance.COSINE)  # Dense vector name is \"default\"\n",
        "    },\n",
        "    sparse_vectors_config={\n",
        "        \"sparse\": SparseVectorParams(index=SparseIndexParams(on_disk=False))  # Sparse vector name\n",
        "    }\n",
        ")\n"
      ],
      "metadata": {
        "id": "asSYSYb_8mRH"
      },
      "execution_count": null,
      "outputs": []
    },
    {
      "cell_type": "code",
      "source": [
        "# Recreate the Collection with Default Named Vectors\n",
        "\n",
        "# Initialize QdrantVectorStore\n",
        "vector_store = QdrantVectorStore(\n",
        "    client=qdrant_client,\n",
        "    collection_name=\"Amazon\",\n",
        "    embedding=embeddings,\n",
        "    sparse_embedding=sparse_embeddings,\n",
        "    retrieval_mode=RetrievalMode.HYBRID,\n",
        "    vector_name=\"dense\",  # Replace with the correct dense vector name\n",
        "    sparse_vector_name=\"sparse\"\n",
        "\n",
        "\n",
        ")\n",
        "\n",
        "print(\"QdrantVectorStore initialized successfully!\")"
      ],
      "metadata": {
        "colab": {
          "base_uri": "https://localhost:8080/"
        },
        "id": "cK_Saqts39ZR",
        "outputId": "bcaadcda-e245-4a6e-8a55-322e134029e4"
      },
      "execution_count": null,
      "outputs": [
        {
          "output_type": "stream",
          "name": "stdout",
          "text": [
            "QdrantVectorStore initialized successfully!\n"
          ]
        }
      ]
    },
    {
      "cell_type": "code",
      "source": [
        "# Step 7: Add Documents to Qdrant\n",
        "vector_store.add_documents(documents=documents, ids=uuids)\n",
        "\n",
        "print(\"Documents inserted successfully!\")\n"
      ],
      "metadata": {
        "colab": {
          "base_uri": "https://localhost:8080/"
        },
        "id": "gh7tgXbt7rnC",
        "outputId": "0d77832b-e969-4e04-ce08-2dd5f221343d"
      },
      "execution_count": null,
      "outputs": [
        {
          "output_type": "stream",
          "name": "stdout",
          "text": [
            "Documents inserted successfully!\n"
          ]
        }
      ]
    },
    {
      "cell_type": "code",
      "source": [
        "# Query for Hybrid Retrieval\n",
        "query_text = \"What is the AWS revenue for 2023?\"\n",
        "results = vector_store.similarity_search_with_score(query=query_text, k=3)\n",
        "\n",
        "# Display Results\n",
        "print(\"\\n--- Hybrid Retrieval Results ---\")\n",
        "for doc, score in results:\n",
        "    print(f\"[Score: {score:.4f}] Content: {doc.page_content} | Metadata: {doc.metadata}\")\n"
      ],
      "metadata": {
        "colab": {
          "base_uri": "https://localhost:8080/"
        },
        "id": "rb5ZIBuJ97cj",
        "outputId": "ebaf7545-ccf4-45ca-a3d9-6c0d9379546a"
      },
      "execution_count": null,
      "outputs": [
        {
          "output_type": "stream",
          "name": "stdout",
          "text": [
            "\n",
            "--- Hybrid Retrieval Results ---\n",
            "[Score: 0.5000] Content: Shifting to AWS, we started 2023 seeing substantial cost optimization, with most companies trying to save money in an uncertain economy. Much of this optimization was catalyzed by AWS helping customers use the cloud more efficiently and leverage more powerful, price-performant AWS capabilities like Graviton chips (our generalized CPU chips that provide ~40% better price-performance than other leading x86 processors), S3 Intelligent Tiering (a storage class that uses AI to detect objects accessed less frequently and store them in less expensive storage layers), and Savings Plans (which give customers lower prices in exchange for longer commitments). This work diminished short-term revenue, but was best for customers, much appreciated, and should bode well for customers and AWS longer-term. By the end of 2023, we saw cost optimization attenuating, new deals accelerating, customers renewing at larger commitments over longer time periods, and migrations growing again. | Metadata: {'element_id': '735075edbf527c6300fee3d53dd25371', 'filename': 'Amazon-com-Inc-2023-Annual-Report.pdf', 'page_number': 3, 'is_continuation': False, '_id': 'f6a622dd-1a1a-4dde-8426-41dc56b98e58', '_collection_name': 'Amazon'}\n",
            "[Score: 0.5000] Content: AWS has an $85B annualized revenue run rate, is still early in its adoption curve, but at a juncture where it’s critical to stay focused on what matters most to customers over the long-haul. Despite growing 29% year-over- year (“YoY”) in 2022 on a $62B revenue base, AWS faces short-term headwinds right now as companies are being more cautious in spending given the challenging, current macroeconomic conditions. While some companies might obsess over how they could extract as much money from customers as possible in these tight times, it’s neither what customers want nor best for customers in the long term, so we’re taking a different tack. One of the many advantages of AWS and cloud computing is that when your business grows, you can seamlessly scale up; and conversely, if your business contracts, you can choose to give us back that capacity and cease paying for it. This elasticity is unique to the cloud, and doesn’t exist when you’ve already made expensive capital investments in your own on-premises datacenters, servers, and networking gear. In AWS, like all our businesses, we’re not trying to optimize for any one quarter or year. We’re trying to build customer relationships (and a business) that outlast all of us; and as a result, our AWS sales and support teams are spending much of their time helping customers optimize their AWS spend so they can better weather this uncertain economy. Many of these AWS customers tell us that they’re not cost-cutting as much as cost- optimizing so they can take their resources and apply them to emerging and inventive new customer experiences they’re planning. Customers have appreciated this customer-focused, long-term approach, and we think it’ll bode well for both customers and AWS. | Metadata: {'element_id': '5e85243377386220f895310b7732c0aa', 'filename': 'Amazon-2022-Annual-Report.pdf', 'page_number': 4, 'is_continuation': False, '_id': '76294963-efc1-40e7-a39c-9a47a69de676', '_collection_name': 'Amazon'}\n",
            "[Score: 0.5000] Content: Unearned Revenue\n",
            "\n",
            "Unearned revenue is recorded when payments are received or due in advance of performing our service obligations and is recognized over the service period. Unearned revenue primarily relates to prepayments of AWS services and Amazon Prime memberships. Our total unearned revenue as of December 31, 2022 was $16.1 billion, of which $12.4 billion was recognized as revenue during the year ended December 31, 2023 and our total unearned revenue as of December 31, 2023 was $20.6 billion. Included in “Other long-term liabilities” on our consolidated balance sheets was $2.9 billion and $5.7 billion of unearned revenue as of December 31, 2022 and 2023.\n",
            "\n",
            "Additionally, we have performance obligations, primarily related to AWS, associated with commitments in customer contracts for future services that have not yet been recognized in our financial statements. For contracts with original terms that exceed one year, those commitments not yet recognized were $155.7 billion as of December 31, 2023. The weighted average remaining life of our long-term contracts is 4.0 years. However, the amount and timing of revenue recognition is largely driven by customer usage, which can extend beyond the original contractual term.\n",
            "\n",
            "Other Long-Term Liabilities\n",
            "\n",
            "Included in “Other long-term liabilities” on our consolidated balance sheets are liabilities primarily related to financing obligations, unearned revenue, asset retirement obligations, tax contingencies, digital video and music content, and deferred tax liabilities. | Metadata: {'element_id': '098b362728bb88881fcc0cf02fa3dee6', 'filename': 'Amazon-com-Inc-2023-Annual-Report.pdf', 'page_number': 63, 'is_continuation': False, '_id': '66c6d841-e65c-48da-afeb-e2b23be30a26', '_collection_name': 'Amazon'}\n"
          ]
        }
      ]
    },
    {
      "cell_type": "markdown",
      "source": [
        "# Self Querying Retrieval"
      ],
      "metadata": {
        "id": "YHnIytGrJrQO"
      }
    },
    {
      "cell_type": "code",
      "source": [
        "# Initialize the Gemini Model\n",
        "genai.configure(api_key=os.environ[\"GOOGLE_API_KEY\"])\n",
        "\n",
        "gemini_llm = ChatGoogleGenerativeAI(model=\"gemini-1.5-pro\", temperature=0)"
      ],
      "metadata": {
        "id": "7Ssm_b5vOu9v"
      },
      "execution_count": null,
      "outputs": []
    },
    {
      "cell_type": "code",
      "source": [
        "# Step 2: Initialize Dense Embeddings\n",
        "embeddings = OpenAIEmbeddings(model=\"text-embedding-3-large\")\n",
        "\n",
        "# Step 3: Initialize Sparse Embeddings\n",
        "sparse_embeddings = FastEmbedSparse(model_name=\"Qdrant/bm25\")\n",
        "# Initialize QdrantVectorStore\n",
        "vector_store = QdrantVectorStore(\n",
        "    client=qdrant_client,\n",
        "    collection_name=\"Amazon\",\n",
        "    embedding=embeddings,\n",
        "    sparse_embedding=sparse_embeddings,\n",
        "    retrieval_mode=RetrievalMode.HYBRID,\n",
        "    vector_name=\"dense\",  # Replace with the correct dense vector name\n",
        "    sparse_vector_name=\"sparse\"\n",
        ")\n",
        "\n",
        "print(\"QdrantVectorStore initialized successfully!\")"
      ],
      "metadata": {
        "colab": {
          "base_uri": "https://localhost:8080/",
          "referenced_widgets": [
            "f64a6200ccc54897a7226244ee964fa0",
            "bf63dd2ff85c4e6192de517aba1ad551",
            "9f26b7eec5cc426eaf1552042467ea6d",
            "0a89850c2a8d4f378311246ff0fa249d",
            "cd8b778f2b7a495c9b8380ca2aa3bef8",
            "3097517abdc145e6a36d35a42a11dfd0",
            "e88199a27ddd48b685c8c90d4245bcdf",
            "39f81d47117040c88736cd783d73eb53",
            "b0f54662674a438d80347f69c822c35e",
            "38242d4abee24f76abdafc897b46c75d",
            "96f30ae4945243ee9aff65ee93727337"
          ]
        },
        "id": "f577jokvq4u5",
        "outputId": "a9047ee8-b754-4d47-e91f-d8b9e7bd643c"
      },
      "execution_count": null,
      "outputs": [
        {
          "output_type": "display_data",
          "data": {
            "text/plain": [
              "Fetching 29 files:   0%|          | 0/29 [00:00<?, ?it/s]"
            ],
            "application/vnd.jupyter.widget-view+json": {
              "version_major": 2,
              "version_minor": 0,
              "model_id": "f64a6200ccc54897a7226244ee964fa0"
            }
          },
          "metadata": {}
        },
        {
          "output_type": "stream",
          "name": "stdout",
          "text": [
            "QdrantVectorStore initialized successfully!\n"
          ]
        }
      ]
    },
    {
      "cell_type": "code",
      "source": [
        "# Query using available metadata fields\n",
        "print(compression_retriever.invoke(\"What is the AWS role in the Amazon annual report?\"))"
      ],
      "metadata": {
        "colab": {
          "base_uri": "https://localhost:8080/"
        },
        "id": "eU84ftb8OFwo",
        "outputId": "964d308c-0f26-409d-9a85-914e23a31369"
      },
      "execution_count": null,
      "outputs": [
        {
          "output_type": "stream",
          "name": "stdout",
          "text": [
            "[Document(metadata={'element_id': '735075edbf527c6300fee3d53dd25371', 'filename': 'Amazon-com-Inc-2023-Annual-Report.pdf', 'page_number': 3, 'is_continuation': False, '_id': 'f6a622dd-1a1a-4dde-8426-41dc56b98e58', '_collection_name': 'Amazon', 'relevance_score': 0.14651443}, page_content='Shifting to AWS, we started 2023 seeing substantial cost optimization, with most companies trying to save money in an uncertain economy. Much of this optimization was catalyzed by AWS helping customers use the cloud more efficiently and leverage more powerful, price-performant AWS capabilities like Graviton chips (our generalized CPU chips that provide ~40% better price-performance than other leading x86 processors), S3 Intelligent Tiering (a storage class that uses AI to detect objects accessed less frequently and store them in less expensive storage layers), and Savings Plans (which give customers lower prices in exchange for longer commitments). This work diminished short-term revenue, but was best for customers, much appreciated, and should bode well for customers and AWS longer-term. By the end of 2023, we saw cost optimization attenuating, new deals accelerating, customers renewing at larger commitments over longer time periods, and migrations growing again.'), Document(metadata={'element_id': '37714592e6f3f769dcd1f9a49c7ea7ff', 'filename': 'Amazon-com-Inc-2023-Annual-Report.pdf', 'page_number': 37, 'is_continuation': False, '_id': 'ebc260ff-2136-499b-927c-b5e7a8528bf8', '_collection_name': 'Amazon', 'relevance_score': 0.12932599}, page_content='Operating Income (Loss)\\n\\nOperating income (loss) by segment is as follows (in millions):\\n\\nYear Ended December 31, 2022 2023 Operating Income (Loss) North America $ (2,847) $ 14,877 International (7,746) (2,656) AWS 22,841 24,631 Consolidated $ 12,248 $ 36,852\\n\\nOperating income was $12.2 billion and $36.9 billion for 2022 and 2023. We believe that operating income is a more meaningful measure than gross profit and gross margin due to the diversity of our product categories and services.\\n\\nThe North America operating income in 2023, as compared to the operating loss in the prior year, is primarily due to increased unit sales and increased advertising sales, partially offset by increased shipping and fulfillment costs and increased technology and infrastructure costs.\\n\\nThe decrease in International operating loss in absolute dollars in 2023, compared to the prior year, is primarily due to increased unit sales and increased advertising sales, partially offset by increased fulfillment and shipping costs and increased technology and infrastructure costs. Changes in foreign exchange rates positively impacted operating loss by $246 million in 2023.\\n\\nThe increase in AWS operating income in absolute dollars in 2023, compared to the prior year, is primarily due to increased sales, partially offset by increased payroll and related expenses and spending on technology infrastructure, both of which were primarily driven by additional investments to support AWS business growth. Changes in foreign exchange rates positively impacted operating income by $220 million in 2023.\\n\\n25\\nHTML Content: <table><thead><tr><th></th><th colspan=\"2\">Year Ended December 31,</th></tr><tr><th></th><th>2022</th><th>2023</th></tr></thead><tbody><tr><td colspan=\"3\">Operating Income (Loss)</td></tr><tr><td>North America</td><td>$ (2,847)</td><td>$ 14,877</td></tr><tr><td>International</td><td>(7,746)</td><td>(2,656)</td></tr><tr><td>AWS</td><td>22,841</td><td>24,631</td></tr><tr><td>Consolidated</td><td>$ 12,248</td><td>§ 36,852</td></tr></tbody></table>\\nSummary: - Table Name: Operating Income Analysis for North America, International, and AWS (2022-2023)\\n- Summary: The table shows a significant recovery in operating income for North America from a loss of $2,847 in 2022 to a profit of $14,877 in 2023. International operations improved but still reported a loss, decreasing from $(7,746) to $(2,656). AWS continued to grow its operating income, increasing from $22,841 to $24,631. Overall, consolidated operating income rose from $12,248 in 2022 to $36,852 in 2023.\\n- Context: This table provides insights into the operating income performance across different regions and segments of the business for the years 2022 and 2023. It highlights the recovery and growth in profitability, particularly for North America and AWS, which is crucial for assessing the company\\'s financial health and operational efficiency.\\n- Alternative Name: Yearly Operating Income Comparison by Region and Segment (2022-2023)'), Document(metadata={'element_id': 'b77eb80fb78b0ab0240df5555c2244e5', 'filename': 'Amazon-com-Inc-2023-Annual-Report.pdf', 'page_number': 3, 'is_continuation': False, '_id': '15348d22-5162-4b55-862e-fd7dfc33e170', '_collection_name': 'Amazon', 'relevance_score': 0.12516183}, page_content='The past year was also a significant delivery year for AWS. We announced our next generation of generalized CPU chips (Graviton4), which provides up to 30% better compute performance and 75% more memory bandwidth than its already-leading predecessor (Graviton3). We also announced AWS Trainium2 chips, which will deliver up to four times faster machine learning training for generative AI applications and three times more memory capacity than Trainium1. We continued expanding our AWS infrastructure footprint, now offering 105 Availability Zones within 33 geographic Regions globally, with six new Regions coming (Malaysia, Mexico, New Zealand, the Kingdom of Saudi Arabia, Thailand, and a second German region in Berlin). In Generative AI (“GenAI”), we added dozens of features to Amazon SageMaker to make it easier for developers to build new Foundation Models (“FMs”). We invented and delivered a new service (Amazon Bedrock) that lets companies leverage existing FMs to build GenAI applications. And, we launched the most capable coding assistant around in Amazon Q. Customers are excited about these capabilities, and we’re seeing significant traction in our GenAI offerings. (More on how we’re approaching GenAI and why we believe we’ll be successful later in the letter.)\\n\\nWe’re also making progress on many of our newer business investments that have the potential to be important to customers and Amazon long-term. Touching on two of them:\\n\\nWe have increasing conviction that Prime Video can be a large and profitable business on its own. This confidence is buoyed by the continued development of compelling, exclusive content (e.g. Thursday Night Football, Lord of the Rings, Reacher, The Boys, Citadel, Road House, etc.), Prime Video customers’ engagement with this content, growth in our marketplace programs (through our third-party Channels program, as well as the broad selection of shows and movies customers rent or buy), and the addition of advertising in Prime Video.')]\n"
          ]
        }
      ]
    },
    {
      "cell_type": "code",
      "source": [
        "\n",
        "query =\"What is the AWS role in the Amazon annual report?\"\n",
        "Cohere_Retriever= compression_retriever.get_relevant_documents(query)\n",
        "Cohere_Retriever"
      ],
      "metadata": {
        "colab": {
          "base_uri": "https://localhost:8080/"
        },
        "id": "G2tefk0PcnTS",
        "outputId": "62884ae2-5e4b-418a-e992-45f4d1e80efd",
        "collapsed": true
      },
      "execution_count": null,
      "outputs": [
        {
          "output_type": "execute_result",
          "data": {
            "text/plain": [
              "[Document(metadata={'element_id': '735075edbf527c6300fee3d53dd25371', 'filename': 'Amazon-com-Inc-2023-Annual-Report.pdf', 'page_number': 3, 'is_continuation': False, '_id': 'f6a622dd-1a1a-4dde-8426-41dc56b98e58', '_collection_name': 'Amazon', 'relevance_score': 0.14651443}, page_content='Shifting to AWS, we started 2023 seeing substantial cost optimization, with most companies trying to save money in an uncertain economy. Much of this optimization was catalyzed by AWS helping customers use the cloud more efficiently and leverage more powerful, price-performant AWS capabilities like Graviton chips (our generalized CPU chips that provide ~40% better price-performance than other leading x86 processors), S3 Intelligent Tiering (a storage class that uses AI to detect objects accessed less frequently and store them in less expensive storage layers), and Savings Plans (which give customers lower prices in exchange for longer commitments). This work diminished short-term revenue, but was best for customers, much appreciated, and should bode well for customers and AWS longer-term. By the end of 2023, we saw cost optimization attenuating, new deals accelerating, customers renewing at larger commitments over longer time periods, and migrations growing again.'),\n",
              " Document(metadata={'element_id': '37714592e6f3f769dcd1f9a49c7ea7ff', 'filename': 'Amazon-com-Inc-2023-Annual-Report.pdf', 'page_number': 37, 'is_continuation': False, '_id': 'ebc260ff-2136-499b-927c-b5e7a8528bf8', '_collection_name': 'Amazon', 'relevance_score': 0.12932599}, page_content='Operating Income (Loss)\\n\\nOperating income (loss) by segment is as follows (in millions):\\n\\nYear Ended December 31, 2022 2023 Operating Income (Loss) North America $ (2,847) $ 14,877 International (7,746) (2,656) AWS 22,841 24,631 Consolidated $ 12,248 $ 36,852\\n\\nOperating income was $12.2 billion and $36.9 billion for 2022 and 2023. We believe that operating income is a more meaningful measure than gross profit and gross margin due to the diversity of our product categories and services.\\n\\nThe North America operating income in 2023, as compared to the operating loss in the prior year, is primarily due to increased unit sales and increased advertising sales, partially offset by increased shipping and fulfillment costs and increased technology and infrastructure costs.\\n\\nThe decrease in International operating loss in absolute dollars in 2023, compared to the prior year, is primarily due to increased unit sales and increased advertising sales, partially offset by increased fulfillment and shipping costs and increased technology and infrastructure costs. Changes in foreign exchange rates positively impacted operating loss by $246 million in 2023.\\n\\nThe increase in AWS operating income in absolute dollars in 2023, compared to the prior year, is primarily due to increased sales, partially offset by increased payroll and related expenses and spending on technology infrastructure, both of which were primarily driven by additional investments to support AWS business growth. Changes in foreign exchange rates positively impacted operating income by $220 million in 2023.\\n\\n25\\nHTML Content: <table><thead><tr><th></th><th colspan=\"2\">Year Ended December 31,</th></tr><tr><th></th><th>2022</th><th>2023</th></tr></thead><tbody><tr><td colspan=\"3\">Operating Income (Loss)</td></tr><tr><td>North America</td><td>$ (2,847)</td><td>$ 14,877</td></tr><tr><td>International</td><td>(7,746)</td><td>(2,656)</td></tr><tr><td>AWS</td><td>22,841</td><td>24,631</td></tr><tr><td>Consolidated</td><td>$ 12,248</td><td>§ 36,852</td></tr></tbody></table>\\nSummary: - Table Name: Operating Income Analysis for North America, International, and AWS (2022-2023)\\n- Summary: The table shows a significant recovery in operating income for North America from a loss of $2,847 in 2022 to a profit of $14,877 in 2023. International operations improved but still reported a loss, decreasing from $(7,746) to $(2,656). AWS continued to grow its operating income, increasing from $22,841 to $24,631. Overall, consolidated operating income rose from $12,248 in 2022 to $36,852 in 2023.\\n- Context: This table provides insights into the operating income performance across different regions and segments of the business for the years 2022 and 2023. It highlights the recovery and growth in profitability, particularly for North America and AWS, which is crucial for assessing the company\\'s financial health and operational efficiency.\\n- Alternative Name: Yearly Operating Income Comparison by Region and Segment (2022-2023)'),\n",
              " Document(metadata={'element_id': 'b77eb80fb78b0ab0240df5555c2244e5', 'filename': 'Amazon-com-Inc-2023-Annual-Report.pdf', 'page_number': 3, 'is_continuation': False, '_id': '15348d22-5162-4b55-862e-fd7dfc33e170', '_collection_name': 'Amazon', 'relevance_score': 0.12516183}, page_content='The past year was also a significant delivery year for AWS. We announced our next generation of generalized CPU chips (Graviton4), which provides up to 30% better compute performance and 75% more memory bandwidth than its already-leading predecessor (Graviton3). We also announced AWS Trainium2 chips, which will deliver up to four times faster machine learning training for generative AI applications and three times more memory capacity than Trainium1. We continued expanding our AWS infrastructure footprint, now offering 105 Availability Zones within 33 geographic Regions globally, with six new Regions coming (Malaysia, Mexico, New Zealand, the Kingdom of Saudi Arabia, Thailand, and a second German region in Berlin). In Generative AI (“GenAI”), we added dozens of features to Amazon SageMaker to make it easier for developers to build new Foundation Models (“FMs”). We invented and delivered a new service (Amazon Bedrock) that lets companies leverage existing FMs to build GenAI applications. And, we launched the most capable coding assistant around in Amazon Q. Customers are excited about these capabilities, and we’re seeing significant traction in our GenAI offerings. (More on how we’re approaching GenAI and why we believe we’ll be successful later in the letter.)\\n\\nWe’re also making progress on many of our newer business investments that have the potential to be important to customers and Amazon long-term. Touching on two of them:\\n\\nWe have increasing conviction that Prime Video can be a large and profitable business on its own. This confidence is buoyed by the continued development of compelling, exclusive content (e.g. Thursday Night Football, Lord of the Rings, Reacher, The Boys, Citadel, Road House, etc.), Prime Video customers’ engagement with this content, growth in our marketplace programs (through our third-party Channels program, as well as the broad selection of shows and movies customers rent or buy), and the addition of advertising in Prime Video.')]"
            ]
          },
          "metadata": {},
          "execution_count": 134
        }
      ]
    },
    {
      "cell_type": "code",
      "source": [
        "#filenames = os.listdir(\"/content/drive/MyDrive/Final52RAG/input\")\n",
        "filenames = os.listdir(f\"D:\\Amazon\")\n",
        "\n",
        "# Print the filenames\n",
        "print(\"Files in the folder:\")\n",
        "for filename in filenames:\n",
        "    print(filename)\n",
        "\n"
      ],
      "metadata": {
        "colab": {
          "base_uri": "https://localhost:8080/"
        },
        "id": "xO7gEyhmpL2L",
        "outputId": "70880d09-17ce-41e4-ba04-33ad42438bba",
        "collapsed": true
      },
      "execution_count": null,
      "outputs": [
        {
          "output_type": "stream",
          "name": "stdout",
          "text": [
            "Files in the folder:\n",
            "2023-political-engagement-statement.pdf\n",
            "Amazon's-Tax-Principles.pdf\n",
            "Amazon-2022-Annual-Report.pdf\n",
            "Amazon-com-Inc-2023-Annual-Report.pdf\n",
            "Amazon-com-Inc-2023-Shareholder-Letter.pdf\n",
            "Amazon-com-Inc-2024-Proxy-Statement.pdf\n",
            "amazon-com-inc-bylaws-may-3-2024-1.pdf\n",
            "Amazon-s-Global-Economic-Impact-and-Tax-Contribution-2023.pdf\n",
            "Amazon-Sustainable-Bond-Framework.pdf\n",
            "amazon_code_of_conduct.pdf\n",
            "amazon_corporate_governance_guidelines.pdf\n",
            "amazon_officers.pdf\n",
            "amzn-2023-conflict-minerals-report.pdf\n",
            "AMZN-Q1-2024-Earnings-Release.pdf\n",
            "AMZN-Q2-2024-Earnings-Release.pdf\n",
            "AMZN-Q3-2024-Earnings-Release.pdf\n",
            "Guide to 10k.pdf\n",
            "Note-on-Alignment-with-Paris-Agreement.pdf\n"
          ]
        },
        {
          "output_type": "stream",
          "name": "stderr",
          "text": [
            "<>:2: SyntaxWarning: invalid escape sequence '\\A'\n",
            "<>:2: SyntaxWarning: invalid escape sequence '\\A'\n",
            "C:\\Users\\SachinSlade\\AppData\\Local\\Temp\\ipykernel_3924\\3886577819.py:2: SyntaxWarning: invalid escape sequence '\\A'\n",
            "  filenames = os.listdir(f\"D:\\Amazon\")\n"
          ]
        }
      ]
    },
    {
      "cell_type": "code",
      "source": [
        "ContextualCompressionRetriever??"
      ],
      "metadata": {
        "id": "RRCI5E99WNGT"
      },
      "execution_count": null,
      "outputs": []
    },
    {
      "cell_type": "code",
      "source": [
        "# Metadata schema definition\n",
        "metadata_field_info = [\n",
        "    AttributeInfo(\n",
        "        name=\"element_id\",\n",
        "        description=\"A unique identifier for the document element\",\n",
        "        type=\"string\",\n",
        "    ),\n",
        "    AttributeInfo(\n",
        "        name=\"filename\",\n",
        "        description = f\"The name of the file where the document is stored. List of filenames are: {', '.join(filenames)}\",\n",
        "        type=\"string\",\n",
        "    ),\n",
        "    AttributeInfo(\n",
        "        name=\"page_number\",\n",
        "        description=\"The page number where the document content is located\",\n",
        "        type=\"integer\",\n",
        "    ),\n",
        "    AttributeInfo(\n",
        "        name=\"is_continuation\",\n",
        "        description=\"A flag indicating whether the document content continues from a previous page\",\n",
        "        type=\"boolean\",\n",
        "    ),\n",
        "]\n",
        "\n",
        "# Content description\n",
        "document_content_description = \"Text extracted from the Amazon Annual Report, including specific metadata fields like element ID, filename, and page information.\"\n"
      ],
      "metadata": {
        "id": "Y8mRroxPpW5K"
      },
      "execution_count": null,
      "outputs": []
    },
    {
      "cell_type": "code",
      "source": [
        "# Step 3: Define the Prompt Template\n",
        "prompt_template = \"\"\"\n",
        "You are an expert assistant tasked with answering questions based on retrieved documents.\n",
        "Use the retrieved context to provide accurate, concise, and direct answers to the user's question.\n",
        "If the information is not available in the context, respond with \"I don't have enough information to answer that.\"\n",
        "\n",
        "Context:\n",
        "{context}\n",
        "\n",
        "Question:\n",
        "{question}\n",
        "\n",
        "Final Answer:\n",
        "[Provide a concise answer to the question here]\n",
        "\n",
        "Additional Context: [Provide supporting information]\n",
        "\"\"\"\n",
        "\n",
        "qa_prompt = PromptTemplate(\n",
        "    template=prompt_template,\n",
        "    input_variables=[\"context\", \"question\"]\n",
        ")\n",
        "\n"
      ],
      "metadata": {
        "id": "xqcsTNjJTTYR"
      },
      "execution_count": null,
      "outputs": []
    },
    {
      "cell_type": "code",
      "source": [],
      "metadata": {
        "id": "1CkbcWKZJc63"
      },
      "execution_count": null,
      "outputs": []
    },
    {
      "cell_type": "code",
      "source": [
        "retriever = SelfQueryRetriever.from_llm(\n",
        "    llm=gemini_llm,\n",
        "    vectorstore=vector_store,\n",
        "    search_kwargs={\"k\": 10},\n",
        "    document_contents=document_content_description,  # REQUIRED\n",
        "    metadata_field_info=metadata_field_info,\n",
        "    verbose=True\n",
        ")\n"
      ],
      "metadata": {
        "id": "0sFTyDK_Owb2"
      },
      "execution_count": null,
      "outputs": []
    },
    {
      "cell_type": "code",
      "source": [
        "print(retriever.invoke(query))"
      ],
      "metadata": {
        "colab": {
          "base_uri": "https://localhost:8080/"
        },
        "id": "3CUvL16rn15f",
        "outputId": "ad6f0f63-2f90-410e-dc1f-b1e7aa81f880"
      },
      "execution_count": null,
      "outputs": [
        {
          "output_type": "stream",
          "name": "stdout",
          "text": [
            "[Document(metadata={'element_id': '3a017cb950d49245eb9f00eff9b88a35', 'filename': 'Amazon-Sustainable-Bond-Framework.pdf', 'page_number': 8, 'is_continuation': False, '_id': 'b90eb226-783f-4e4f-a9c0-6770aec2b4a1', '_collection_name': 'Amazon'}, page_content='25 https://blog.aboutamazon.eu/aws/amazon-web-services-backs-new-swedish-water-conservation-project-to-protect-against-flooding-boost-water-quality-and-biodiversity\\n\\n26 https://blog.aboutamazon.eu/aws/local-community-buildings-in-ireland-to-be-heated-by-amazon-data-centre\\n\\n27 https://www.aboutamazon.com/news/amazon-offices/the-next-chapter-for-hq2-sustainable-buildings-surrounded-by-nature\\n\\n28 https://blog.aboutamazon.eu/sustainability/amazon-supports-fight-against-climate-change-effects-on-european-cities\\n\\namazon\\n\\nAmazon Sustainable Bond Framework\\n\\n8\\n\\n4.4.2 Impact Reporting\\n\\nExamples of the impact metrics that may be included in any report we publish may include:\\n\\nProject Category Example Impact Metrics Clean Transportation • Number of EV charging ports installed for our transport fleets. • Number of orders transported in zero-emissions delivery vehicle or by a delivery associate on foot or on bicycle. Renewable Energy • Renewable energy capacity commitments (MW). Sustainable Buildings • Square footage built that is Gold or Platinum LEED-certified. AffordableHousing • Number of families/individuals benefitting from affordable housing (also using SAHF Outcome Metrics).29 • Number of affordable housing units constructed/preserved. Socioeconomic • Number of individuals or employees participating in upskilling programs or Advancement and graduating from Career Choice. Empowerment\\nHTML Content: <table><thead><tr><th>Project Category</th><th>Example Impact Metrics</th></tr></thead><tbody><tr><td>Clean Transportation</td><td>. Number of EV charging ports installed for our transport fleets. Number of orders transported in zero-emissions delivery vehicle or by a delivery associate on foot or on bicycle. •</td></tr><tr><td>Renewable Energy</td><td>Renewable energy capacity commitments (MW). •</td></tr><tr><td>Sustainable Buildings</td><td>Square footage built that is Gold or Platinum LEED-certified. •</td></tr><tr><td>Affordable Housing</td><td>Number of families/individuals benefitting from affordable housing (also using SAHF Outcome Metrics).?® Number of affordable housing units constructed/preserved. •</td></tr><tr><td>Socioeconomic Advancement and Empowerment</td><td>Number of individuals or employees participating in upskilling programs or graduating from Career Choice. •</td></tr></tbody></table>\\nSummary: - Table Name: Impact Metrics by Project Category\\n- Summary: The table outlines various project categories along with their corresponding impact metrics, illustrating the specific contributions of each category towards sustainability and social advancement.\\n- Context: This table serves to highlight the measurable outcomes of different initiatives in areas such as clean transportation, renewable energy, sustainable buildings, affordable housing, and socioeconomic empowerment. It emphasizes the importance of tracking these metrics to assess progress and effectiveness in achieving environmental and social goals.\\n- Alternative Name: Project Categories and Their Impact Metrics'), Document(metadata={'element_id': '444d65c3792d2142934c452128ae2a82', 'filename': 'Amazon-Sustainable-Bond-Framework.pdf', 'page_number': 5, 'is_continuation': False, '_id': '3784a244-2cdd-4274-8a45-3a2e5b799ccb', '_collection_name': 'Amazon'}, page_content='2 https://www.aboutamazon.com/news/transportation/amazons-custom-electric-delivery-vehicles-are-starting-to-hit-the-road\\n\\n3 https://www.aboutamazon.com/news/sustainability/mercedes-benz-joins-the-climate-pledge\\n\\n4 https://blog.aboutamazon.in/operations/amazon-india-partners-with-mahindra-electric-to-help-fulfil-its-commitment-towards-electric-mobility\\n\\n5 https://www.aboutamazon.com/news/transportation/introducing-amazons-first-custom-electric-delivery-vehicle\\n\\n6 https://www.aboutamazon.com/news/transportation/introducing-amazons-first-custom-electric-delivery-vehicle\\n\\n7 https://media.rivian.com/rivian-announces-2-5-billion-investment-round/\\n\\n8 https://sustainability.aboutamazon.com/about/around-the-globe?energyType=true\\n\\n9 https://www.aboutamazon.com/news/sustainability/amazon-becomes-the-worlds-largest-corporate-purchaser-of-renewable-energy\\n\\n10 https://www.aboutamazon.com/news/sustainability/amazon-is-making-big-global-investments-in-renewable-energy\\n\\namazon\\n\\nAmazon S tainable Bond Framework\\n\\n5'), Document(metadata={'element_id': '9f6808bffb080c0c8db78a85b1c7afef', 'filename': 'Amazon-com-Inc-2024-Proxy-Statement.pdf', 'page_number': 69, 'is_continuation': False, '_id': 'fcd2ea7d-2296-476d-b214-1019d0201070', '_collection_name': 'Amazon'}, page_content='In addition, as the world’s largest corporate renewable energy purchaser for the fourth year in a row, we have a unique role to play in supporting a just, equitable, and sustainable energy transition. For example, we are a founding member of Beyond the Megawatt, an initiative of the Clean Energy Buyers Institute to maximize the environmental and social benefits of the clean energy transition.46 As a member, we support Beyond the Megawatt’s efforts to address resilience, social equity, and environmental protection issues by scaling impact-oriented clean-energy procurement strategies. We partnered with USAID, the BHP Foundation, and the Chandler Foundation on the Powering a Just Energy Transition Green Minerals Challenge, which seeks to catalyze the development, application, and scaling of innovations to strengthen transparency and counter corruption in critical mineral supply chains for the clean energy transition.47 A global clean energy transition will require increased supplies of minerals that power more-sustainable technologies. This rise in demand has the potential to benefit millions through inclusive economic growth—if managed responsibly to prevent corruption and resource exploitation in “green” mineral-rich countries. We have also made a $53 million commitment to address gender inequities that exist for women in the climate finance ecosystem and to support female entrepreneurs with the resources they need to accelerate climate change innovations, including by serving as a founding partner of the Climate Gender Equity Fund, which has raised'), Document(metadata={'element_id': '4dd79ec32a4c0ec64f0c71f7aa7b77bd', 'filename': 'Amazon-Sustainable-Bond-Framework.pdf', 'page_number': 5, 'is_continuation': False, '_id': '779859bd-5ac0-4025-a20d-d0dd7c475736', '_collection_name': 'Amazon'}, page_content=\"4.1 Eligible Projects\\n\\n“Eligible Projects” are investments and expenditures, including private equity investments, loans, and other financing structures, made by Amazon or any of its subsidiaries from the issuance date of any Green, Social, or Sustainability Bonds and including the 24 months prior to any such issuance that meet the eligibility criteria outlined below:\\n\\nGreen Eligible Eligibility Criteria and Example Projects Sustainable Project Category Development Goal (SDG) Clean Expenditures related to the design, development, 9 – Industry, Innovation Transportation construction, maintenance, and operation of electric and and Infrastructure alternative vehicles and related infrastructure. Example 13 – Climate Action projects may include, but are not limited to: • Acquisition of electric vehicles for transportation fleets. 2, 3, 4 • Acquisition of electric alternative delivery vehicles such as e-bikes, electric three-wheelers, and pedal-assist electric bikes connected to cargo trailers.5 • Installation of electric vehicle charging stations.6 • Private equity investments in clean transportation, where a minimum of 90% of the company’s revenues are derived from clean transportation.7 Renewable Expenditures related to the construction, development, 7 – Affordable and Clean Energy acquisition, maintenance, and operation of renewable energy Energy generation (solar and wind 8), as well as renewable energy storage projects.9 Example projects may include, but are not 9 – Industry, Innovation, and Infrastructure limited to: 11 – Sustainable Cities • On-site renewable energy projects and storage installations.10 and Communities • Renewable energy power purchase agreements (PPAs). 13 – Climate Action • Investments in utility programs that add new renewable energy to the grid.\\nHTML Content: <table><thead><tr><th>Green Eligible Project Category</th><th>Eligibility Criteria and Example Projects</th><th>Sustainable Development Goal (SDG)</th></tr></thead><tbody><tr><td>Clean Transportation</td><td>Expenditures related to the design, development, construction, maintenance, and operation of electric and alternative vehicles and related infrastructure. Example projects may include, but are not limited to: . Acquisition of electric vehicles for transportation fleets.? 4 . Acquisition of electric alternative delivery vehicles such as e-bikes, electric three-wheelers, and pedal-assist electric bikes connected to cargo trailers. Installation of electric vehicle charging stations.® Private equity investments in clean transportation, where a minimum of 90% of the company's revenues are derived from clean transportation.” • \\n •</td><td>9—Industry, Innovation and Infrastructure 13 - Climate Action</td></tr><tr><td>Renewable Energy</td><td>Expenditures related to the construction, development, acquisition, maintenance, and operation of renewable energy</td><td>7 — Affordable and Clean Energy</td></tr><tr><td></td><td>storage projects.” Example projects may include, but are not limited to: . On-site renewable energy projects and storage installations.™ . Renewable energy power purchase agreements (PPAs). . Investments in utility programs that add new renewable energy to the grid.</td><td>9-Industry, Innovation, and Infrastructure 11 - Sustainable Cities and Communities 13 - Climate Action</td></tr></tbody></table>\\nSummary: - Table Name: Green Eligible Project Categories and Their Criteria\\n- Summary: The table outlines various green project categories, such as Clean Transportation and Renewable Energy, detailing eligibility criteria and example projects, while linking them to relevant Sustainable Development Goals (SDGs).\\n- Context: This table serves to inform stakeholders about the types of projects that qualify for green funding and investment, highlighting their contributions to sustainable development and climate action, thus facilitating informed decision-making in environmental finance.\\n- Alternative Name: Criteria for Green Project Eligibility and SDG Alignment\")]\n",
            "[Document(metadata={'element_id': 'c4508c0e5d9ee98b1f59c3f3414385b0', 'filename': 'Note-on-Alignment-with-Paris-Agreement.pdf', 'page_number': 2, 'is_continuation': False, '_id': '446a94fc-dbfc-4aff-8331-2eccb61e7840', '_collection_name': 'Amazon'}, page_content='Below are some of the public policy efforts Amazon has taken since 2019 at the federal, state, and international level in support of promoting clean energy and addressing climate change, all of which are aligned with the Paris Agreement goals:\\n\\nApril - December 2021: Advocated for the climate provisions in President Biden’s American Jobs Plan and the Build Back Better Act proposed in Congress, including support for alternative fuel vehicles, electric vehicle charging infrastructure, sustainable aviation fuels, renewable electricity data, federal fleet electrification, and low-carbon R&D. Joined other leading businesses to lobby Congress in support of investments that address the urgent threat of climate change such as wind and solar energy.\\n\\nAugust 2021: Publicly endorsed the bipartisan Infrastructure Investment and Jobs Act, highlighting its electric vehicle and clean energy provisions.\\n\\nMarch 2021: Publicly supported a low-carbon fuels standard proposed in the Washington State legislature.\\n\\nSeptember 2020: Responded to the European Union’s Renewable Energy Directive consultation and emphasized the importance of voluntary corporate renewable energy purchasing in achieving the goals of the European Green Deal.\\n\\nJanuary 2020: Testified at the Virginia General Assembly in favor of legislation to expand the use of energy storage to further integrate renewable energy into the grid in Virginia.\\n\\nDecember 2019: Publicly praised the European Union’s intent to reach climate neutrality and pledged to work together with the new EU Commission on the Green Deal.'), Document(metadata={'element_id': '444d65c3792d2142934c452128ae2a82', 'filename': 'Amazon-Sustainable-Bond-Framework.pdf', 'page_number': 5, 'is_continuation': False, '_id': '3784a244-2cdd-4274-8a45-3a2e5b799ccb', '_collection_name': 'Amazon'}, page_content='2 https://www.aboutamazon.com/news/transportation/amazons-custom-electric-delivery-vehicles-are-starting-to-hit-the-road\\n\\n3 https://www.aboutamazon.com/news/sustainability/mercedes-benz-joins-the-climate-pledge\\n\\n4 https://blog.aboutamazon.in/operations/amazon-india-partners-with-mahindra-electric-to-help-fulfil-its-commitment-towards-electric-mobility\\n\\n5 https://www.aboutamazon.com/news/transportation/introducing-amazons-first-custom-electric-delivery-vehicle\\n\\n6 https://www.aboutamazon.com/news/transportation/introducing-amazons-first-custom-electric-delivery-vehicle\\n\\n7 https://media.rivian.com/rivian-announces-2-5-billion-investment-round/\\n\\n8 https://sustainability.aboutamazon.com/about/around-the-globe?energyType=true\\n\\n9 https://www.aboutamazon.com/news/sustainability/amazon-becomes-the-worlds-largest-corporate-purchaser-of-renewable-energy\\n\\n10 https://www.aboutamazon.com/news/sustainability/amazon-is-making-big-global-investments-in-renewable-energy\\n\\namazon\\n\\nAmazon S tainable Bond Framework\\n\\n5'), Document(metadata={'element_id': '4dd79ec32a4c0ec64f0c71f7aa7b77bd', 'filename': 'Amazon-Sustainable-Bond-Framework.pdf', 'page_number': 5, 'is_continuation': False, '_id': '779859bd-5ac0-4025-a20d-d0dd7c475736', '_collection_name': 'Amazon'}, page_content=\"4.1 Eligible Projects\\n\\n“Eligible Projects” are investments and expenditures, including private equity investments, loans, and other financing structures, made by Amazon or any of its subsidiaries from the issuance date of any Green, Social, or Sustainability Bonds and including the 24 months prior to any such issuance that meet the eligibility criteria outlined below:\\n\\nGreen Eligible Eligibility Criteria and Example Projects Sustainable Project Category Development Goal (SDG) Clean Expenditures related to the design, development, 9 – Industry, Innovation Transportation construction, maintenance, and operation of electric and and Infrastructure alternative vehicles and related infrastructure. Example 13 – Climate Action projects may include, but are not limited to: • Acquisition of electric vehicles for transportation fleets. 2, 3, 4 • Acquisition of electric alternative delivery vehicles such as e-bikes, electric three-wheelers, and pedal-assist electric bikes connected to cargo trailers.5 • Installation of electric vehicle charging stations.6 • Private equity investments in clean transportation, where a minimum of 90% of the company’s revenues are derived from clean transportation.7 Renewable Expenditures related to the construction, development, 7 – Affordable and Clean Energy acquisition, maintenance, and operation of renewable energy Energy generation (solar and wind 8), as well as renewable energy storage projects.9 Example projects may include, but are not 9 – Industry, Innovation, and Infrastructure limited to: 11 – Sustainable Cities • On-site renewable energy projects and storage installations.10 and Communities • Renewable energy power purchase agreements (PPAs). 13 – Climate Action • Investments in utility programs that add new renewable energy to the grid.\\nHTML Content: <table><thead><tr><th>Green Eligible Project Category</th><th>Eligibility Criteria and Example Projects</th><th>Sustainable Development Goal (SDG)</th></tr></thead><tbody><tr><td>Clean Transportation</td><td>Expenditures related to the design, development, construction, maintenance, and operation of electric and alternative vehicles and related infrastructure. Example projects may include, but are not limited to: . Acquisition of electric vehicles for transportation fleets.? 4 . Acquisition of electric alternative delivery vehicles such as e-bikes, electric three-wheelers, and pedal-assist electric bikes connected to cargo trailers. Installation of electric vehicle charging stations.® Private equity investments in clean transportation, where a minimum of 90% of the company's revenues are derived from clean transportation.” • \\n •</td><td>9—Industry, Innovation and Infrastructure 13 - Climate Action</td></tr><tr><td>Renewable Energy</td><td>Expenditures related to the construction, development, acquisition, maintenance, and operation of renewable energy</td><td>7 — Affordable and Clean Energy</td></tr><tr><td></td><td>storage projects.” Example projects may include, but are not limited to: . On-site renewable energy projects and storage installations.™ . Renewable energy power purchase agreements (PPAs). . Investments in utility programs that add new renewable energy to the grid.</td><td>9-Industry, Innovation, and Infrastructure 11 - Sustainable Cities and Communities 13 - Climate Action</td></tr></tbody></table>\\nSummary: - Table Name: Green Eligible Project Categories and Their Criteria\\n- Summary: The table outlines various green project categories, such as Clean Transportation and Renewable Energy, detailing eligibility criteria and example projects, while linking them to relevant Sustainable Development Goals (SDGs).\\n- Context: This table serves to inform stakeholders about the types of projects that qualify for green funding and investment, highlighting their contributions to sustainable development and climate action, thus facilitating informed decision-making in environmental finance.\\n- Alternative Name: Criteria for Green Project Eligibility and SDG Alignment\"), Document(metadata={'element_id': '6bbcc0c49783b4c9f339771f7c43f4dd', 'filename': 'Amazon-com-Inc-2024-Proxy-Statement.pdf', 'page_number': 12, 'is_continuation': False, '_id': '7395fdd1-6c67-4bfa-b54b-994890cf1cd1', '_collection_name': 'Amazon'}, page_content='o 1 1 N i —1\\n\\nWe’re committed to delivering the products our customers love in packaging that protects their items, while minimizing waste and materials used. We continued our efforts in sustainable packaging, including:\\n\\n• Since 2015, we’ve reduced per-shipment packaging weight by 41% on average, avoiding more than 2 million tons of packaging—the equivalent weight of more than 173 Space Needles, Seattle’s iconic tower.\\n\\n• We are decreasing single-use plastic delivery packaging across our global operations and increasing the number of shipping orders globally without any additional Amazon packaging.\\n\\nIn Europe, we replaced our single-use plastic delivery packaging with 100% recyclable paper and cardboard packaging in our fulfillment network.\\n\\nIn India, we eliminated single-use, thin-film plastic packaging from the country’s fulfillment network.\\n\\nIn the U.S., we launched the first fulfillment center to exclusively use paper packaging that’s curbside recyclable, part of a multi-year plan to convert U.S. fulfillment centers to paper packaging.\\n\\nWe expanded the use of zero-emission vehicles to help minimize our impact on the environment, including:\\n\\n• We now have more than 10,000 custom electric delivery vehicles from Rivian on the road across the U.S., and we also brought the custom vans to Europe last year.\\n\\n• We have installed over 12,000 chargers at more than 100 delivery stations across the U.S.\\n\\n• We have more than 15 varieties of electric vehicles on the road across the U.S., the European Union, and India, including delivery vehicles, e-cargo bikes, and e-rickshaws.\\n\\n• We transported goods on the world’s first-ever zero-emission capable cargo ship, taking our efforts to decarbonize our transportation network to the seas.\\n\\n• We invested in solutions like green hydrogen and other alternative fuel methods, such as ultra-low carbon electrofuels, for our delivery and operations.')]\n",
            "[Document(metadata={'element_id': '3a017cb950d49245eb9f00eff9b88a35', 'filename': 'Amazon-Sustainable-Bond-Framework.pdf', 'page_number': 8, 'is_continuation': False, '_id': 'b90eb226-783f-4e4f-a9c0-6770aec2b4a1', '_collection_name': 'Amazon'}, page_content='25 https://blog.aboutamazon.eu/aws/amazon-web-services-backs-new-swedish-water-conservation-project-to-protect-against-flooding-boost-water-quality-and-biodiversity\\n\\n26 https://blog.aboutamazon.eu/aws/local-community-buildings-in-ireland-to-be-heated-by-amazon-data-centre\\n\\n27 https://www.aboutamazon.com/news/amazon-offices/the-next-chapter-for-hq2-sustainable-buildings-surrounded-by-nature\\n\\n28 https://blog.aboutamazon.eu/sustainability/amazon-supports-fight-against-climate-change-effects-on-european-cities\\n\\namazon\\n\\nAmazon Sustainable Bond Framework\\n\\n8\\n\\n4.4.2 Impact Reporting\\n\\nExamples of the impact metrics that may be included in any report we publish may include:\\n\\nProject Category Example Impact Metrics Clean Transportation • Number of EV charging ports installed for our transport fleets. • Number of orders transported in zero-emissions delivery vehicle or by a delivery associate on foot or on bicycle. Renewable Energy • Renewable energy capacity commitments (MW). Sustainable Buildings • Square footage built that is Gold or Platinum LEED-certified. AffordableHousing • Number of families/individuals benefitting from affordable housing (also using SAHF Outcome Metrics).29 • Number of affordable housing units constructed/preserved. Socioeconomic • Number of individuals or employees participating in upskilling programs or Advancement and graduating from Career Choice. Empowerment\\nHTML Content: <table><thead><tr><th>Project Category</th><th>Example Impact Metrics</th></tr></thead><tbody><tr><td>Clean Transportation</td><td>. Number of EV charging ports installed for our transport fleets. Number of orders transported in zero-emissions delivery vehicle or by a delivery associate on foot or on bicycle. •</td></tr><tr><td>Renewable Energy</td><td>Renewable energy capacity commitments (MW). •</td></tr><tr><td>Sustainable Buildings</td><td>Square footage built that is Gold or Platinum LEED-certified. •</td></tr><tr><td>Affordable Housing</td><td>Number of families/individuals benefitting from affordable housing (also using SAHF Outcome Metrics).?® Number of affordable housing units constructed/preserved. •</td></tr><tr><td>Socioeconomic Advancement and Empowerment</td><td>Number of individuals or employees participating in upskilling programs or graduating from Career Choice. •</td></tr></tbody></table>\\nSummary: - Table Name: Impact Metrics by Project Category\\n- Summary: The table outlines various project categories along with their corresponding impact metrics, illustrating the specific contributions of each category towards sustainability and social advancement.\\n- Context: This table serves to highlight the measurable outcomes of different initiatives in areas such as clean transportation, renewable energy, sustainable buildings, affordable housing, and socioeconomic empowerment. It emphasizes the importance of tracking these metrics to assess progress and effectiveness in achieving environmental and social goals.\\n- Alternative Name: Project Categories and Their Impact Metrics'), Document(metadata={'element_id': '2dc3f3c439a0abc31f3a774012d1bc91', 'filename': 'Amazon-com-Inc-2024-Proxy-Statement.pdf', 'page_number': 12, 'is_continuation': False, '_id': '340fcd36-9d4b-401e-875e-b8ad854fd40b', '_collection_name': 'Amazon'}, page_content='Our Planet\\n\\nWe combine data and science with passion and invention to drive everything we do, and we’re applying that same tenacity to how we address some of the world’s biggest environmental challenges.\\n\\nWe set a goal to reach net-zero carbon by 2040 as part of The Climate Pledge, which Amazon co-founded and became the first signatory of in 2019. The Climate Pledge brings together the world’s top companies to accelerate joint action, cross-sector collaboration, and responsible change. We are joined by more than 450 Pledge signatories to date. We also continue to invest in innovation through the Climate Pledge Fund, a $2 billion venture investment program supporting the advancement of sustainable technologies and services.\\n\\nWe continue investing in carbon-free energy to lower our emissions. Some of the highlights in this area include:\\n\\n• We were named the largest corporate buyer of renewable energy according to BloombergNEF for the fourth year in a row.\\n\\n• We invested in more than 100 new solar and wind projects in 2023 and now have more than 500 wind and solar projects globally.\\n\\n• We are innovating through new approaches to renewable energy, both directly—including our first brownfield solar project, which will repurpose a previously polluted Maryland coal mine site into a solar farm—and indirectly—including through the Right Now Climate Fund, which supports projects like a first-of-its-kind seaweed farm and a year’s worth of scientific research into carbon reduction through seaweed farming.'), Document(metadata={'element_id': '4dd79ec32a4c0ec64f0c71f7aa7b77bd', 'filename': 'Amazon-Sustainable-Bond-Framework.pdf', 'page_number': 5, 'is_continuation': False, '_id': '779859bd-5ac0-4025-a20d-d0dd7c475736', '_collection_name': 'Amazon'}, page_content=\"4.1 Eligible Projects\\n\\n“Eligible Projects” are investments and expenditures, including private equity investments, loans, and other financing structures, made by Amazon or any of its subsidiaries from the issuance date of any Green, Social, or Sustainability Bonds and including the 24 months prior to any such issuance that meet the eligibility criteria outlined below:\\n\\nGreen Eligible Eligibility Criteria and Example Projects Sustainable Project Category Development Goal (SDG) Clean Expenditures related to the design, development, 9 – Industry, Innovation Transportation construction, maintenance, and operation of electric and and Infrastructure alternative vehicles and related infrastructure. Example 13 – Climate Action projects may include, but are not limited to: • Acquisition of electric vehicles for transportation fleets. 2, 3, 4 • Acquisition of electric alternative delivery vehicles such as e-bikes, electric three-wheelers, and pedal-assist electric bikes connected to cargo trailers.5 • Installation of electric vehicle charging stations.6 • Private equity investments in clean transportation, where a minimum of 90% of the company’s revenues are derived from clean transportation.7 Renewable Expenditures related to the construction, development, 7 – Affordable and Clean Energy acquisition, maintenance, and operation of renewable energy Energy generation (solar and wind 8), as well as renewable energy storage projects.9 Example projects may include, but are not 9 – Industry, Innovation, and Infrastructure limited to: 11 – Sustainable Cities • On-site renewable energy projects and storage installations.10 and Communities • Renewable energy power purchase agreements (PPAs). 13 – Climate Action • Investments in utility programs that add new renewable energy to the grid.\\nHTML Content: <table><thead><tr><th>Green Eligible Project Category</th><th>Eligibility Criteria and Example Projects</th><th>Sustainable Development Goal (SDG)</th></tr></thead><tbody><tr><td>Clean Transportation</td><td>Expenditures related to the design, development, construction, maintenance, and operation of electric and alternative vehicles and related infrastructure. Example projects may include, but are not limited to: . Acquisition of electric vehicles for transportation fleets.? 4 . Acquisition of electric alternative delivery vehicles such as e-bikes, electric three-wheelers, and pedal-assist electric bikes connected to cargo trailers. Installation of electric vehicle charging stations.® Private equity investments in clean transportation, where a minimum of 90% of the company's revenues are derived from clean transportation.” • \\n •</td><td>9—Industry, Innovation and Infrastructure 13 - Climate Action</td></tr><tr><td>Renewable Energy</td><td>Expenditures related to the construction, development, acquisition, maintenance, and operation of renewable energy</td><td>7 — Affordable and Clean Energy</td></tr><tr><td></td><td>storage projects.” Example projects may include, but are not limited to: . On-site renewable energy projects and storage installations.™ . Renewable energy power purchase agreements (PPAs). . Investments in utility programs that add new renewable energy to the grid.</td><td>9-Industry, Innovation, and Infrastructure 11 - Sustainable Cities and Communities 13 - Climate Action</td></tr></tbody></table>\\nSummary: - Table Name: Green Eligible Project Categories and Their Criteria\\n- Summary: The table outlines various green project categories, such as Clean Transportation and Renewable Energy, detailing eligibility criteria and example projects, while linking them to relevant Sustainable Development Goals (SDGs).\\n- Context: This table serves to inform stakeholders about the types of projects that qualify for green funding and investment, highlighting their contributions to sustainable development and climate action, thus facilitating informed decision-making in environmental finance.\\n- Alternative Name: Criteria for Green Project Eligibility and SDG Alignment\"), Document(metadata={'element_id': '9f6808bffb080c0c8db78a85b1c7afef', 'filename': 'Amazon-com-Inc-2024-Proxy-Statement.pdf', 'page_number': 69, 'is_continuation': False, '_id': 'fcd2ea7d-2296-476d-b214-1019d0201070', '_collection_name': 'Amazon'}, page_content='In addition, as the world’s largest corporate renewable energy purchaser for the fourth year in a row, we have a unique role to play in supporting a just, equitable, and sustainable energy transition. For example, we are a founding member of Beyond the Megawatt, an initiative of the Clean Energy Buyers Institute to maximize the environmental and social benefits of the clean energy transition.46 As a member, we support Beyond the Megawatt’s efforts to address resilience, social equity, and environmental protection issues by scaling impact-oriented clean-energy procurement strategies. We partnered with USAID, the BHP Foundation, and the Chandler Foundation on the Powering a Just Energy Transition Green Minerals Challenge, which seeks to catalyze the development, application, and scaling of innovations to strengthen transparency and counter corruption in critical mineral supply chains for the clean energy transition.47 A global clean energy transition will require increased supplies of minerals that power more-sustainable technologies. This rise in demand has the potential to benefit millions through inclusive economic growth—if managed responsibly to prevent corruption and resource exploitation in “green” mineral-rich countries. We have also made a $53 million commitment to address gender inequities that exist for women in the climate finance ecosystem and to support female entrepreneurs with the resources they need to accelerate climate change innovations, including by serving as a founding partner of the Climate Gender Equity Fund, which has raised')]\n",
            "[Document(metadata={'element_id': '0ce1aee2cc8a054edb4ce822dfb2e6fa', 'filename': 'Amazon-com-Inc-2024-Proxy-Statement.pdf', 'page_number': 74, 'is_continuation': False, '_id': '0af667b6-9fa4-4213-b38e-2de510b88d9f', '_collection_name': 'Amazon'}, page_content='Over the last several years, investment in this sort of innovation, as well as other technologies, processes, and materials have helped reduce the weight of our packaging per shipment by 41% on average and avoided more than 2 million tons of packaging material since 2015.63 To further incentivize sustainability efforts, we also partner with brands, vendors, and manufacturers through Climate Pledge Friendly, which helps customers discover and shop for more-sustainable products. There are currently more than 550,000 products available through Climate Pledge Friendly,64 with every product having one or more of over 50 qualifying sustainability certifications that help preserve the natural world, including our own Compact by Design, Plant-Based Fiber Blended, and Pre-owned Certified.65'), Document(metadata={'element_id': '05ffc8f5fdf4204b416c255a623cb4ab', 'filename': 'Amazon-com-Inc-2024-Proxy-Statement.pdf', 'page_number': 74, 'is_continuation': False, '_id': '03f5b24b-5cfa-4be5-ae63-7fad02fb37e2', '_collection_name': 'Amazon'}, page_content='Products Manufactured by Other Companies\\n\\nMost of the products we sell are manufactured by other companies. We recognize that we can help manufacturers reduce their use of plastics and have partnered with them to scale sustainable packaging development across our supply chain. For example, our industry leading Ships in Product Packaging (“SIPP”) program financially incentivizes manufacturers to package their products in easy-to-open, 100% recyclable packaging, including plastics. The SIPP program also allows us to ship products in their own containers, eliminating all additional packaging material for these products, including plastics. Through the SIPP program and related packaging design and testing services, we have helped manufacturers develop more sustainable packaging. We also use machine learning to identify products that can easily qualify for the program and reach out to selling partners to get them certified. In 2022, we shipped 11% of our packages globally without additional Amazon packaging, including 12% of shipments in the U.S. and Canada (up from 10% in 2021) and 7% of shipments in the EU (up from 5% in 2021).62 In 2024, we plan to expand the program from only vendors to sellers who use fulfillment by Amazon.'), Document(metadata={'element_id': 'eb545aeef92f583502cee785b4b2543e', 'filename': 'Amazon-com-Inc-2024-Proxy-Statement.pdf', 'page_number': 74, 'is_continuation': False, '_id': 'a0243cc9-9d70-4a34-9b00-4b8f3e44fdab', '_collection_name': 'Amazon'}, page_content='Amazon Devices and Private Label Products\\n\\nBy the end of 2022, 79.5% of our device product launches that year had 100% recyclable packaging.66 Additionally, we are working to source 100% of the wood fiber in device packaging from responsibly managed forests or recycled sources. We are also incorporating recycled plastics, fabrics, and metals into many new Amazon devices. In 2022, we launched Echo, Fire TV, Fire tablet, Kindle, and smart home products that include up to 75% recycled plastic, up to 100% recycled yarn, up to 100% recycled aluminum, and up to 90% recycled magnesium, depending on the product. We also incorporated 50% recycled plastic into certain power adapters that ship with our devices.67 We are also working with our suppliers to ensure sustainability is a priority. For example, in 2021, we launched a Zero Waste to Landfill program with 10 device supplier sites, and in 2022, we expanded the program to certify all China-based final assembly sites that manufacture our most popular Echo,\\n\\n60 See https://sustainability.aboutamazon.com/environment/packaging.\\n\\n61 See https://www.aboutamazon.com/news/sustainability/amazon-fulfillment-center-eliminates-plastic-packaging.\\n\\n62 See Amazon 2022 Sustainability Report: Building a Better Future Together at 27.\\n\\n63 See Amazon 2022 Sustainability Report: Building a Better Future Together at 12.\\n\\n64 See Amazon 2022 Sustainability Report: Building a Better Future Together at 48; see also, https://www.amazon.com/b?ie=UTF8&node=24066636011.'), Document(metadata={'element_id': '429d55b4870aa1b3caa37a9756a3b038', 'filename': 'Amazon-com-Inc-2024-Proxy-Statement.pdf', 'page_number': 74, 'is_continuation': False, '_id': '4b34a611-3263-4801-a186-b407229472d5', '_collection_name': 'Amazon'}, page_content='65 See https://www.amazon.com/b?node=21221608011.\\n\\n66 See https://sustainability.aboutamazon.com/products-services/devices.\\n\\n67 See https://sustainability.aboutamazon.com/products-services/devices.\\n\\n2024 Proxy Statement\\n\\n59\\n\\nSHAREHOLDER PROPOSALS\\n\\nKindle, Fire tablet, and Fire TV devices. Other sites covered by the program include manufacturers of device accessories, components, and packaging. In 2022, 12 new sites were certified, bringing our total number of certified supplier sites to 22 at the end of 2022, all of which have achieved UL’s Zero Waste to Landfill certification at Silver or better.68\\n\\nWe provide various programs and resources through our Amazon Second Chance website69 to equip customers with information on how to trade in, recycle, or repair Amazon devices and products, how to recycle Amazon packaging, and how to shop for like-new and refurbished products. All of these programs and resources reduce waste and encourage reuse.\\n\\nPhysical Stores')]\n",
            "[Document(metadata={'element_id': '9f6808bffb080c0c8db78a85b1c7afef', 'filename': 'Amazon-com-Inc-2024-Proxy-Statement.pdf', 'page_number': 69, 'is_continuation': False, '_id': 'fcd2ea7d-2296-476d-b214-1019d0201070', '_collection_name': 'Amazon'}, page_content='In addition, as the world’s largest corporate renewable energy purchaser for the fourth year in a row, we have a unique role to play in supporting a just, equitable, and sustainable energy transition. For example, we are a founding member of Beyond the Megawatt, an initiative of the Clean Energy Buyers Institute to maximize the environmental and social benefits of the clean energy transition.46 As a member, we support Beyond the Megawatt’s efforts to address resilience, social equity, and environmental protection issues by scaling impact-oriented clean-energy procurement strategies. We partnered with USAID, the BHP Foundation, and the Chandler Foundation on the Powering a Just Energy Transition Green Minerals Challenge, which seeks to catalyze the development, application, and scaling of innovations to strengthen transparency and counter corruption in critical mineral supply chains for the clean energy transition.47 A global clean energy transition will require increased supplies of minerals that power more-sustainable technologies. This rise in demand has the potential to benefit millions through inclusive economic growth—if managed responsibly to prevent corruption and resource exploitation in “green” mineral-rich countries. We have also made a $53 million commitment to address gender inequities that exist for women in the climate finance ecosystem and to support female entrepreneurs with the resources they need to accelerate climate change innovations, including by serving as a founding partner of the Climate Gender Equity Fund, which has raised'), Document(metadata={'element_id': '4dd79ec32a4c0ec64f0c71f7aa7b77bd', 'filename': 'Amazon-Sustainable-Bond-Framework.pdf', 'page_number': 5, 'is_continuation': False, '_id': '779859bd-5ac0-4025-a20d-d0dd7c475736', '_collection_name': 'Amazon'}, page_content=\"4.1 Eligible Projects\\n\\n“Eligible Projects” are investments and expenditures, including private equity investments, loans, and other financing structures, made by Amazon or any of its subsidiaries from the issuance date of any Green, Social, or Sustainability Bonds and including the 24 months prior to any such issuance that meet the eligibility criteria outlined below:\\n\\nGreen Eligible Eligibility Criteria and Example Projects Sustainable Project Category Development Goal (SDG) Clean Expenditures related to the design, development, 9 – Industry, Innovation Transportation construction, maintenance, and operation of electric and and Infrastructure alternative vehicles and related infrastructure. Example 13 – Climate Action projects may include, but are not limited to: • Acquisition of electric vehicles for transportation fleets. 2, 3, 4 • Acquisition of electric alternative delivery vehicles such as e-bikes, electric three-wheelers, and pedal-assist electric bikes connected to cargo trailers.5 • Installation of electric vehicle charging stations.6 • Private equity investments in clean transportation, where a minimum of 90% of the company’s revenues are derived from clean transportation.7 Renewable Expenditures related to the construction, development, 7 – Affordable and Clean Energy acquisition, maintenance, and operation of renewable energy Energy generation (solar and wind 8), as well as renewable energy storage projects.9 Example projects may include, but are not 9 – Industry, Innovation, and Infrastructure limited to: 11 – Sustainable Cities • On-site renewable energy projects and storage installations.10 and Communities • Renewable energy power purchase agreements (PPAs). 13 – Climate Action • Investments in utility programs that add new renewable energy to the grid.\\nHTML Content: <table><thead><tr><th>Green Eligible Project Category</th><th>Eligibility Criteria and Example Projects</th><th>Sustainable Development Goal (SDG)</th></tr></thead><tbody><tr><td>Clean Transportation</td><td>Expenditures related to the design, development, construction, maintenance, and operation of electric and alternative vehicles and related infrastructure. Example projects may include, but are not limited to: . Acquisition of electric vehicles for transportation fleets.? 4 . Acquisition of electric alternative delivery vehicles such as e-bikes, electric three-wheelers, and pedal-assist electric bikes connected to cargo trailers. Installation of electric vehicle charging stations.® Private equity investments in clean transportation, where a minimum of 90% of the company's revenues are derived from clean transportation.” • \\n •</td><td>9—Industry, Innovation and Infrastructure 13 - Climate Action</td></tr><tr><td>Renewable Energy</td><td>Expenditures related to the construction, development, acquisition, maintenance, and operation of renewable energy</td><td>7 — Affordable and Clean Energy</td></tr><tr><td></td><td>storage projects.” Example projects may include, but are not limited to: . On-site renewable energy projects and storage installations.™ . Renewable energy power purchase agreements (PPAs). . Investments in utility programs that add new renewable energy to the grid.</td><td>9-Industry, Innovation, and Infrastructure 11 - Sustainable Cities and Communities 13 - Climate Action</td></tr></tbody></table>\\nSummary: - Table Name: Green Eligible Project Categories and Their Criteria\\n- Summary: The table outlines various green project categories, such as Clean Transportation and Renewable Energy, detailing eligibility criteria and example projects, while linking them to relevant Sustainable Development Goals (SDGs).\\n- Context: This table serves to inform stakeholders about the types of projects that qualify for green funding and investment, highlighting their contributions to sustainable development and climate action, thus facilitating informed decision-making in environmental finance.\\n- Alternative Name: Criteria for Green Project Eligibility and SDG Alignment\"), Document(metadata={'element_id': '2dc3f3c439a0abc31f3a774012d1bc91', 'filename': 'Amazon-com-Inc-2024-Proxy-Statement.pdf', 'page_number': 12, 'is_continuation': False, '_id': '340fcd36-9d4b-401e-875e-b8ad854fd40b', '_collection_name': 'Amazon'}, page_content='Our Planet\\n\\nWe combine data and science with passion and invention to drive everything we do, and we’re applying that same tenacity to how we address some of the world’s biggest environmental challenges.\\n\\nWe set a goal to reach net-zero carbon by 2040 as part of The Climate Pledge, which Amazon co-founded and became the first signatory of in 2019. The Climate Pledge brings together the world’s top companies to accelerate joint action, cross-sector collaboration, and responsible change. We are joined by more than 450 Pledge signatories to date. We also continue to invest in innovation through the Climate Pledge Fund, a $2 billion venture investment program supporting the advancement of sustainable technologies and services.\\n\\nWe continue investing in carbon-free energy to lower our emissions. Some of the highlights in this area include:\\n\\n• We were named the largest corporate buyer of renewable energy according to BloombergNEF for the fourth year in a row.\\n\\n• We invested in more than 100 new solar and wind projects in 2023 and now have more than 500 wind and solar projects globally.\\n\\n• We are innovating through new approaches to renewable energy, both directly—including our first brownfield solar project, which will repurpose a previously polluted Maryland coal mine site into a solar farm—and indirectly—including through the Right Now Climate Fund, which supports projects like a first-of-its-kind seaweed farm and a year’s worth of scientific research into carbon reduction through seaweed farming.'), Document(metadata={'element_id': 'b15f39e4763df87c474bef62cd124016', 'filename': 'Note-on-Alignment-with-Paris-Agreement.pdf', 'page_number': 1, 'is_continuation': False, '_id': '2ae9b15e-d1a8-4634-970e-081f7a8d751a', '_collection_name': 'Amazon'}, page_content='Alignment of Our Public Policy Activities with the Paris Agreement Goals\\n\\nWe know we can’t address climate change alone and believe that the public and private sectors must act together to tackle the scale of the climate challenge. In a blog post last April we outlined how public policy is a key lever for climate progress. Amazon has a strong record of supporting policies that advance climate solutions at all levels, and our lobbying and advocacy activities are tightly aligned with the Paris Agreement goals.\\n\\nAmazon’s Direct Efforts to Support the Paris Agreement Goals\\n\\nWe advocate in support of public policy that advances the Paris Agreement by promoting access to and the expansion of clean energy, sustainable transportation, and other decarbonizing solutions. As described in our policy position on climate change:\\n\\nWe believe that human-induced climate change is real, serious, and action is needed from the public and private sectors. Our position regarding climate change is that the overwhelming majority of climate scientists agree that human activities are contributing to climate-warming trends over the past century, and most leading scientific organizations worldwide have issued public statements\\n\\nendorsing this position. We agree and have created The Climate Pledge—a commitment to reach the Paris Agreement 10 years early.\\n\\nOur U.S. federal lobbying activities are disclosed quarterly online, consistent with the Lobbying Disclosure Act of 1995. During 2020, the last full year for which we have reported data, and the first three quarters of 2021, Amazon’s direct lobbying efforts with Congress and the Executive Branch addressed issues related to Amazon’s Climate Pledge, including alternative fuel vehicles, electric vehicle charging infrastructure, sustainable aviation fuels, renewable electricity, federal fleet electrification, renewable energy tax credits, and low-carbon R&D. We also support these policies in many other jurisdictions around the world.')]\n"
          ]
        }
      ]
    },
    {
      "cell_type": "code",
      "source": [
        "self_query_retriever = RetrievalQA.from_chain_type(\n",
        "    llm=gemini_llm,\n",
        "    retriever=retriever,\n",
        "    chain_type=\"stuff\",\n",
        "    return_source_documents=True\n",
        ")\n",
        "# Initialize the Cohere Reranker with version 3.5\n",
        "cohere_reranker = CohereRerank(model=\"rerank-v3.5\")\n",
        "\n",
        "# Use ContextualCompressionRetriever to integrate Cohere Rerank\n",
        "compression_retriever = ContextualCompressionRetriever(\n",
        "    base_compressor=cohere_reranker,\n",
        "    base_retriever=retriever  # Your base retriever setup (e.g., self_query_retriever)\n",
        ")\n",
        "Cohere_Retriever= compression_retriever.get_relevant_documents(query)\n",
        "from langchain.schema.runnable import RunnablePassthrough, RunnableLambda\n",
        "from langchain.schema.output_parser import StrOutputParser\n",
        "\n",
        "# Step 1: Define Document Formatter\n",
        "def format_docs(docs):\n",
        "    \"\"\"Format LangChain documents into readable strings.\"\"\"\n",
        "    return \"\\n\\n\".join(\n",
        "        f\"Filename: {doc.metadata.get('filename', 'Unknown Filename')}\\n\"\n",
        "        f\"Page Number: {doc.metadata.get('page_number', 'N/A')}\\n\"\n",
        "        f\"Content: {doc.page_content}\"\n",
        "        for doc in docs\n",
        "    )\n",
        "\n",
        "# Step 2: Define Final Answer Extractor\n",
        "def extract_final_answer(output):\n",
        "    \"\"\"Extract the final answer from the model's response.\"\"\"\n",
        "    return output.strip()\n",
        "# Step 4: Create the Retrieval Chain\n",
        "# Step 5: Create the Retrieval Chain\n",
        "retrieval_chain = (\n",
        "    {\n",
        "        \"context\": RunnableLambda(lambda _: format_docs(Cohere_Retriever)),  # Use pre-retrieved docs\n",
        "        \"question\": RunnablePassthrough(),  # Pass the question directly\n",
        "    }\n",
        "    | RunnableLambda(lambda inputs: qa_prompt.format(context=inputs[\"context\"], question=inputs[\"question\"]))  # Format the prompt\n",
        "    | gemini_llm  # Pass the formatted prompt to the LLM\n",
        "    | StrOutputParser()  # Parse the output to a string\n",
        "    #| RunnableLambda(lambda x: extract_final_answer(x))  # Extract final answer\n",
        ")\n"
      ],
      "metadata": {
        "id": "hKPV01aNETEd"
      },
      "execution_count": null,
      "outputs": []
    },
    {
      "cell_type": "code",
      "source": [
        "query =\"What is the Difference of footage between 2022 and 2023 for Item 2. Properties\"\n",
        "response = retrieval_chain.invoke(query)  # Use 'invoke' for modern LangChain"
      ],
      "metadata": {
        "id": "SyVQtn5A78ag"
      },
      "execution_count": null,
      "outputs": []
    },
    {
      "cell_type": "code",
      "source": [
        "response"
      ],
      "metadata": {
        "colab": {
          "base_uri": "https://localhost:8080/"
        },
        "id": "LYfiYJW5aNNV",
        "outputId": "991620db-977e-4fe8-bde5-579668137446"
      },
      "execution_count": null,
      "outputs": [
        {
          "output_type": "execute_result",
          "data": {
            "text/plain": [
              "'Leased square footage increased by 46,608 thousand square feet and owned square footage increased by 18,236 thousand square feet between 2022 and 2023.\\n\\nAdditional Context:\\n2022:  617,483 thousand sq ft (leased) and 43,927 thousand sq ft (owned)\\n2023:  664,091 thousand sq ft (leased) and 52,163 thousand sq ft (owned)\\nDifference (Leased): 664,091 - 617,483 = 46,608\\nDifference (Owned): 52,163 - 43,927 = 18,236'"
            ]
          },
          "metadata": {},
          "execution_count": 124
        }
      ]
    },
    {
      "cell_type": "code",
      "source": [
        "# Run queries and print results\n",
        "for query in queries:\n",
        "    print(f\"Query: {query}\")\n",
        "    response = retrieval_qa_chain.invoke({\"query\": query})  # Use 'invoke' for modern LangChain\n",
        "    print(f\"Answer: {response['result']}\")\n",
        "    print(\"-\" * 80)"
      ],
      "metadata": {
        "colab": {
          "base_uri": "https://localhost:8080/"
        },
        "collapsed": true,
        "id": "eRqjnIFMViFl",
        "outputId": "cb1d6124-3e9d-4866-af66-6216bb0a3fa5"
      },
      "execution_count": null,
      "outputs": [
        {
          "output_type": "stream",
          "name": "stdout",
          "text": [
            "Query: Find projects or products released after 2020 related to renewable energy or clean transportation that have impactful metrics or ratings above 8.5.\n",
            "Answer: This request can't be fulfilled. While the provided text references Amazon's investments in renewable energy and clean transportation, including specific examples like electric vehicle fleets and charging stations, it doesn't offer specific metrics or ratings for individual projects or products released after 2020.  Therefore, it's not possible to identify projects or products meeting the specified criteria based on the available information.\n",
            "\n",
            "--------------------------------------------------------------------------------\n",
            "Query: List all projects in the clean transportation category, such as electric vehicles, charging infrastructure, or alternative delivery systems.\n",
            "Answer: The following are listed as example projects under the Clean Transportation category:\n",
            "\n",
            "* Acquisition of electric vehicles for transportation fleets.\n",
            "* Acquisition of electric alternative delivery vehicles such as e-bikes, electric three-wheelers, and pedal-assist electric bikes connected to cargo trailers.\n",
            "* Installation of electric vehicle charging stations.\n",
            "* Private equity investments in clean transportation, where a minimum of 90% of the company’s revenues are derived from clean transportation.\n",
            "\n",
            "--------------------------------------------------------------------------------\n",
            "Query: Show renewable energy projects, including solar, wind, and energy storage initiatives, with measurable metrics or significant impact.\n",
            "Answer: Amazon's 2023 Sustainability Report highlights investment in over 100 new solar and wind projects, totaling over 500 globally.  They were the largest corporate buyer of renewable energy for the fourth year in a row (according to BloombergNEF).  Specific projects mentioned include a brownfield solar project repurposing a former coal mine in Maryland and investment in a first-of-its-kind seaweed farm for carbon reduction research through the Right Now Climate Fund.  While the report doesn't provide specific MW capacity commitments, it emphasizes measurable impact through these large-scale investments and innovative approaches.\n",
            "\n",
            "--------------------------------------------------------------------------------\n",
            "Query: What innovations does Amazon have regarding sustainable packaging as mentioned on page 74 of the 2024 Proxy Statement?\n",
            "Answer: Amazon's innovations for sustainable packaging include:\n",
            "\n",
            "* **Reducing packaging weight:** Investments in technology, processes, and materials have reduced packaging weight per shipment by 41% on average and avoided over 2 million tons of packaging material since 2015.\n",
            "* **Climate Pledge Friendly:**  A program partnering with brands to help customers discover and shop for more sustainable products, featuring over 550,000 products with one or more of 50+ sustainability certifications.  Certifications include Amazon's own \"Compact by Design,\" \"Plant-Based Fiber Blended,\" and \"Pre-owned Certified.\"\n",
            "* **Ships in Product Packaging (SIPP):** This program incentivizes manufacturers to use easy-to-open, 100% recyclable packaging, often eliminating additional packaging altogether.  In 2022, 11% of global shipments used SIPP.  The program is expanding in 2024 to include sellers who use Fulfillment by Amazon.\n",
            "* **Recyclable device packaging:** 79.5% of 2022 device product launches had 100% recyclable packaging.  Amazon is working to source 100% of wood fiber in device packaging from responsibly managed forests or recycled sources.\n",
            "* **Incorporation of recycled materials in devices:**  Amazon is incorporating recycled plastics, fabrics, and metals into new devices.  Examples include up to 75% recycled plastic, 100% recycled yarn, 100% recycled aluminum, and 90% recycled magnesium in various Echo, Fire TV, Fire tablet, Kindle, and smart home products.  Some power adapters include 50% recycled plastic.\n",
            "* **Zero Waste to Landfill program:**  This program with device supplier sites aims to achieve UL's Zero Waste to Landfill certification at Silver level or better.  22 sites were certified by the end of 2022.\n",
            "* **Amazon Second Chance website:** This website provides resources for customers on trading in, recycling, or repairing Amazon devices and products, recycling Amazon packaging, and shopping for like-new and refurbished products.\n",
            "\n",
            "--------------------------------------------------------------------------------\n",
            "Query: Retrieve projects or investments aligned with SDG 13 Climate Action, including renewable energy and clean transportation initiatives.\n",
            "Answer: * **Clean Transportation:** Investments in electric and alternative vehicles (e-bikes, electric three-wheelers, etc.) and related infrastructure like charging stations.  Also includes private equity investments in clean transportation companies (90% of revenue from clean transportation).\n",
            "\n",
            "* **Renewable Energy:** Investments in construction, development, acquisition, maintenance, and operation of renewable energy generation (solar and wind) and storage projects. This includes on-site projects, power purchase agreements (PPAs), and investments in utility programs adding new renewable energy to the grid.\n",
            "\n",
            "* **The Climate Pledge:** Amazon co-founded and signed The Climate Pledge, committing to net-zero carbon by 2040.  This includes investment in sustainable technologies and services through the $2 billion Climate Pledge Fund.  Amazon also invests in carbon-free energy, including over 500 wind and solar projects globally, and innovative approaches like repurposing a coal mine for a solar farm and seaweed farming for carbon reduction.\n",
            "\n",
            "* **Public Policy Advocacy:** Amazon advocates for policies supporting the Paris Agreement goals, including access to and expansion of clean energy, sustainable transportation, and other decarbonizing solutions.  Their lobbying efforts address alternative fuel vehicles, electric vehicle charging infrastructure, sustainable aviation fuels, renewable electricity, federal fleet electrification, renewable energy tax credits, and low-carbon R&D.\n",
            "\n",
            "--------------------------------------------------------------------------------\n"
          ]
        }
      ]
    },
    {
      "cell_type": "code",
      "source": [
        "response = retrieval_chain.invoke(query)"
      ],
      "metadata": {
        "id": "fju8Fp2afUOK"
      },
      "execution_count": null,
      "outputs": []
    },
    {
      "cell_type": "code",
      "source": [
        "response"
      ],
      "metadata": {
        "colab": {
          "base_uri": "https://localhost:8080/",
          "height": 70
        },
        "id": "GtOp-JMtt9Ei",
        "outputId": "b18f49bd-b258-44ca-e3ca-2c297677f33f"
      },
      "execution_count": null,
      "outputs": [
        {
          "output_type": "execute_result",
          "data": {
            "text/plain": [
              "\"Andy Jassy stated that it was a good start to the year across the business, reflected in both customer experience improvements and financial results. He highlighted the reaccelerated growth rate of AWS, driven by companies renewing infrastructure modernization efforts and the appeal of AWS's AI capabilities; the expansion of selection, lower prices, and faster delivery speeds in the Stores business; and the continued benefit to Advertising efforts from the growth of Stores and Prime Video. He also expressed excitement about future potential to improve customers' lives.\""
            ],
            "application/vnd.google.colaboratory.intrinsic+json": {
              "type": "string"
            }
          },
          "metadata": {},
          "execution_count": 46
        }
      ]
    }
  ]
}